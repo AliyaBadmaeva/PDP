{
  "nbformat": 4,
  "nbformat_minor": 0,
  "metadata": {
    "colab": {
      "provenance": [],
      "gpuType": "T4",
      "authorship_tag": "ABX9TyM/WlCc3cpSO3iOayq3xKME",
      "include_colab_link": true
    },
    "kernelspec": {
      "name": "python3",
      "display_name": "Python 3"
    },
    "language_info": {
      "name": "python"
    },
    "accelerator": "GPU"
  },
  "cells": [
    {
      "cell_type": "markdown",
      "metadata": {
        "id": "view-in-github",
        "colab_type": "text"
      },
      "source": [
        "<a href=\"https://colab.research.google.com/github/AliyaBadmaeva/PDP/blob/main/Badmaeva_A_A__PDP.ipynb\" target=\"_parent\"><img src=\"https://colab.research.google.com/assets/colab-badge.svg\" alt=\"Open In Colab\"/></a>"
      ]
    },
    {
      "cell_type": "markdown",
      "source": [],
      "metadata": {
        "id": "zD6rA4UVc7v9"
      }
    },
    {
      "cell_type": "code",
      "source": [
        "import os\n",
        "os.environ['TF_CPP_MIN_LOG_LEVEL'] = '1'"
      ],
      "metadata": {
        "id": "pM6Wr70jQKNk"
      },
      "execution_count": 1,
      "outputs": []
    },
    {
      "cell_type": "code",
      "source": [
        "!pip install matplotlib"
      ],
      "metadata": {
        "colab": {
          "base_uri": "https://localhost:8080/"
        },
        "id": "kYQXghj0mnWF",
        "outputId": "c9d345a8-6236-4042-d364-475f0055d2c9"
      },
      "execution_count": 1,
      "outputs": [
        {
          "output_type": "stream",
          "name": "stdout",
          "text": [
            "Requirement already satisfied: matplotlib in /home/aliuska/anaconda3/envs/my_pdp/lib/python3.13/site-packages (3.10.0)\r\n",
            "Requirement already satisfied: contourpy>=1.0.1 in /home/aliuska/anaconda3/envs/my_pdp/lib/python3.13/site-packages (from matplotlib) (1.3.1)\r\n",
            "Requirement already satisfied: cycler>=0.10 in /home/aliuska/anaconda3/envs/my_pdp/lib/python3.13/site-packages (from matplotlib) (0.11.0)\r\n",
            "Requirement already satisfied: fonttools>=4.22.0 in /home/aliuska/anaconda3/envs/my_pdp/lib/python3.13/site-packages (from matplotlib) (4.55.3)\r\n",
            "Requirement already satisfied: kiwisolver>=1.3.1 in /home/aliuska/anaconda3/envs/my_pdp/lib/python3.13/site-packages (from matplotlib) (1.4.8)\r\n",
            "Requirement already satisfied: numpy>=1.23 in /home/aliuska/anaconda3/envs/my_pdp/lib/python3.13/site-packages (from matplotlib) (2.2.5)\r\n",
            "Requirement already satisfied: packaging>=20.0 in /home/aliuska/anaconda3/envs/my_pdp/lib/python3.13/site-packages (from matplotlib) (24.2)\r\n",
            "Requirement already satisfied: pillow>=8 in /home/aliuska/anaconda3/envs/my_pdp/lib/python3.13/site-packages (from matplotlib) (11.1.0)\r\n",
            "Requirement already satisfied: pyparsing>=2.3.1 in /home/aliuska/anaconda3/envs/my_pdp/lib/python3.13/site-packages (from matplotlib) (3.2.0)\r\n",
            "Requirement already satisfied: python-dateutil>=2.7 in /home/aliuska/anaconda3/envs/my_pdp/lib/python3.13/site-packages (from matplotlib) (2.9.0.post0)\n",
            "Requirement already satisfied: six>=1.5 in /home/aliuska/anaconda3/envs/my_pdp/lib/python3.13/site-packages (from python-dateutil>=2.7->matplotlib) (1.17.0)\n"
          ]
        }
      ]
    },
    {
      "cell_type": "code",
      "source": [
        "!pip install scikit-learn"
      ],
      "metadata": {
        "colab": {
          "base_uri": "https://localhost:8080/"
        },
        "id": "sh930bmImx6F",
        "outputId": "09eebbab-d591-445c-cf4c-4c572a1d90ea"
      },
      "execution_count": 2,
      "outputs": [
        {
          "output_type": "stream",
          "name": "stdout",
          "text": [
            "Collecting scikit-learn\n",
            "  Downloading scikit_learn-1.7.0-cp313-cp313-manylinux_2_17_x86_64.manylinux2014_x86_64.whl.metadata (17 kB)\n",
            "Requirement already satisfied: numpy>=1.22.0 in /home/aliuska/anaconda3/envs/my_pdp/lib/python3.13/site-packages (from scikit-learn) (2.2.5)\n",
            "Collecting scipy>=1.8.0 (from scikit-learn)\n",
            "  Downloading scipy-1.15.3-cp313-cp313-manylinux_2_17_x86_64.manylinux2014_x86_64.whl.metadata (61 kB)\n",
            "Collecting joblib>=1.2.0 (from scikit-learn)\n",
            "  Using cached joblib-1.5.1-py3-none-any.whl.metadata (5.6 kB)\n",
            "Collecting threadpoolctl>=3.1.0 (from scikit-learn)\n",
            "  Using cached threadpoolctl-3.6.0-py3-none-any.whl.metadata (13 kB)\n",
            "Downloading scikit_learn-1.7.0-cp313-cp313-manylinux_2_17_x86_64.manylinux2014_x86_64.whl (12.5 MB)\n",
            "\u001b[2K   \u001b[90m━━━━━━━━━━━━━━━━━━━━━━━━━━━━━━━━━━━━━━━━\u001b[0m \u001b[32m12.5/12.5 MB\u001b[0m \u001b[31m9.7 MB/s\u001b[0m eta \u001b[36m0:00:00\u001b[0m\n",
            "\u001b[?25hUsing cached joblib-1.5.1-py3-none-any.whl (307 kB)\n",
            "Downloading scipy-1.15.3-cp313-cp313-manylinux_2_17_x86_64.manylinux2014_x86_64.whl (37.3 MB)\n",
            "\u001b[2K   \u001b[90m━━━━━━━━━━━━━━━━━━━━━━━━━━━━━━━━━━━━━━━━\u001b[0m \u001b[32m37.3/37.3 MB\u001b[0m \u001b[31m10.7 MB/s\u001b[0m eta \u001b[36m0:00:00\u001b[0m\n",
            "\u001b[?25hUsing cached threadpoolctl-3.6.0-py3-none-any.whl (18 kB)\n",
            "Installing collected packages: threadpoolctl, scipy, joblib, scikit-learn\n",
            "\u001b[2K   \u001b[90m━━━━━━━━━━━━━━━━━━━━━━━━━━━━━━━━━━━━━━━━\u001b[0m \u001b[32m4/4\u001b[0m [scikit-learn]\n",
            "\u001b[1A\u001b[2KSuccessfully installed joblib-1.5.1 scikit-learn-1.7.0 scipy-1.15.3 threadpoolctl-3.6.0\n"
          ]
        }
      ]
    },
    {
      "cell_type": "code",
      "source": [
        "import os\n",
        "import numpy as np\n",
        "import pandas as pd\n",
        "import matplotlib.pyplot as plt\n",
        "import seaborn as sns\n",
        "from sklearn.model_selection import train_test_split\n",
        "import itertools\n",
        "from sklearn.metrics import confusion_matrix, classification_report, accuracy_score\n",
        "import pandas as pd\n",
        "from sklearn.model_selection import train_test_split\n",
        "from sklearn.metrics import classification_report"
      ],
      "metadata": {
        "id": "wnmW7J50EbwS"
      },
      "execution_count": 3,
      "outputs": []
    },
    {
      "cell_type": "code",
      "source": [
        "!pip show transformers"
      ],
      "metadata": {
        "colab": {
          "base_uri": "https://localhost:8080/"
        },
        "id": "izM0FmeQKQhv",
        "outputId": "3bec6217-2427-496d-fc21-926eef0e2837"
      },
      "execution_count": 4,
      "outputs": [
        {
          "output_type": "stream",
          "name": "stdout",
          "text": [
            "Name: transformers\r\n",
            "Version: 4.52.4\r\n",
            "Summary: State-of-the-art Machine Learning for JAX, PyTorch and TensorFlow\r\n",
            "Home-page: https://github.com/huggingface/transformers\r\n",
            "Author: The Hugging Face team (past and future) with the help of all our contributors (https://github.com/huggingface/transformers/graphs/contributors)\r\n",
            "Author-email: transformers@huggingface.co\r\n",
            "License: Apache 2.0 License\r\n",
            "Location: /home/aliuska/anaconda3/envs/my_pdp/lib/python3.13/site-packages\r\n",
            "Requires: filelock, huggingface-hub, numpy, packaging, pyyaml, regex, requests, safetensors, tokenizers, tqdm\r\n",
            "Required-by: \r\n"
          ]
        }
      ]
    },
    {
      "cell_type": "code",
      "source": [
        "from transformers import BertTokenizer\n",
        "from transformers.optimization import get_linear_schedule_with_warmup"
      ],
      "metadata": {
        "id": "wB-QwDzmHMYW"
      },
      "execution_count": 5,
      "outputs": []
    },
    {
      "cell_type": "code",
      "source": [],
      "metadata": {
        "id": "aedujXwlsL_t"
      },
      "execution_count": null,
      "outputs": []
    },
    {
      "cell_type": "code",
      "source": [
        "import warnings\n",
        "warnings.filterwarnings('ignore')"
      ],
      "metadata": {
        "id": "QZq0moi5crM8"
      },
      "execution_count": 6,
      "outputs": []
    },
    {
      "cell_type": "code",
      "source": [
        "# ссылка на датасет на Гитхабе\n",
        "#IMDB = 'https://raw.githubusercontent.com/AliyaBadmaeva/imdb/master/IMDB_Dataset.zip'"
      ],
      "metadata": {
        "id": "aJYn6kzFdQjF"
      },
      "execution_count": null,
      "outputs": []
    },
    {
      "cell_type": "code",
      "source": [
        "train = pd.read_csv('train_df.csv')  # чтение данных с помощью библиотеки Pandas\n",
        "test = pd.read_csv('test_df.csv')\n",
        "val = pd.read_csv('val_df.csv')\n",
        "\n",
        "train.head(10)  # Первые 10 строк датасета"
      ],
      "metadata": {
        "colab": {
          "base_uri": "https://localhost:8080/",
          "height": 363
        },
        "id": "UeafEJwNdvVE",
        "outputId": "e0a72aa3-d894-4739-c2e1-cd7d801d3e8e"
      },
      "execution_count": 7,
      "outputs": [
        {
          "output_type": "execute_result",
          "data": {
            "text/plain": [
              "      id                                               text  label sentiment\n",
              "0   9536                    Cooking microwave pizzas, yummy      2  positive\n",
              "1   6135  Any plans of allowing sub tasks to show up in ...      1   neutral\n",
              "2  17697   I love the humor, I just reworded it. Like sa...      2  positive\n",
              "3  14182                       naw idk what ur talkin about      1   neutral\n",
              "4  17840          That sucks to hear. I hate days like that      0  negative\n",
              "5   3655   Umm yeah. That`s probably a pretty good note ...      2  positive\n",
              "6    719                              whatever do you mean?      1   neutral\n",
              "7  22823   That would panic me a little!  Maybe you can ...      0  negative\n",
              "8   4869               Is sad when people`s phones are dead      0  negative\n",
              "9    793                                          sad face.      0  negative"
            ],
            "text/html": [
              "<div>\n",
              "<style scoped>\n",
              "    .dataframe tbody tr th:only-of-type {\n",
              "        vertical-align: middle;\n",
              "    }\n",
              "\n",
              "    .dataframe tbody tr th {\n",
              "        vertical-align: top;\n",
              "    }\n",
              "\n",
              "    .dataframe thead th {\n",
              "        text-align: right;\n",
              "    }\n",
              "</style>\n",
              "<table border=\"1\" class=\"dataframe\">\n",
              "  <thead>\n",
              "    <tr style=\"text-align: right;\">\n",
              "      <th></th>\n",
              "      <th>id</th>\n",
              "      <th>text</th>\n",
              "      <th>label</th>\n",
              "      <th>sentiment</th>\n",
              "    </tr>\n",
              "  </thead>\n",
              "  <tbody>\n",
              "    <tr>\n",
              "      <th>0</th>\n",
              "      <td>9536</td>\n",
              "      <td>Cooking microwave pizzas, yummy</td>\n",
              "      <td>2</td>\n",
              "      <td>positive</td>\n",
              "    </tr>\n",
              "    <tr>\n",
              "      <th>1</th>\n",
              "      <td>6135</td>\n",
              "      <td>Any plans of allowing sub tasks to show up in ...</td>\n",
              "      <td>1</td>\n",
              "      <td>neutral</td>\n",
              "    </tr>\n",
              "    <tr>\n",
              "      <th>2</th>\n",
              "      <td>17697</td>\n",
              "      <td>I love the humor, I just reworded it. Like sa...</td>\n",
              "      <td>2</td>\n",
              "      <td>positive</td>\n",
              "    </tr>\n",
              "    <tr>\n",
              "      <th>3</th>\n",
              "      <td>14182</td>\n",
              "      <td>naw idk what ur talkin about</td>\n",
              "      <td>1</td>\n",
              "      <td>neutral</td>\n",
              "    </tr>\n",
              "    <tr>\n",
              "      <th>4</th>\n",
              "      <td>17840</td>\n",
              "      <td>That sucks to hear. I hate days like that</td>\n",
              "      <td>0</td>\n",
              "      <td>negative</td>\n",
              "    </tr>\n",
              "    <tr>\n",
              "      <th>5</th>\n",
              "      <td>3655</td>\n",
              "      <td>Umm yeah. That`s probably a pretty good note ...</td>\n",
              "      <td>2</td>\n",
              "      <td>positive</td>\n",
              "    </tr>\n",
              "    <tr>\n",
              "      <th>6</th>\n",
              "      <td>719</td>\n",
              "      <td>whatever do you mean?</td>\n",
              "      <td>1</td>\n",
              "      <td>neutral</td>\n",
              "    </tr>\n",
              "    <tr>\n",
              "      <th>7</th>\n",
              "      <td>22823</td>\n",
              "      <td>That would panic me a little!  Maybe you can ...</td>\n",
              "      <td>0</td>\n",
              "      <td>negative</td>\n",
              "    </tr>\n",
              "    <tr>\n",
              "      <th>8</th>\n",
              "      <td>4869</td>\n",
              "      <td>Is sad when people`s phones are dead</td>\n",
              "      <td>0</td>\n",
              "      <td>negative</td>\n",
              "    </tr>\n",
              "    <tr>\n",
              "      <th>9</th>\n",
              "      <td>793</td>\n",
              "      <td>sad face.</td>\n",
              "      <td>0</td>\n",
              "      <td>negative</td>\n",
              "    </tr>\n",
              "  </tbody>\n",
              "</table>\n",
              "</div>"
            ]
          },
          "metadata": {},
          "execution_count": 7
        }
      ]
    },
    {
      "cell_type": "code",
      "source": [
        "test.head()"
      ],
      "metadata": {
        "id": "g_BNRKI1Jctp",
        "colab": {
          "base_uri": "https://localhost:8080/",
          "height": 206
        },
        "outputId": "77bdd662-2e4e-43c7-e7fb-3dbdca2f50d2"
      },
      "execution_count": 8,
      "outputs": [
        {
          "output_type": "execute_result",
          "data": {
            "text/plain": [
              "      id                                               text  label sentiment\n",
              "0   9235                         getting cds ready for tour      1   neutral\n",
              "1  16790   MC, happy mother`s day to your mom ;).. love yah      2  positive\n",
              "2  24840  A year from now is graduation....i am pretty s...      0  negative\n",
              "3  20744              because you had chips and sale w/o me      1   neutral\n",
              "4   6414          Great for organising my work life balance      2  positive"
            ],
            "text/html": [
              "<div>\n",
              "<style scoped>\n",
              "    .dataframe tbody tr th:only-of-type {\n",
              "        vertical-align: middle;\n",
              "    }\n",
              "\n",
              "    .dataframe tbody tr th {\n",
              "        vertical-align: top;\n",
              "    }\n",
              "\n",
              "    .dataframe thead th {\n",
              "        text-align: right;\n",
              "    }\n",
              "</style>\n",
              "<table border=\"1\" class=\"dataframe\">\n",
              "  <thead>\n",
              "    <tr style=\"text-align: right;\">\n",
              "      <th></th>\n",
              "      <th>id</th>\n",
              "      <th>text</th>\n",
              "      <th>label</th>\n",
              "      <th>sentiment</th>\n",
              "    </tr>\n",
              "  </thead>\n",
              "  <tbody>\n",
              "    <tr>\n",
              "      <th>0</th>\n",
              "      <td>9235</td>\n",
              "      <td>getting cds ready for tour</td>\n",
              "      <td>1</td>\n",
              "      <td>neutral</td>\n",
              "    </tr>\n",
              "    <tr>\n",
              "      <th>1</th>\n",
              "      <td>16790</td>\n",
              "      <td>MC, happy mother`s day to your mom ;).. love yah</td>\n",
              "      <td>2</td>\n",
              "      <td>positive</td>\n",
              "    </tr>\n",
              "    <tr>\n",
              "      <th>2</th>\n",
              "      <td>24840</td>\n",
              "      <td>A year from now is graduation....i am pretty s...</td>\n",
              "      <td>0</td>\n",
              "      <td>negative</td>\n",
              "    </tr>\n",
              "    <tr>\n",
              "      <th>3</th>\n",
              "      <td>20744</td>\n",
              "      <td>because you had chips and sale w/o me</td>\n",
              "      <td>1</td>\n",
              "      <td>neutral</td>\n",
              "    </tr>\n",
              "    <tr>\n",
              "      <th>4</th>\n",
              "      <td>6414</td>\n",
              "      <td>Great for organising my work life balance</td>\n",
              "      <td>2</td>\n",
              "      <td>positive</td>\n",
              "    </tr>\n",
              "  </tbody>\n",
              "</table>\n",
              "</div>"
            ]
          },
          "metadata": {},
          "execution_count": 8
        }
      ]
    },
    {
      "cell_type": "code",
      "source": [
        "val.head()"
      ],
      "metadata": {
        "colab": {
          "base_uri": "https://localhost:8080/",
          "height": 206
        },
        "id": "hWYj-qWLsjJW",
        "outputId": "96f4b56c-c305-4b6a-ea13-9c9d277c05f3"
      },
      "execution_count": 9,
      "outputs": [
        {
          "output_type": "execute_result",
          "data": {
            "text/plain": [
              "      id                                               text  label sentiment\n",
              "0    317  Laying in bed til workkk... Oh the life. Defin...      0  negative\n",
              "1  24292   ooohhh imma need you to get on that asap love...      2  positive\n",
              "2   3513   Thanks! I love it they have a video, so you d...      2  positive\n",
              "3   4322     I left my ipod in the car so now its all warm.      2  positive\n",
              "4   6203  Great app. Only complaint is that I'd like the...      2  positive"
            ],
            "text/html": [
              "<div>\n",
              "<style scoped>\n",
              "    .dataframe tbody tr th:only-of-type {\n",
              "        vertical-align: middle;\n",
              "    }\n",
              "\n",
              "    .dataframe tbody tr th {\n",
              "        vertical-align: top;\n",
              "    }\n",
              "\n",
              "    .dataframe thead th {\n",
              "        text-align: right;\n",
              "    }\n",
              "</style>\n",
              "<table border=\"1\" class=\"dataframe\">\n",
              "  <thead>\n",
              "    <tr style=\"text-align: right;\">\n",
              "      <th></th>\n",
              "      <th>id</th>\n",
              "      <th>text</th>\n",
              "      <th>label</th>\n",
              "      <th>sentiment</th>\n",
              "    </tr>\n",
              "  </thead>\n",
              "  <tbody>\n",
              "    <tr>\n",
              "      <th>0</th>\n",
              "      <td>317</td>\n",
              "      <td>Laying in bed til workkk... Oh the life. Defin...</td>\n",
              "      <td>0</td>\n",
              "      <td>negative</td>\n",
              "    </tr>\n",
              "    <tr>\n",
              "      <th>1</th>\n",
              "      <td>24292</td>\n",
              "      <td>ooohhh imma need you to get on that asap love...</td>\n",
              "      <td>2</td>\n",
              "      <td>positive</td>\n",
              "    </tr>\n",
              "    <tr>\n",
              "      <th>2</th>\n",
              "      <td>3513</td>\n",
              "      <td>Thanks! I love it they have a video, so you d...</td>\n",
              "      <td>2</td>\n",
              "      <td>positive</td>\n",
              "    </tr>\n",
              "    <tr>\n",
              "      <th>3</th>\n",
              "      <td>4322</td>\n",
              "      <td>I left my ipod in the car so now its all warm.</td>\n",
              "      <td>2</td>\n",
              "      <td>positive</td>\n",
              "    </tr>\n",
              "    <tr>\n",
              "      <th>4</th>\n",
              "      <td>6203</td>\n",
              "      <td>Great app. Only complaint is that I'd like the...</td>\n",
              "      <td>2</td>\n",
              "      <td>positive</td>\n",
              "    </tr>\n",
              "  </tbody>\n",
              "</table>\n",
              "</div>"
            ]
          },
          "metadata": {},
          "execution_count": 9
        }
      ]
    },
    {
      "cell_type": "code",
      "source": [
        "train.info()  # типы данных для каждого их признаков и количество строк"
      ],
      "metadata": {
        "colab": {
          "base_uri": "https://localhost:8080/"
        },
        "id": "rhmzdQWNd6-M",
        "outputId": "73f87d05-55bd-4575-c641-5ab8b9a3d5a1"
      },
      "execution_count": 10,
      "outputs": [
        {
          "output_type": "stream",
          "name": "stdout",
          "text": [
            "<class 'pandas.core.frame.DataFrame'>\n",
            "RangeIndex: 31232 entries, 0 to 31231\n",
            "Data columns (total 4 columns):\n",
            " #   Column     Non-Null Count  Dtype \n",
            "---  ------     --------------  ----- \n",
            " 0   id         31232 non-null  int64 \n",
            " 1   text       31232 non-null  object\n",
            " 2   label      31232 non-null  int64 \n",
            " 3   sentiment  31232 non-null  object\n",
            "dtypes: int64(2), object(2)\n",
            "memory usage: 976.1+ KB\n"
          ]
        }
      ]
    },
    {
      "cell_type": "code",
      "source": [
        "test.info()"
      ],
      "metadata": {
        "colab": {
          "base_uri": "https://localhost:8080/"
        },
        "id": "VxV4sWvust5e",
        "outputId": "53246986-4fdf-4f87-af9b-390095ed1acb"
      },
      "execution_count": 11,
      "outputs": [
        {
          "output_type": "stream",
          "name": "stdout",
          "text": [
            "<class 'pandas.core.frame.DataFrame'>\n",
            "RangeIndex: 5206 entries, 0 to 5205\n",
            "Data columns (total 4 columns):\n",
            " #   Column     Non-Null Count  Dtype \n",
            "---  ------     --------------  ----- \n",
            " 0   id         5206 non-null   int64 \n",
            " 1   text       5205 non-null   object\n",
            " 2   label      5206 non-null   int64 \n",
            " 3   sentiment  5206 non-null   object\n",
            "dtypes: int64(2), object(2)\n",
            "memory usage: 162.8+ KB\n"
          ]
        }
      ]
    },
    {
      "cell_type": "code",
      "source": [
        "val.info()"
      ],
      "metadata": {
        "colab": {
          "base_uri": "https://localhost:8080/"
        },
        "id": "_O2MgFOEsxeu",
        "outputId": "5027f320-4317-44aa-ac4c-24d2a61f7108"
      },
      "execution_count": 12,
      "outputs": [
        {
          "output_type": "stream",
          "name": "stdout",
          "text": [
            "<class 'pandas.core.frame.DataFrame'>\n",
            "RangeIndex: 5205 entries, 0 to 5204\n",
            "Data columns (total 4 columns):\n",
            " #   Column     Non-Null Count  Dtype \n",
            "---  ------     --------------  ----- \n",
            " 0   id         5205 non-null   int64 \n",
            " 1   text       5205 non-null   object\n",
            " 2   label      5205 non-null   int64 \n",
            " 3   sentiment  5205 non-null   object\n",
            "dtypes: int64(2), object(2)\n",
            "memory usage: 162.8+ KB\n"
          ]
        }
      ]
    },
    {
      "cell_type": "code",
      "source": [
        "train.describe()  # статистические данные"
      ],
      "metadata": {
        "colab": {
          "base_uri": "https://localhost:8080/",
          "height": 300
        },
        "id": "bUpyUM0Se2ll",
        "outputId": "cba03546-564b-43f4-a4ac-5ebfa90a727c"
      },
      "execution_count": 13,
      "outputs": [
        {
          "output_type": "execute_result",
          "data": {
            "text/plain": [
              "                 id         label\n",
              "count  31232.000000  31232.000000\n",
              "mean   10576.775359      1.043961\n",
              "std     8010.753795      0.790636\n",
              "min        0.000000      0.000000\n",
              "25%     3476.000000      0.000000\n",
              "50%     8662.000000      1.000000\n",
              "75%    17071.500000      2.000000\n",
              "max    27480.000000      2.000000"
            ],
            "text/html": [
              "<div>\n",
              "<style scoped>\n",
              "    .dataframe tbody tr th:only-of-type {\n",
              "        vertical-align: middle;\n",
              "    }\n",
              "\n",
              "    .dataframe tbody tr th {\n",
              "        vertical-align: top;\n",
              "    }\n",
              "\n",
              "    .dataframe thead th {\n",
              "        text-align: right;\n",
              "    }\n",
              "</style>\n",
              "<table border=\"1\" class=\"dataframe\">\n",
              "  <thead>\n",
              "    <tr style=\"text-align: right;\">\n",
              "      <th></th>\n",
              "      <th>id</th>\n",
              "      <th>label</th>\n",
              "    </tr>\n",
              "  </thead>\n",
              "  <tbody>\n",
              "    <tr>\n",
              "      <th>count</th>\n",
              "      <td>31232.000000</td>\n",
              "      <td>31232.000000</td>\n",
              "    </tr>\n",
              "    <tr>\n",
              "      <th>mean</th>\n",
              "      <td>10576.775359</td>\n",
              "      <td>1.043961</td>\n",
              "    </tr>\n",
              "    <tr>\n",
              "      <th>std</th>\n",
              "      <td>8010.753795</td>\n",
              "      <td>0.790636</td>\n",
              "    </tr>\n",
              "    <tr>\n",
              "      <th>min</th>\n",
              "      <td>0.000000</td>\n",
              "      <td>0.000000</td>\n",
              "    </tr>\n",
              "    <tr>\n",
              "      <th>25%</th>\n",
              "      <td>3476.000000</td>\n",
              "      <td>0.000000</td>\n",
              "    </tr>\n",
              "    <tr>\n",
              "      <th>50%</th>\n",
              "      <td>8662.000000</td>\n",
              "      <td>1.000000</td>\n",
              "    </tr>\n",
              "    <tr>\n",
              "      <th>75%</th>\n",
              "      <td>17071.500000</td>\n",
              "      <td>2.000000</td>\n",
              "    </tr>\n",
              "    <tr>\n",
              "      <th>max</th>\n",
              "      <td>27480.000000</td>\n",
              "      <td>2.000000</td>\n",
              "    </tr>\n",
              "  </tbody>\n",
              "</table>\n",
              "</div>"
            ]
          },
          "metadata": {},
          "execution_count": 13
        }
      ]
    },
    {
      "cell_type": "code",
      "source": [],
      "metadata": {
        "id": "n898BkrZs5PG"
      },
      "execution_count": null,
      "outputs": []
    },
    {
      "cell_type": "code",
      "source": [
        "train['label'].value_counts()  # количество данных в целевом признаке"
      ],
      "metadata": {
        "colab": {
          "base_uri": "https://localhost:8080/"
        },
        "id": "P4RwAzAifDPO",
        "outputId": "a6611470-6c0a-428a-f025-d0d8a9722948"
      },
      "execution_count": 14,
      "outputs": [
        {
          "output_type": "execute_result",
          "data": {
            "text/plain": [
              "label\n",
              "1    11649\n",
              "2    10478\n",
              "0     9105\n",
              "Name: count, dtype: int64"
            ]
          },
          "metadata": {},
          "execution_count": 14
        }
      ]
    },
    {
      "cell_type": "code",
      "source": [
        "test['label'].value_counts()"
      ],
      "metadata": {
        "colab": {
          "base_uri": "https://localhost:8080/"
        },
        "id": "jMoyTLAns9kF",
        "outputId": "466178ef-a60b-4113-a96d-c92ee58d92e7"
      },
      "execution_count": 15,
      "outputs": [
        {
          "output_type": "execute_result",
          "data": {
            "text/plain": [
              "label\n",
              "1    1930\n",
              "2    1730\n",
              "0    1546\n",
              "Name: count, dtype: int64"
            ]
          },
          "metadata": {},
          "execution_count": 15
        }
      ]
    },
    {
      "cell_type": "code",
      "source": [
        "val['label'].value_counts()"
      ],
      "metadata": {
        "colab": {
          "base_uri": "https://localhost:8080/"
        },
        "id": "AoiFMi0etCOX",
        "outputId": "1166e55d-237e-420c-e9da-462dcd755411"
      },
      "execution_count": 16,
      "outputs": [
        {
          "output_type": "execute_result",
          "data": {
            "text/plain": [
              "label\n",
              "1    1928\n",
              "2    1760\n",
              "0    1517\n",
              "Name: count, dtype: int64"
            ]
          },
          "metadata": {},
          "execution_count": 16
        }
      ]
    },
    {
      "cell_type": "code",
      "source": [
        "val.dropna(axis=0, how='any', subset=['text', 'label'], inplace=True)\n",
        "train.dropna(axis=0, how='any',subset=['text', 'label'], inplace=True)\n",
        "test.dropna(axis=0, how='any', subset=['text', 'label'], inplace=True)"
      ],
      "metadata": {
        "id": "qOSExQyw608Q"
      },
      "execution_count": 17,
      "outputs": []
    },
    {
      "cell_type": "code",
      "source": [
        "train.info()"
      ],
      "metadata": {
        "colab": {
          "base_uri": "https://localhost:8080/"
        },
        "id": "urxHjqSk7Qjm",
        "outputId": "901e4101-2f1e-498b-d307-df08a197629e"
      },
      "execution_count": 18,
      "outputs": [
        {
          "output_type": "stream",
          "name": "stdout",
          "text": [
            "<class 'pandas.core.frame.DataFrame'>\n",
            "RangeIndex: 31232 entries, 0 to 31231\n",
            "Data columns (total 4 columns):\n",
            " #   Column     Non-Null Count  Dtype \n",
            "---  ------     --------------  ----- \n",
            " 0   id         31232 non-null  int64 \n",
            " 1   text       31232 non-null  object\n",
            " 2   label      31232 non-null  int64 \n",
            " 3   sentiment  31232 non-null  object\n",
            "dtypes: int64(2), object(2)\n",
            "memory usage: 976.1+ KB\n"
          ]
        }
      ]
    },
    {
      "cell_type": "code",
      "source": [
        "test.info()"
      ],
      "metadata": {
        "colab": {
          "base_uri": "https://localhost:8080/"
        },
        "id": "0mBPGvkQ7Vid",
        "outputId": "6cd2e93d-b54b-4970-b348-2d0eb5b6b66c"
      },
      "execution_count": 20,
      "outputs": [
        {
          "output_type": "stream",
          "name": "stdout",
          "text": [
            "<class 'pandas.core.frame.DataFrame'>\n",
            "Index: 5205 entries, 0 to 5205\n",
            "Data columns (total 4 columns):\n",
            " #   Column     Non-Null Count  Dtype \n",
            "---  ------     --------------  ----- \n",
            " 0   id         5205 non-null   int64 \n",
            " 1   text       5205 non-null   object\n",
            " 2   label      5205 non-null   int64 \n",
            " 3   sentiment  5205 non-null   object\n",
            "dtypes: int64(2), object(2)\n",
            "memory usage: 203.3+ KB\n"
          ]
        }
      ]
    },
    {
      "cell_type": "code",
      "source": [
        "val.info()"
      ],
      "metadata": {
        "colab": {
          "base_uri": "https://localhost:8080/"
        },
        "id": "WTCshp1X7Z6e",
        "outputId": "7e7ce76f-dc39-4540-a631-d11fd89754a1"
      },
      "execution_count": 21,
      "outputs": [
        {
          "output_type": "stream",
          "name": "stdout",
          "text": [
            "<class 'pandas.core.frame.DataFrame'>\n",
            "RangeIndex: 5205 entries, 0 to 5204\n",
            "Data columns (total 4 columns):\n",
            " #   Column     Non-Null Count  Dtype \n",
            "---  ------     --------------  ----- \n",
            " 0   id         5205 non-null   int64 \n",
            " 1   text       5205 non-null   object\n",
            " 2   label      5205 non-null   int64 \n",
            " 3   sentiment  5205 non-null   object\n",
            "dtypes: int64(2), object(2)\n",
            "memory usage: 162.8+ KB\n"
          ]
        }
      ]
    },
    {
      "cell_type": "code",
      "source": [
        "train.duplicated().sum()  # количество дублей"
      ],
      "metadata": {
        "colab": {
          "base_uri": "https://localhost:8080/"
        },
        "id": "vKr7a2JJfNLm",
        "outputId": "dd372446-4a93-4982-d411-e6eec6adb781"
      },
      "execution_count": 22,
      "outputs": [
        {
          "output_type": "execute_result",
          "data": {
            "text/plain": [
              "np.int64(0)"
            ]
          },
          "metadata": {},
          "execution_count": 22
        }
      ]
    },
    {
      "cell_type": "code",
      "source": [
        "test.duplicated().sum()  # количество дублей"
      ],
      "metadata": {
        "colab": {
          "base_uri": "https://localhost:8080/"
        },
        "id": "veswEd3PtEEN",
        "outputId": "7005ceb7-9a4a-494b-bcc8-454d2ca71de3"
      },
      "execution_count": 23,
      "outputs": [
        {
          "output_type": "execute_result",
          "data": {
            "text/plain": [
              "np.int64(0)"
            ]
          },
          "metadata": {},
          "execution_count": 23
        }
      ]
    },
    {
      "cell_type": "code",
      "source": [
        "val.duplicated().sum()  # количество дублей"
      ],
      "metadata": {
        "colab": {
          "base_uri": "https://localhost:8080/"
        },
        "id": "5Dy2xeDUtHTO",
        "outputId": "65474425-6fd0-428e-a654-e397b3970696"
      },
      "execution_count": 24,
      "outputs": [
        {
          "output_type": "execute_result",
          "data": {
            "text/plain": [
              "np.int64(0)"
            ]
          },
          "metadata": {},
          "execution_count": 24
        }
      ]
    },
    {
      "cell_type": "code",
      "source": [
        "'''!pip install --upgrade nbformat\n",
        "!pip install --upgrade nbconvert'''"
      ],
      "metadata": {
        "colab": {
          "base_uri": "https://localhost:8080/"
        },
        "id": "juRfJ8AnnQ_g",
        "outputId": "8f016134-4e8f-4143-80d2-b158b9e99b68"
      },
      "execution_count": null,
      "outputs": [
        {
          "output_type": "execute_result",
          "data": {
            "text/plain": [
              "'!pip install --upgrade nbformat\\n!pip install --upgrade nbconvert'"
            ]
          },
          "metadata": {},
          "execution_count": 36
        }
      ]
    },
    {
      "cell_type": "code",
      "source": [
        "train.drop(['id','sentiment'],axis=1,inplace=True)\n",
        "test.drop(['id','sentiment'],axis=1,inplace=True)\n",
        "val.drop(['id','sentiment'],axis=1,inplace=True)"
      ],
      "metadata": {
        "id": "wqzN8hQtx2gR"
      },
      "execution_count": 25,
      "outputs": []
    },
    {
      "cell_type": "code",
      "source": [
        "train_rev = [len(t.split()) for t in train['text']]\n",
        "plt.hist(train_rev, bins=20)"
      ],
      "metadata": {
        "id": "K-DBTuSsZPmr",
        "colab": {
          "base_uri": "https://localhost:8080/",
          "height": 569
        },
        "outputId": "8ebc16c0-319b-409d-c645-4c459633b67c"
      },
      "execution_count": 26,
      "outputs": [
        {
          "output_type": "execute_result",
          "data": {
            "text/plain": [
              "(array([2.2604e+04, 6.0550e+03, 1.1560e+03, 6.4400e+02, 6.5400e+02,\n",
              "        6.8000e+01, 2.4000e+01, 8.0000e+00, 8.0000e+00, 7.0000e+00,\n",
              "        2.0000e+00, 0.0000e+00, 0.0000e+00, 0.0000e+00, 0.0000e+00,\n",
              "        0.0000e+00, 0.0000e+00, 1.0000e+00, 0.0000e+00, 1.0000e+00]),\n",
              " array([  1. ,  20.5,  40. ,  59.5,  79. ,  98.5, 118. , 137.5, 157. ,\n",
              "        176.5, 196. , 215.5, 235. , 254.5, 274. , 293.5, 313. , 332.5,\n",
              "        352. , 371.5, 391. ]),\n",
              " <BarContainer object of 20 artists>)"
            ]
          },
          "metadata": {},
          "execution_count": 26
        },
        {
          "output_type": "display_data",
          "data": {
            "text/plain": [
              "<Figure size 640x480 with 1 Axes>"
            ],
            "image/png": "[encoded data removed]"
          },
          "metadata": {}
        }
      ]
    },
    {
      "cell_type": "code",
      "source": [
        "from transformers import BertForSequenceClassification"
      ],
      "metadata": {
        "id": "RcaWUbxpvIb9"
      },
      "execution_count": 27,
      "outputs": []
    },
    {
      "cell_type": "code",
      "source": [
        "# Reload it with the huggingface tokenizers library\n",
        "tokenizer = BertTokenizer.from_pretrained('bert-base-multilingual-cased', lowercase=False)\n",
        "tokenizer.save_pretrained('.')"
      ],
      "metadata": {
        "colab": {
          "base_uri": "https://localhost:8080/"
        },
        "id": "Bfzkdd_ax2cn",
        "outputId": "1e370b33-0a08-4918-8652-37a8cb744d34"
      },
      "execution_count": 28,
      "outputs": [
        {
          "output_type": "execute_result",
          "data": {
            "text/plain": [
              "('./tokenizer_config.json',\n",
              " './special_tokens_map.json',\n",
              " './vocab.txt',\n",
              " './added_tokens.json')"
            ]
          },
          "metadata": {},
          "execution_count": 28
        }
      ]
    },
    {
      "cell_type": "code",
      "source": [
        "X_train = train.text\n",
        "X_test = test.text\n",
        "X_val = val.text\n",
        "\n",
        "y_train = train.label\n",
        "y_test = test.label\n",
        "y_val = val.label"
      ],
      "metadata": {
        "id": "sq2Dm-Hx25Ie"
      },
      "execution_count": 42,
      "outputs": []
    },
    {
      "cell_type": "code",
      "source": [
        "MAX_LEN = 128"
      ],
      "metadata": {
        "id": "0C5Q6OJA1WgN"
      },
      "execution_count": 43,
      "outputs": []
    },
    {
      "cell_type": "code",
      "source": [
        "import torch\n",
        "encodings_train = tokenizer(X_train.tolist(), truncation=True, padding=True, max_length=MAX_LEN, return_tensors='pt')\n",
        "encodings_val = tokenizer(X_val.tolist(), truncation=True, padding=True, max_length=MAX_LEN, return_tensors='pt')\n",
        "encodings_test = tokenizer(X_test.tolist(), truncation=True, padding=True, max_length=MAX_LEN, return_tensors='pt')\n",
        "\n",
        "inputs_train = encodings_train['input_ids']\n",
        "inputs_val = encodings_val['input_ids']\n",
        "inputs_test = encodings_test['input_ids']\n",
        "\n",
        "attention_masks_train = encodings_train['attention_mask']\n",
        "attention_masks_val = encodings_val['attention_mask']\n",
        "attention_masks_test = encodings_test['attention_mask']\n",
        "\n",
        "labels_tensor_train = torch.tensor(y_train.tolist())\n",
        "labels_tensor_val = torch.tensor(y_val.tolist())\n",
        "labels_tensor_test = torch.tensor(y_test.tolist())\n"
      ],
      "metadata": {
        "id": "fTjVjtCf1Nt1"
      },
      "execution_count": 48,
      "outputs": []
    },
    {
      "cell_type": "code",
      "source": [
        "encodings_train"
      ],
      "metadata": {
        "colab": {
          "base_uri": "https://localhost:8080/"
        },
        "id": "Lq7-EoaA5NGG",
        "outputId": "8bdffddf-df12-4fc3-b745-83c38b911e09"
      },
      "execution_count": 49,
      "outputs": [
        {
          "output_type": "execute_result",
          "data": {
            "text/plain": [
              "{'input_ids': tensor([[  101, 21115, 10230,  ...,     0,     0,     0],\n",
              "        [  101, 47336, 18195,  ...,     0,     0,     0],\n",
              "        [  101,   146, 16138,  ...,     0,     0,     0],\n",
              "        ...,\n",
              "        [  101, 50337,   102,  ...,     0,     0,     0],\n",
              "        [  101, 10124, 62151,  ...,     0,     0,     0],\n",
              "        [  101, 14247, 10336,  ...,     0,     0,     0]]), 'token_type_ids': tensor([[0, 0, 0,  ..., 0, 0, 0],\n",
              "        [0, 0, 0,  ..., 0, 0, 0],\n",
              "        [0, 0, 0,  ..., 0, 0, 0],\n",
              "        ...,\n",
              "        [0, 0, 0,  ..., 0, 0, 0],\n",
              "        [0, 0, 0,  ..., 0, 0, 0],\n",
              "        [0, 0, 0,  ..., 0, 0, 0]]), 'attention_mask': tensor([[1, 1, 1,  ..., 0, 0, 0],\n",
              "        [1, 1, 1,  ..., 0, 0, 0],\n",
              "        [1, 1, 1,  ..., 0, 0, 0],\n",
              "        ...,\n",
              "        [1, 1, 1,  ..., 0, 0, 0],\n",
              "        [1, 1, 1,  ..., 0, 0, 0],\n",
              "        [1, 1, 1,  ..., 0, 0, 0]])}"
            ]
          },
          "metadata": {},
          "execution_count": 49
        }
      ]
    },
    {
      "cell_type": "code",
      "source": [],
      "metadata": {
        "id": "s0lOJ_-q5PHG"
      },
      "execution_count": null,
      "outputs": []
    },
    {
      "cell_type": "code",
      "source": [
        "from torch.utils.data import DataLoader, TensorDataset\n",
        "\n",
        "def make_ds_and_ds_loader(inputs, attention_masks, labels_tensor):\n",
        "  dataset = TensorDataset(inputs, attention_masks, labels_tensor)\n",
        "  dataloader = DataLoader(dataset, batch_size=32, shuffle=True)\n",
        "  return dataset, dataloader\n",
        "\n",
        "train_ds, train_dataloader  = make_ds_and_ds_loader(inputs_train, attention_masks_train, labels_tensor_train)\n",
        "test_ds, test_dataloader = make_ds_and_ds_loader(inputs_test, attention_masks_test, labels_tensor_test)\n",
        "val_ds, val_dataloader = make_ds_and_ds_loader(inputs_val, attention_masks_val, labels_tensor_val)\n"
      ],
      "metadata": {
        "id": "4SaxOoW33owN"
      },
      "execution_count": 51,
      "outputs": []
    },
    {
      "cell_type": "code",
      "source": [
        "print(train_dataloader)"
      ],
      "metadata": {
        "colab": {
          "base_uri": "https://localhost:8080/"
        },
        "id": "NwsF-yrT3opu",
        "outputId": "6a73f1a8-d855-4d65-c0f2-e5928e76f81e"
      },
      "execution_count": 55,
      "outputs": [
        {
          "output_type": "stream",
          "name": "stdout",
          "text": [
            "<torch.utils.data.dataloader.DataLoader object at 0x748e99dc9400>\n"
          ]
        }
      ]
    },
    {
      "cell_type": "code",
      "source": [
        "from transformers import Trainer, TrainingArguments"
      ],
      "metadata": {
        "id": "qLAuj59k5XpX"
      },
      "execution_count": 57,
      "outputs": []
    },
    {
      "cell_type": "code",
      "source": [
        "model = BertForSequenceClassification.from_pretrained('bert-base-multilingual-cased', num_labels=3)"
      ],
      "metadata": {
        "colab": {
          "base_uri": "https://localhost:8080/"
        },
        "id": "vVWYaGXFBlGk",
        "outputId": "2e5b6b8d-037a-4ddf-91bc-fdf568dd2cfd"
      },
      "execution_count": 36,
      "outputs": [
        {
          "output_type": "stream",
          "name": "stderr",
          "text": [
            "Some weights of BertForSequenceClassification were not initialized from the model checkpoint at bert-base-multilingual-cased and are newly initialized: ['classifier.bias', 'classifier.weight']\n",
            "You should probably TRAIN this model on a down-stream task to be able to use it for predictions and inference.\n"
          ]
        }
      ]
    },
    {
      "cell_type": "code",
      "source": [
        " !pip install 'accelerate>=0.26.0'"
      ],
      "metadata": {
        "id": "3FLbMIthJUag"
      },
      "execution_count": 67,
      "outputs": []
    },
    {
      "cell_type": "code",
      "source": [
        "! pip install transformers[torch]"
      ],
      "metadata": {
        "id": "5wSyjPN0JdTn"
      },
      "execution_count": 65,
      "outputs": []
    },
    {
      "cell_type": "code",
      "source": [
        "training_args = TrainingArguments(\n",
        "    output_dir='./models',          # выходная директория\n",
        "    num_train_epochs=3,              # количество эпох\n",
        "    save_strategy='epoch',             # стратегия сохранения моделей\n",
        "    per_device_train_batch_size=16,   # размер батча\n",
        "    save_steps=1_000,               # сохранять каждые 1,000 шагов\n",
        ")\n",
        "\n",
        "trainer = Trainer(\n",
        "    model=model,\n",
        "    args=training_args,\n",
        "    train_dataset=train_ds,\n",
        "    eval_dataset=val_ds\n",
        ") # https://huggingface.co/docs/transformers/main_classes/trainer"
      ],
      "metadata": {
        "colab": {
          "base_uri": "https://localhost:8080/",
          "height": 1000
        },
        "id": "A6s8x4fC5mc_",
        "outputId": "d6723a72-6764-476b-a17f-ff2528185add"
      },
      "execution_count": 66,
      "outputs": [
        {
          "output_type": "error",
          "ename": "ImportError",
          "evalue": "Using the `Trainer` with `PyTorch` requires `accelerate>=0.26.0`: Please run `pip install transformers[torch]` or `pip install 'accelerate>=0.26.0'`",
          "traceback": [
            "\u001b[31m---------------------------------------------------------------------------\u001b[39m",
            "\u001b[31mImportError\u001b[39m                               Traceback (most recent call last)",
            "\u001b[36mCell\u001b[39m\u001b[36m \u001b[39m\u001b[32mIn[66]\u001b[39m\u001b[32m, line 1\u001b[39m\n\u001b[32m----> \u001b[39m\u001b[32m1\u001b[39m training_args = TrainingArguments(\n\u001b[32m      2\u001b[39m     output_dir=\u001b[33m'\u001b[39m\u001b[33m./models\u001b[39m\u001b[33m'\u001b[39m,          \u001b[38;5;66;03m# выходная директория\u001b[39;00m\n\u001b[32m      3\u001b[39m     num_train_epochs=\u001b[32m3\u001b[39m,              \u001b[38;5;66;03m# количество эпох\u001b[39;00m\n\u001b[32m      4\u001b[39m     save_strategy=\u001b[33m'\u001b[39m\u001b[33mepoch\u001b[39m\u001b[33m'\u001b[39m,             \u001b[38;5;66;03m# стратегия сохранения моделей\u001b[39;00m\n\u001b[32m      5\u001b[39m     per_device_train_batch_size=\u001b[32m16\u001b[39m,   \u001b[38;5;66;03m# размер батча\u001b[39;00m\n\u001b[32m      6\u001b[39m     save_steps=\u001b[32m1_000\u001b[39m,               \u001b[38;5;66;03m# сохранять каждые 1,000 шагов\u001b[39;00m\n\u001b[32m      7\u001b[39m )  \n\u001b[32m      9\u001b[39m trainer = Trainer(\n\u001b[32m     10\u001b[39m     model=model,\n\u001b[32m     11\u001b[39m     args=training_args,\n\u001b[32m     12\u001b[39m     train_dataset=train_ds,\n\u001b[32m     13\u001b[39m     eval_dataset=val_ds\n\u001b[32m     14\u001b[39m )\n",
            "\u001b[36mFile \u001b[39m\u001b[32m<string>:131\u001b[39m, in \u001b[36m__init__\u001b[39m\u001b[34m(self, output_dir, overwrite_output_dir, do_train, do_eval, do_predict, eval_strategy, prediction_loss_only, per_device_train_batch_size, per_device_eval_batch_size, per_gpu_train_batch_size, per_gpu_eval_batch_size, gradient_accumulation_steps, eval_accumulation_steps, eval_delay, torch_empty_cache_steps, learning_rate, weight_decay, adam_beta1, adam_beta2, adam_epsilon, max_grad_norm, num_train_epochs, max_steps, lr_scheduler_type, lr_scheduler_kwargs, warmup_ratio, warmup_steps, log_level, log_level_replica, log_on_each_node, logging_dir, logging_strategy, logging_first_step, logging_steps, logging_nan_inf_filter, save_strategy, save_steps, save_total_limit, save_safetensors, save_on_each_node, save_only_model, restore_callback_states_from_checkpoint, no_cuda, use_cpu, use_mps_device, seed, data_seed, jit_mode_eval, use_ipex, bf16, fp16, fp16_opt_level, half_precision_backend, bf16_full_eval, fp16_full_eval, tf32, local_rank, ddp_backend, tpu_num_cores, tpu_metrics_debug, debug, dataloader_drop_last, eval_steps, dataloader_num_workers, dataloader_prefetch_factor, past_index, run_name, disable_tqdm, remove_unused_columns, label_names, load_best_model_at_end, metric_for_best_model, greater_is_better, ignore_data_skip, fsdp, fsdp_min_num_params, fsdp_config, fsdp_transformer_layer_cls_to_wrap, accelerator_config, deepspeed, label_smoothing_factor, optim, optim_args, adafactor, group_by_length, length_column_n...\n",
            "\u001b[36mFile \u001b[39m\u001b[32m~/anaconda3/envs/my_pdp/lib/python3.13/site-packages/transformers/training_args.py:1738\u001b[39m, in \u001b[36mTrainingArguments.__post_init__\u001b[39m\u001b[34m(self)\u001b[39m\n\u001b[32m   1736\u001b[39m \u001b[38;5;66;03m# Initialize device before we proceed\u001b[39;00m\n\u001b[32m   1737\u001b[39m \u001b[38;5;28;01mif\u001b[39;00m \u001b[38;5;28mself\u001b[39m.framework == \u001b[33m\"\u001b[39m\u001b[33mpt\u001b[39m\u001b[33m\"\u001b[39m \u001b[38;5;129;01mand\u001b[39;00m is_torch_available():\n\u001b[32m-> \u001b[39m\u001b[32m1738\u001b[39m     \u001b[38;5;28mself\u001b[39m.device\n\u001b[32m   1740\u001b[39m \u001b[38;5;66;03m# Disable average tokens when using single device\u001b[39;00m\n\u001b[32m   1741\u001b[39m \u001b[38;5;28;01mif\u001b[39;00m \u001b[38;5;28mself\u001b[39m.average_tokens_across_devices:\n",
            "\u001b[36mFile \u001b[39m\u001b[32m~/anaconda3/envs/my_pdp/lib/python3.13/site-packages/transformers/training_args.py:2268\u001b[39m, in \u001b[36mTrainingArguments.device\u001b[39m\u001b[34m(self)\u001b[39m\n\u001b[32m   2264\u001b[39m \u001b[38;5;250m\u001b[39m\u001b[33;03m\"\"\"\u001b[39;00m\n\u001b[32m   2265\u001b[39m \u001b[33;03mThe device used by this process.\u001b[39;00m\n\u001b[32m   2266\u001b[39m \u001b[33;03m\"\"\"\u001b[39;00m\n\u001b[32m   2267\u001b[39m requires_backends(\u001b[38;5;28mself\u001b[39m, [\u001b[33m\"\u001b[39m\u001b[33mtorch\u001b[39m\u001b[33m\"\u001b[39m])\n\u001b[32m-> \u001b[39m\u001b[32m2268\u001b[39m \u001b[38;5;28;01mreturn\u001b[39;00m \u001b[38;5;28mself\u001b[39m._setup_devices\n",
            "\u001b[36mFile \u001b[39m\u001b[32m~/anaconda3/envs/my_pdp/lib/python3.13/site-packages/transformers/utils/generic.py:67\u001b[39m, in \u001b[36mcached_property.__get__\u001b[39m\u001b[34m(self, obj, objtype)\u001b[39m\n\u001b[32m     65\u001b[39m cached = \u001b[38;5;28mgetattr\u001b[39m(obj, attr, \u001b[38;5;28;01mNone\u001b[39;00m)\n\u001b[32m     66\u001b[39m \u001b[38;5;28;01mif\u001b[39;00m cached \u001b[38;5;129;01mis\u001b[39;00m \u001b[38;5;28;01mNone\u001b[39;00m:\n\u001b[32m---> \u001b[39m\u001b[32m67\u001b[39m     cached = \u001b[38;5;28mself\u001b[39m.fget(obj)\n\u001b[32m     68\u001b[39m     \u001b[38;5;28msetattr\u001b[39m(obj, attr, cached)\n\u001b[32m     69\u001b[39m \u001b[38;5;28;01mreturn\u001b[39;00m cached\n",
            "\u001b[36mFile \u001b[39m\u001b[32m~/anaconda3/envs/my_pdp/lib/python3.13/site-packages/transformers/training_args.py:2138\u001b[39m, in \u001b[36mTrainingArguments._setup_devices\u001b[39m\u001b[34m(self)\u001b[39m\n\u001b[32m   2136\u001b[39m \u001b[38;5;28;01mif\u001b[39;00m \u001b[38;5;129;01mnot\u001b[39;00m is_sagemaker_mp_enabled():\n\u001b[32m   2137\u001b[39m     \u001b[38;5;28;01mif\u001b[39;00m \u001b[38;5;129;01mnot\u001b[39;00m is_accelerate_available():\n\u001b[32m-> \u001b[39m\u001b[32m2138\u001b[39m         \u001b[38;5;28;01mraise\u001b[39;00m \u001b[38;5;167;01mImportError\u001b[39;00m(\n\u001b[32m   2139\u001b[39m             \u001b[33mf\u001b[39m\u001b[33m\"\u001b[39m\u001b[33mUsing the `Trainer` with `PyTorch` requires `accelerate>=\u001b[39m\u001b[38;5;132;01m{\u001b[39;00mACCELERATE_MIN_VERSION\u001b[38;5;132;01m}\u001b[39;00m\u001b[33m`: \u001b[39m\u001b[33m\"\u001b[39m\n\u001b[32m   2140\u001b[39m             \u001b[33mf\u001b[39m\u001b[33m\"\u001b[39m\u001b[33mPlease run `pip install transformers[torch]` or `pip install \u001b[39m\u001b[33m'\u001b[39m\u001b[33maccelerate>=\u001b[39m\u001b[38;5;132;01m{\u001b[39;00mACCELERATE_MIN_VERSION\u001b[38;5;132;01m}\u001b[39;00m\u001b[33m'\u001b[39m\u001b[33m`\u001b[39m\u001b[33m\"\u001b[39m\n\u001b[32m   2141\u001b[39m         )\n\u001b[32m   2142\u001b[39m \u001b[38;5;66;03m# We delay the init of `PartialState` to the end for clarity\u001b[39;00m\n\u001b[32m   2143\u001b[39m accelerator_state_kwargs = {\u001b[33m\"\u001b[39m\u001b[33menabled\u001b[39m\u001b[33m\"\u001b[39m: \u001b[38;5;28;01mTrue\u001b[39;00m, \u001b[33m\"\u001b[39m\u001b[33muse_configured_state\u001b[39m\u001b[33m\"\u001b[39m: \u001b[38;5;28;01mFalse\u001b[39;00m}\n",
            "\u001b[31mImportError\u001b[39m: Using the `Trainer` with `PyTorch` requires `accelerate>=0.26.0`: Please run `pip install transformers[torch]` or `pip install 'accelerate>=0.26.0'`"
          ]
        }
      ]
    },
    {
      "cell_type": "code",
      "source": [],
      "metadata": {
        "id": "lh-edgAX5mYe"
      },
      "execution_count": null,
      "outputs": []
    },
    {
      "cell_type": "code",
      "source": [
        "import evaluate\n",
        "import numpy as np\n",
        "\n",
        "# Metric Id\n",
        "metric = evaluate.load(\"accuracy\")\n",
        "\n",
        "# Metric helper method\n",
        "def compute_metrics(eval_pred):\n",
        "    predictions, labels = eval_pred\n",
        "    predictions = np.argmax(predictions, axis=1)\n",
        "    return metric.compute(predictions=predictions, references=labels, average=\"weighted\")"
      ],
      "metadata": {
        "id": "FOTBBnah1ciN"
      },
      "execution_count": null,
      "outputs": []
    },
    {
      "cell_type": "code",
      "source": [],
      "metadata": {
        "id": "dm25_jElyFTs"
      },
      "execution_count": null,
      "outputs": []
    },
    {
      "cell_type": "code",
      "source": [
        "\n",
        "optimizer = tf.keras.optimizers.Adam(learning_rate=1e-5)\n",
        "model.compile(optimizer=optimizer, loss='sparse_categorical_crossentropy', metrics=['accuracy', 'loss', 'recall', 'precision'])"
      ],
      "metadata": {
        "id": "GLaSw-4XC3Y7",
        "colab": {
          "base_uri": "https://localhost:8080/",
          "height": 349
        },
        "outputId": "16215397-0e80-44bc-ce15-ba9876882d6a"
      },
      "execution_count": 51,
      "outputs": [
        {
          "output_type": "error",
          "ename": "TypeError",
          "evalue": "compile() got an unexpected keyword argument 'optimizer'",
          "traceback": [
            "\u001b[0;31m---------------------------------------------------------------------------\u001b[0m",
            "\u001b[0;31mTypeError\u001b[0m                                 Traceback (most recent call last)",
            "Cell \u001b[0;32mIn[51], line 3\u001b[0m\n\u001b[1;32m      1\u001b[0m \u001b[38;5;28;01mimport\u001b[39;00m\u001b[38;5;250m \u001b[39m\u001b[38;5;21;01mtensorflow\u001b[39;00m\u001b[38;5;250m \u001b[39m\u001b[38;5;28;01mas\u001b[39;00m\u001b[38;5;250m \u001b[39m\u001b[38;5;21;01mtf\u001b[39;00m\n\u001b[1;32m      2\u001b[0m optimizer \u001b[38;5;241m=\u001b[39m tf\u001b[38;5;241m.\u001b[39mkeras\u001b[38;5;241m.\u001b[39moptimizers\u001b[38;5;241m.\u001b[39mAdam(learning_rate\u001b[38;5;241m=\u001b[39m\u001b[38;5;241m1e-5\u001b[39m)\n\u001b[0;32m----> 3\u001b[0m \u001b[43mmodel\u001b[49m\u001b[38;5;241;43m.\u001b[39;49m\u001b[43mcompile\u001b[49m\u001b[43m(\u001b[49m\u001b[43moptimizer\u001b[49m\u001b[38;5;241;43m=\u001b[39;49m\u001b[43moptimizer\u001b[49m\u001b[43m,\u001b[49m\u001b[43m \u001b[49m\u001b[43mloss\u001b[49m\u001b[38;5;241;43m=\u001b[39;49m\u001b[38;5;124;43m'\u001b[39;49m\u001b[38;5;124;43msparse_categorical_crossentropy\u001b[39;49m\u001b[38;5;124;43m'\u001b[39;49m\u001b[43m,\u001b[49m\u001b[43m \u001b[49m\u001b[43mmetrics\u001b[49m\u001b[38;5;241;43m=\u001b[39;49m\u001b[43m[\u001b[49m\u001b[38;5;124;43m'\u001b[39;49m\u001b[38;5;124;43maccuracy\u001b[39;49m\u001b[38;5;124;43m'\u001b[39;49m\u001b[43m,\u001b[49m\u001b[43m \u001b[49m\u001b[38;5;124;43m'\u001b[39;49m\u001b[38;5;124;43mloss\u001b[39;49m\u001b[38;5;124;43m'\u001b[39;49m\u001b[43m,\u001b[49m\u001b[43m \u001b[49m\u001b[38;5;124;43m'\u001b[39;49m\u001b[38;5;124;43mrecall\u001b[39;49m\u001b[38;5;124;43m'\u001b[39;49m\u001b[43m,\u001b[49m\u001b[43m \u001b[49m\u001b[38;5;124;43m'\u001b[39;49m\u001b[38;5;124;43mprecision\u001b[39;49m\u001b[38;5;124;43m'\u001b[39;49m\u001b[43m]\u001b[49m\u001b[43m)\u001b[49m\n",
            "File \u001b[0;32m~/anaconda3/envs/pdp/lib/python3.9/site-packages/torch/nn/modules/module.py:2994\u001b[0m, in \u001b[0;36mModule.compile\u001b[0;34m(self, *args, **kwargs)\u001b[0m\n\u001b[1;32m   2985\u001b[0m \u001b[38;5;28;01mdef\u001b[39;00m\u001b[38;5;250m \u001b[39m\u001b[38;5;21mcompile\u001b[39m(\u001b[38;5;28mself\u001b[39m, \u001b[38;5;241m*\u001b[39margs, \u001b[38;5;241m*\u001b[39m\u001b[38;5;241m*\u001b[39mkwargs):\n\u001b[1;32m   2986\u001b[0m \u001b[38;5;250m    \u001b[39m\u001b[38;5;124;03m\"\"\"\u001b[39;00m\n\u001b[1;32m   2987\u001b[0m \u001b[38;5;124;03m    Compile this Module's forward using :func:`torch.compile`.\u001b[39;00m\n\u001b[1;32m   2988\u001b[0m \n\u001b[0;32m   (...)\u001b[0m\n\u001b[1;32m   2992\u001b[0m \u001b[38;5;124;03m    See :func:`torch.compile` for details on the arguments for this function.\u001b[39;00m\n\u001b[1;32m   2993\u001b[0m \u001b[38;5;124;03m    \"\"\"\u001b[39;00m\n\u001b[0;32m-> 2994\u001b[0m     \u001b[38;5;28mself\u001b[39m\u001b[38;5;241m.\u001b[39m_compiled_call_impl \u001b[38;5;241m=\u001b[39m \u001b[43mtorch\u001b[49m\u001b[38;5;241;43m.\u001b[39;49m\u001b[43mcompile\u001b[49m\u001b[43m(\u001b[49m\u001b[38;5;28;43mself\u001b[39;49m\u001b[38;5;241;43m.\u001b[39;49m\u001b[43m_call_impl\u001b[49m\u001b[43m,\u001b[49m\u001b[43m \u001b[49m\u001b[38;5;241;43m*\u001b[39;49m\u001b[43margs\u001b[49m\u001b[43m,\u001b[49m\u001b[43m \u001b[49m\u001b[38;5;241;43m*\u001b[39;49m\u001b[38;5;241;43m*\u001b[39;49m\u001b[43mkwargs\u001b[49m\u001b[43m)\u001b[49m\n",
            "\u001b[0;31mTypeError\u001b[0m: compile() got an unexpected keyword argument 'optimizer'"
          ]
        }
      ]
    },
    {
      "cell_type": "code",
      "source": [
        "model.summary()"
      ],
      "metadata": {
        "colab": {
          "base_uri": "https://localhost:8080/"
        },
        "id": "bnhPFJCGsUUr",
        "outputId": "cc1dc3cd-5bca-48e4-9a0c-de67210cf77a"
      },
      "execution_count": null,
      "outputs": [
        {
          "output_type": "stream",
          "name": "stdout",
          "text": [
            "Model: \"tf_bert_for_sequence_classification\"\n",
            "_________________________________________________________________\n",
            " Layer (type)                Output Shape              Param #   \n",
            "=================================================================\n",
            " bert (TFBertMainLayer)      multiple                  109482240 \n",
            "                                                                 \n",
            " dropout_37 (Dropout)        multiple                  0 (unused)\n",
            "                                                                 \n",
            " classifier (Dense)          multiple                  1538      \n",
            "                                                                 \n",
            "=================================================================\n",
            "Total params: 109483778 (417.65 MB)\n",
            "Trainable params: 109483778 (417.65 MB)\n",
            "Non-trainable params: 0 (0.00 Byte)\n",
            "_________________________________________________________________\n"
          ]
        }
      ]
    },
    {
      "cell_type": "code",
      "source": [
        "# Обучение модели на тренировочных данных\n",
        "history = model.fit(\n",
        "    [X_train_encoded['input_ids'], X_train_encoded['token_type_ids'],\n",
        "     X_train_encoded['attention_mask']], y_train,  # тренировочные данные\n",
        "    validation_data=([X_val_encoded['input_ids'], X_val_encoded['token_type_ids'],\n",
        "                      X_val_encoded['attention_mask']],y_val),  # проверочные данные\n",
        "    batch_size=32,  # размер выборки\n",
        "    epochs=4)  # количество эпох обучения"
      ],
      "metadata": {
        "id": "lAabdonIirV6",
        "colab": {
          "base_uri": "https://localhost:8080/"
        },
        "outputId": "00bea9d1-b28e-45f9-d62e-4a41132f275d"
      },
      "execution_count": null,
      "outputs": [
        {
          "output_type": "stream",
          "name": "stdout",
          "text": [
            "Epoch 1/4\n",
            "   5/1094 [..............................] - ETA: 22:51:11 - loss: 4.6549 - accuracy: 0.4563"
          ]
        }
      ]
    },
    {
      "cell_type": "code",
      "source": [
        "# Тестирование модели на тестовых данных\n",
        "test_loss, test_accuracy = model.evaluate(\n",
        "    [X_test_encoded['input_ids'], X_test_encoded['token_type_ids'],\n",
        "     X_test_encoded['attention_mask']], y_test)\n",
        "print(f'Потери (loss) на тестовой выборке: {test_loss}, точность (accuracy) на тестовой выборке: {test_accuracy}')"
      ],
      "metadata": {
        "id": "QMVFV_nBirSR"
      },
      "execution_count": null,
      "outputs": []
    },
    {
      "cell_type": "code",
      "source": [
        "# Путь для сохранения модели на Google-Drive\n",
        "model.save_pretrained('/content/Model')"
      ],
      "metadata": {
        "id": "pHaVRMApirOJ"
      },
      "execution_count": null,
      "outputs": []
    },
    {
      "cell_type": "code",
      "source": [
        "# Загрузка токенизатора с Google-диска\n",
        "bert_tokenizer = BertTokenizer.from_pretrained('/content/Tokenizer')\n",
        "\n",
        "# Загрузка модели с Google-Drive\n",
        "bert_model = TFBertForSequenceClassification.from_pretrained('/content/Model')"
      ],
      "metadata": {
        "id": "yX2uhrNwirJ4"
      },
      "execution_count": null,
      "outputs": []
    },
    {
      "cell_type": "code",
      "source": [
        "pred = bert_model.predict(\n",
        "    [X_test_encoded['input_ids'], X_test_encoded['token_type_ids'], X_test_encoded['attention_mask']])\n",
        "\n",
        "# pred is of type TFSequenceClassifierOutput\n",
        "logits = pred.logits\n",
        "\n",
        "# Use argmax along the appropriate axis to get the predicted labels\n",
        "pred_labels = tf.argmax(logits, axis=1)\n",
        "\n",
        "# Convert the predicted labels to a NumPy array\n",
        "pred_labels = pred_labels.numpy()\n",
        "\n",
        "label = {1: 'Положительный', 0: 'Отрицательный'}\n",
        "\n",
        "# Map the predicted labels to their corresponding strings using the label dictionary\n",
        "pred_labels = [label[i] for i in pred_labels]\n",
        "real_labels = [label[i] for i in y_test]\n",
        "\n",
        "print('Предсказанный класс:', pred_labels[:10])\n",
        "print('Реальный класс     :', real_labels[:10])"
      ],
      "metadata": {
        "id": "Xg8468gcHMuq"
      },
      "execution_count": null,
      "outputs": []
    },
    {
      "cell_type": "code",
      "source": [
        "print(\"Classification Report: \\n\", classification_report(real_labels, pred_labels))"
      ],
      "metadata": {
        "id": "d7fdmuzaHMq7"
      },
      "execution_count": null,
      "outputs": []
    },
    {
      "cell_type": "code",
      "source": [
        "def plot_confusion_matrix(cm, classes):\n",
        "    cm = cm.astype('float') / cm.sum(axis=1)[:, np.newaxis]\n",
        "    plt.imshow(cm, interpolation='nearest', cmap='PiYG')\n",
        "    plt.title('Матрица ошибок', fontsize=20, fontweight='light', fontfamily='serif', color='white')\n",
        "    plt.colorbar()\n",
        "    tick_marks = np.arange(len(classes))\n",
        "    plt.xticks(tick_marks, classes, fontsize=15, fontweight='light', fontfamily='serif', color='white')\n",
        "    plt.yticks(tick_marks, classes, fontsize=15, fontweight='light', fontfamily='serif', color='white')\n",
        "    fmt = '.2f'\n",
        "    thresh = cm.max() / 2.\n",
        "    for i, j in itertools.product(range(cm.shape[0]), range(cm.shape[1])):\n",
        "        plt.text(j, i, format(cm[i, j], fmt),\n",
        "                 horizontalalignment=\"center\",\n",
        "                 color=\"white\")\n",
        "\n",
        "    plt.ylabel('Реальный класс', fontsize=18, fontweight='light', fontfamily='serif', color='white')\n",
        "    plt.xlabel('Предсказанный класс', fontsize=18, fontweight='light', fontfamily='serif', color='white')"
      ],
      "metadata": {
        "id": "vNb5lUN41gBu"
      },
      "execution_count": null,
      "outputs": []
    },
    {
      "cell_type": "code",
      "source": [
        "conf_matrix = confusion_matrix(real_labels, pred_labels)\n",
        "plt.figure(figsize=(10,10))\n",
        "plot_confusion_matrix(conf_matrix, classes=y_test.unique())\n",
        "plt.show()"
      ],
      "metadata": {
        "id": "KkJN2Zb21K-G"
      },
      "execution_count": null,
      "outputs": []
    },
    {
      "cell_type": "code",
      "source": [
        "def get_predict(review, Tokenizer=bert_tokenizer, Model=bert_model):\n",
        "    # Convert Review to a list if it's not already a list\n",
        "    if not isinstance(review, list):\n",
        "        review = [review]\n",
        "\n",
        "    Input_ids, Token_type_ids, Attention_mask = Tokenizer.batch_encode_plus(review,\n",
        "                                                                             padding=True,\n",
        "                                                                             truncation=True,\n",
        "                                                                             max_length=128,\n",
        "                                                                             return_tensors='tf').values()\n",
        "    prediction = Model.predict([Input_ids, Token_type_ids, Attention_mask])\n",
        "\n",
        "    # Use argmax along the appropriate axis to get the predicted labels\n",
        "    pred_labels = tf.argmax(prediction.logits, axis=1)\n",
        "\n",
        "    # Convert the TensorFlow tensor to a NumPy array and then to a list to get the predicted sentiment labels\n",
        "    pred_labels = [label[i] for i in pred_labels.numpy().tolist()]\n",
        "    return pred_labels"
      ],
      "metadata": {
        "id": "8p8KZ7SyHPjC"
      },
      "execution_count": null,
      "outputs": []
    },
    {
      "cell_type": "code",
      "source": [
        "review = \"\"\"French film 'Magnificent Trip', released in 2022. It is a very touching film, in which an old lady goes with\n",
        "            a taxi driver to a nursing home. During the trip, she tells the taxi driver about both difficult life situations\n",
        "            and the most memorable moments of the 92-year-old lady's life. The film is worthy of an award, it has only\n",
        "            a few actors, but the level of acting is high, and there are also beautiful views of Paris.\"\"\"\n",
        "get_predict(review)"
      ],
      "metadata": {
        "id": "9lJPCwUVHPgR"
      },
      "execution_count": null,
      "outputs": []
    }
  ]
}