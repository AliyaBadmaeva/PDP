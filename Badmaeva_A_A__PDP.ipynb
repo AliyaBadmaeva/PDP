{
  "nbformat": 4,
  "nbformat_minor": 0,
  "metadata": {
    "colab": {
      "provenance": [],
      "gpuType": "T4",
      "authorship_tag": "ABX9TyONZHl2CH+fu0HHoNAgTy3b",
      "include_colab_link": true
    },
    "kernelspec": {
      "name": "python3",
      "display_name": "Python 3"
    },
    "language_info": {
      "name": "python"
    },
    "accelerator": "GPU"
  },
  "cells": [
    {
      "cell_type": "markdown",
      "metadata": {
        "id": "view-in-github",
        "colab_type": "text"
      },
      "source": [
        "<a href=\"https://colab.research.google.com/github/AliyaBadmaeva/PDP/blob/main/Badmaeva_A_A__PDP.ipynb\" target=\"_parent\"><img src=\"https://colab.research.google.com/assets/colab-badge.svg\" alt=\"Open In Colab\"/></a>"
      ]
    },
    {
      "cell_type": "markdown",
      "source": [],
      "metadata": {
        "id": "zD6rA4UVc7v9"
      }
    },
    {
      "cell_type": "code",
      "source": [
        "TF_ENABLE_ONEDNN_OPTS=0"
      ],
      "metadata": {
        "id": "XnJCsuLD9q-B"
      },
      "execution_count": 6,
      "outputs": []
    },
    {
      "cell_type": "code",
      "source": [
        "#!pip install tf-keras"
      ],
      "metadata": {
        "colab": {
          "base_uri": "https://localhost:8080/"
        },
        "id": "yW6cZ28sZtGL",
        "outputId": "ebbc1209-a5a6-489b-f36d-37eacf8c451c"
      },
      "execution_count": 7,
      "outputs": [
        {
          "output_type": "stream",
          "name": "stdout",
          "text": [
            "\u001b[33mWARNING: Ignoring invalid distribution -ensorflow (/home/aliuska/anaconda3/envs/pdp/lib/python3.9/site-packages)\u001b[0m\u001b[33m\r\n",
            "\u001b[0mRequirement already satisfied: tf-keras in /home/aliuska/anaconda3/envs/pdp/lib/python3.9/site-packages (2.19.0)\r\n",
            "Requirement already satisfied: tensorflow<2.20,>=2.19 in /home/aliuska/anaconda3/envs/pdp/lib/python3.9/site-packages (from tf-keras) (2.19.0)\r\n",
            "Requirement already satisfied: absl-py>=1.0.0 in /home/aliuska/anaconda3/envs/pdp/lib/python3.9/site-packages (from tensorflow<2.20,>=2.19->tf-keras) (1.4.0)\r\n",
            "Requirement already satisfied: astunparse>=1.6.0 in /home/aliuska/anaconda3/envs/pdp/lib/python3.9/site-packages (from tensorflow<2.20,>=2.19->tf-keras) (1.6.3)\r\n",
            "Requirement already satisfied: flatbuffers>=24.3.25 in /home/aliuska/anaconda3/envs/pdp/lib/python3.9/site-packages (from tensorflow<2.20,>=2.19->tf-keras) (25.2.10)\r\n",
            "Requirement already satisfied: gast!=0.5.0,!=0.5.1,!=0.5.2,>=0.2.1 in /home/aliuska/anaconda3/envs/pdp/lib/python3.9/site-packages (from tensorflow<2.20,>=2.19->tf-keras) (0.4.0)\r\n",
            "Requirement already satisfied: google-pasta>=0.1.1 in /home/aliuska/anaconda3/envs/pdp/lib/python3.9/site-packages (from tensorflow<2.20,>=2.19->tf-keras) (0.2.0)\r\n",
            "Requirement already satisfied: libclang>=13.0.0 in /home/aliuska/anaconda3/envs/pdp/lib/python3.9/site-packages (from tensorflow<2.20,>=2.19->tf-keras) (18.1.1)\r\n",
            "Requirement already satisfied: opt-einsum>=2.3.2 in /home/aliuska/anaconda3/envs/pdp/lib/python3.9/site-packages (from tensorflow<2.20,>=2.19->tf-keras) (3.4.0)\r\n",
            "Requirement already satisfied: packaging in /home/aliuska/anaconda3/envs/pdp/lib/python3.9/site-packages (from tensorflow<2.20,>=2.19->tf-keras) (24.2)\r\n",
            "Requirement already satisfied: protobuf!=4.21.0,!=4.21.1,!=4.21.2,!=4.21.3,!=4.21.4,!=4.21.5,<6.0.0dev,>=3.20.3 in /home/aliuska/anaconda3/envs/pdp/lib/python3.9/site-packages (from tensorflow<2.20,>=2.19->tf-keras) (4.21.12)\r\n",
            "Requirement already satisfied: requests<3,>=2.21.0 in /home/aliuska/anaconda3/envs/pdp/lib/python3.9/site-packages (from tensorflow<2.20,>=2.19->tf-keras) (2.32.3)\r\n",
            "Requirement already satisfied: setuptools in /home/aliuska/anaconda3/envs/pdp/lib/python3.9/site-packages (from tensorflow<2.20,>=2.19->tf-keras) (72.1.0)\r\n",
            "Requirement already satisfied: six>=1.12.0 in /home/aliuska/anaconda3/envs/pdp/lib/python3.9/site-packages (from tensorflow<2.20,>=2.19->tf-keras) (1.17.0)\n",
            "Requirement already satisfied: termcolor>=1.1.0 in /home/aliuska/anaconda3/envs/pdp/lib/python3.9/site-packages (from tensorflow<2.20,>=2.19->tf-keras) (3.1.0)\n",
            "Requirement already satisfied: typing-extensions>=3.6.6 in /home/aliuska/anaconda3/envs/pdp/lib/python3.9/site-packages (from tensorflow<2.20,>=2.19->tf-keras) (4.12.2)\n",
            "Requirement already satisfied: wrapt>=1.11.0 in /home/aliuska/anaconda3/envs/pdp/lib/python3.9/site-packages (from tensorflow<2.20,>=2.19->tf-keras) (1.17.2)\n",
            "Requirement already satisfied: grpcio<2.0,>=1.24.3 in /home/aliuska/anaconda3/envs/pdp/lib/python3.9/site-packages (from tensorflow<2.20,>=2.19->tf-keras) (1.73.0)\n",
            "Requirement already satisfied: tensorboard~=2.19.0 in /home/aliuska/anaconda3/envs/pdp/lib/python3.9/site-packages (from tensorflow<2.20,>=2.19->tf-keras) (2.19.0)\n",
            "Requirement already satisfied: keras>=3.5.0 in /home/aliuska/anaconda3/envs/pdp/lib/python3.9/site-packages (from tensorflow<2.20,>=2.19->tf-keras) (3.10.0)\n",
            "Requirement already satisfied: numpy<2.2.0,>=1.26.0 in /home/aliuska/anaconda3/envs/pdp/lib/python3.9/site-packages (from tensorflow<2.20,>=2.19->tf-keras) (1.26.4)\n",
            "Requirement already satisfied: h5py>=3.11.0 in /home/aliuska/anaconda3/envs/pdp/lib/python3.9/site-packages (from tensorflow<2.20,>=2.19->tf-keras) (3.14.0)\n",
            "Requirement already satisfied: ml-dtypes<1.0.0,>=0.5.1 in /home/aliuska/anaconda3/envs/pdp/lib/python3.9/site-packages (from tensorflow<2.20,>=2.19->tf-keras) (0.5.1)\n",
            "Requirement already satisfied: tensorflow-io-gcs-filesystem>=0.23.1 in /home/aliuska/anaconda3/envs/pdp/lib/python3.9/site-packages (from tensorflow<2.20,>=2.19->tf-keras) (0.37.1)\n",
            "Requirement already satisfied: charset-normalizer<4,>=2 in /home/aliuska/anaconda3/envs/pdp/lib/python3.9/site-packages (from requests<3,>=2.21.0->tensorflow<2.20,>=2.19->tf-keras) (3.3.2)\n",
            "Requirement already satisfied: idna<4,>=2.5 in /home/aliuska/anaconda3/envs/pdp/lib/python3.9/site-packages (from requests<3,>=2.21.0->tensorflow<2.20,>=2.19->tf-keras) (3.7)\n",
            "Requirement already satisfied: urllib3<3,>=1.21.1 in /home/aliuska/anaconda3/envs/pdp/lib/python3.9/site-packages (from requests<3,>=2.21.0->tensorflow<2.20,>=2.19->tf-keras) (2.3.0)\n",
            "Requirement already satisfied: certifi>=2017.4.17 in /home/aliuska/anaconda3/envs/pdp/lib/python3.9/site-packages (from requests<3,>=2.21.0->tensorflow<2.20,>=2.19->tf-keras) (2025.4.26)\n",
            "Requirement already satisfied: markdown>=2.6.8 in /home/aliuska/anaconda3/envs/pdp/lib/python3.9/site-packages (from tensorboard~=2.19.0->tensorflow<2.20,>=2.19->tf-keras) (3.8)\n",
            "Requirement already satisfied: tensorboard-data-server<0.8.0,>=0.7.0 in /home/aliuska/anaconda3/envs/pdp/lib/python3.9/site-packages (from tensorboard~=2.19.0->tensorflow<2.20,>=2.19->tf-keras) (0.7.2)\n",
            "Requirement already satisfied: werkzeug>=1.0.1 in /home/aliuska/anaconda3/envs/pdp/lib/python3.9/site-packages (from tensorboard~=2.19.0->tensorflow<2.20,>=2.19->tf-keras) (3.1.3)\n",
            "Requirement already satisfied: wheel<1.0,>=0.23.0 in /home/aliuska/anaconda3/envs/pdp/lib/python3.9/site-packages (from astunparse>=1.6.0->tensorflow<2.20,>=2.19->tf-keras) (0.45.1)\n",
            "Requirement already satisfied: rich in /home/aliuska/anaconda3/envs/pdp/lib/python3.9/site-packages (from keras>=3.5.0->tensorflow<2.20,>=2.19->tf-keras) (14.0.0)\n",
            "Requirement already satisfied: namex in /home/aliuska/anaconda3/envs/pdp/lib/python3.9/site-packages (from keras>=3.5.0->tensorflow<2.20,>=2.19->tf-keras) (0.1.0)\n",
            "Requirement already satisfied: optree in /home/aliuska/anaconda3/envs/pdp/lib/python3.9/site-packages (from keras>=3.5.0->tensorflow<2.20,>=2.19->tf-keras) (0.16.0)\n",
            "Requirement already satisfied: importlib-metadata>=4.4 in /home/aliuska/anaconda3/envs/pdp/lib/python3.9/site-packages (from markdown>=2.6.8->tensorboard~=2.19.0->tensorflow<2.20,>=2.19->tf-keras) (8.5.0)\n",
            "Requirement already satisfied: zipp>=3.20 in /home/aliuska/anaconda3/envs/pdp/lib/python3.9/site-packages (from importlib-metadata>=4.4->markdown>=2.6.8->tensorboard~=2.19.0->tensorflow<2.20,>=2.19->tf-keras) (3.21.0)\n",
            "Requirement already satisfied: MarkupSafe>=2.1.1 in /home/aliuska/anaconda3/envs/pdp/lib/python3.9/site-packages (from werkzeug>=1.0.1->tensorboard~=2.19.0->tensorflow<2.20,>=2.19->tf-keras) (3.0.2)\n",
            "Requirement already satisfied: markdown-it-py>=2.2.0 in /home/aliuska/anaconda3/envs/pdp/lib/python3.9/site-packages (from rich->keras>=3.5.0->tensorflow<2.20,>=2.19->tf-keras) (3.0.0)\n",
            "Requirement already satisfied: pygments<3.0.0,>=2.13.0 in /home/aliuska/anaconda3/envs/pdp/lib/python3.9/site-packages (from rich->keras>=3.5.0->tensorflow<2.20,>=2.19->tf-keras) (2.19.1)\n",
            "Requirement already satisfied: mdurl~=0.1 in /home/aliuska/anaconda3/envs/pdp/lib/python3.9/site-packages (from markdown-it-py>=2.2.0->rich->keras>=3.5.0->tensorflow<2.20,>=2.19->tf-keras) (0.1.2)\n",
            "\u001b[33mWARNING: Ignoring invalid distribution -ensorflow (/home/aliuska/anaconda3/envs/pdp/lib/python3.9/site-packages)\u001b[0m\u001b[33m\n",
            "\u001b[0m\u001b[33mWARNING: Ignoring invalid distribution -ensorflow (/home/aliuska/anaconda3/envs/pdp/lib/python3.9/site-packages)\u001b[0m\u001b[33m\n",
            "\u001b[0m"
          ]
        }
      ]
    },
    {
      "cell_type": "code",
      "source": [
        "import os\n",
        "os.environ['TF_CPP_MIN_LOG_LEVEL'] = '1'"
      ],
      "metadata": {
        "id": "pM6Wr70jQKNk"
      },
      "execution_count": 8,
      "outputs": []
    },
    {
      "cell_type": "code",
      "source": [
        "#!pip install transformers"
      ],
      "metadata": {
        "colab": {
          "base_uri": "https://localhost:8080/"
        },
        "id": "lhdrhiZiGaIY",
        "outputId": "1cddcba2-b373-4e96-a6d4-1b8e713c6a6b"
      },
      "execution_count": 9,
      "outputs": [
        {
          "output_type": "stream",
          "name": "stdout",
          "text": [
            "\u001b[33mWARNING: Ignoring invalid distribution -ensorflow (/home/aliuska/anaconda3/envs/pdp/lib/python3.9/site-packages)\u001b[0m\u001b[33m\r\n",
            "\u001b[0mRequirement already satisfied: transformers in /home/aliuska/anaconda3/envs/pdp/lib/python3.9/site-packages (4.52.4)\n",
            "Requirement already satisfied: filelock in /home/aliuska/anaconda3/envs/pdp/lib/python3.9/site-packages (from transformers) (3.17.0)\n",
            "Requirement already satisfied: huggingface-hub<1.0,>=0.30.0 in /home/aliuska/anaconda3/envs/pdp/lib/python3.9/site-packages (from transformers) (0.33.0)\n",
            "Requirement already satisfied: numpy>=1.17 in /home/aliuska/anaconda3/envs/pdp/lib/python3.9/site-packages (from transformers) (1.26.4)\n",
            "Requirement already satisfied: packaging>=20.0 in /home/aliuska/anaconda3/envs/pdp/lib/python3.9/site-packages (from transformers) (24.2)\n",
            "Requirement already satisfied: pyyaml>=5.1 in /home/aliuska/anaconda3/envs/pdp/lib/python3.9/site-packages (from transformers) (6.0.2)\n",
            "Requirement already satisfied: regex!=2019.12.17 in /home/aliuska/anaconda3/envs/pdp/lib/python3.9/site-packages (from transformers) (2024.11.6)\n",
            "Requirement already satisfied: requests in /home/aliuska/anaconda3/envs/pdp/lib/python3.9/site-packages (from transformers) (2.32.3)\n",
            "Requirement already satisfied: tokenizers<0.22,>=0.21 in /home/aliuska/anaconda3/envs/pdp/lib/python3.9/site-packages (from transformers) (0.21.1)\n",
            "Requirement already satisfied: safetensors>=0.4.3 in /home/aliuska/anaconda3/envs/pdp/lib/python3.9/site-packages (from transformers) (0.5.3)\n",
            "Requirement already satisfied: tqdm>=4.27 in /home/aliuska/anaconda3/envs/pdp/lib/python3.9/site-packages (from transformers) (4.67.1)\n",
            "Requirement already satisfied: fsspec>=2023.5.0 in /home/aliuska/anaconda3/envs/pdp/lib/python3.9/site-packages (from huggingface-hub<1.0,>=0.30.0->transformers) (2025.3.2)\n",
            "Requirement already satisfied: typing-extensions>=3.7.4.3 in /home/aliuska/anaconda3/envs/pdp/lib/python3.9/site-packages (from huggingface-hub<1.0,>=0.30.0->transformers) (4.12.2)\n",
            "Requirement already satisfied: hf-xet<2.0.0,>=1.1.2 in /home/aliuska/anaconda3/envs/pdp/lib/python3.9/site-packages (from huggingface-hub<1.0,>=0.30.0->transformers) (1.1.3)\n",
            "Requirement already satisfied: charset-normalizer<4,>=2 in /home/aliuska/anaconda3/envs/pdp/lib/python3.9/site-packages (from requests->transformers) (3.3.2)\n",
            "Requirement already satisfied: idna<4,>=2.5 in /home/aliuska/anaconda3/envs/pdp/lib/python3.9/site-packages (from requests->transformers) (3.7)\n",
            "Requirement already satisfied: urllib3<3,>=1.21.1 in /home/aliuska/anaconda3/envs/pdp/lib/python3.9/site-packages (from requests->transformers) (2.3.0)\n",
            "Requirement already satisfied: certifi>=2017.4.17 in /home/aliuska/anaconda3/envs/pdp/lib/python3.9/site-packages (from requests->transformers) (2025.4.26)\n",
            "\u001b[33mWARNING: Ignoring invalid distribution -ensorflow (/home/aliuska/anaconda3/envs/pdp/lib/python3.9/site-packages)\u001b[0m\u001b[33m\n",
            "\u001b[0m\u001b[33mWARNING: Ignoring invalid distribution -ensorflow (/home/aliuska/anaconda3/envs/pdp/lib/python3.9/site-packages)\u001b[0m\u001b[33m\n",
            "\u001b[0m"
          ]
        }
      ]
    },
    {
      "cell_type": "code",
      "source": [
        "#! pip install pandas"
      ],
      "metadata": {
        "colab": {
          "base_uri": "https://localhost:8080/"
        },
        "id": "VsaLv4uLmhAe",
        "outputId": "cde753a4-0f60-4fc3-9d06-71911ccc6821"
      },
      "execution_count": 10,
      "outputs": [
        {
          "output_type": "stream",
          "name": "stdout",
          "text": [
            "\u001b[33mWARNING: Ignoring invalid distribution -ensorflow (/home/aliuska/anaconda3/envs/pdp/lib/python3.9/site-packages)\u001b[0m\u001b[33m\r\n",
            "\u001b[0mRequirement already satisfied: pandas in /home/aliuska/anaconda3/envs/pdp/lib/python3.9/site-packages (2.3.0)\r\n",
            "Requirement already satisfied: numpy>=1.22.4 in /home/aliuska/anaconda3/envs/pdp/lib/python3.9/site-packages (from pandas) (1.26.4)\r\n",
            "Requirement already satisfied: python-dateutil>=2.8.2 in /home/aliuska/anaconda3/envs/pdp/lib/python3.9/site-packages (from pandas) (2.9.0.post0)\r\n",
            "Requirement already satisfied: pytz>=2020.1 in /home/aliuska/anaconda3/envs/pdp/lib/python3.9/site-packages (from pandas) (2025.2)\r\n",
            "Requirement already satisfied: tzdata>=2022.7 in /home/aliuska/anaconda3/envs/pdp/lib/python3.9/site-packages (from pandas) (2025.2)\r\n",
            "Requirement already satisfied: six>=1.5 in /home/aliuska/anaconda3/envs/pdp/lib/python3.9/site-packages (from python-dateutil>=2.8.2->pandas) (1.17.0)\n",
            "\u001b[33mWARNING: Ignoring invalid distribution -ensorflow (/home/aliuska/anaconda3/envs/pdp/lib/python3.9/site-packages)\u001b[0m\u001b[33m\n",
            "\u001b[0m\u001b[33mWARNING: Ignoring invalid distribution -ensorflow (/home/aliuska/anaconda3/envs/pdp/lib/python3.9/site-packages)\u001b[0m\u001b[33m\n",
            "\u001b[0m"
          ]
        }
      ]
    },
    {
      "cell_type": "code",
      "source": [
        "#!pip install matplotlib"
      ],
      "metadata": {
        "colab": {
          "base_uri": "https://localhost:8080/"
        },
        "id": "kYQXghj0mnWF",
        "outputId": "a9100800-e803-4439-a9dc-c4a7902afad2"
      },
      "execution_count": 11,
      "outputs": [
        {
          "output_type": "stream",
          "name": "stdout",
          "text": [
            "\u001b[33mWARNING: Ignoring invalid distribution -ensorflow (/home/aliuska/anaconda3/envs/pdp/lib/python3.9/site-packages)\u001b[0m\u001b[33m\r\n",
            "\u001b[0mRequirement already satisfied: matplotlib in /home/aliuska/anaconda3/envs/pdp/lib/python3.9/site-packages (3.9.4)\r\n",
            "Requirement already satisfied: contourpy>=1.0.1 in /home/aliuska/anaconda3/envs/pdp/lib/python3.9/site-packages (from matplotlib) (1.3.0)\r\n",
            "Requirement already satisfied: cycler>=0.10 in /home/aliuska/anaconda3/envs/pdp/lib/python3.9/site-packages (from matplotlib) (0.12.1)\r\n",
            "Requirement already satisfied: fonttools>=4.22.0 in /home/aliuska/anaconda3/envs/pdp/lib/python3.9/site-packages (from matplotlib) (4.58.3)\r\n",
            "Requirement already satisfied: kiwisolver>=1.3.1 in /home/aliuska/anaconda3/envs/pdp/lib/python3.9/site-packages (from matplotlib) (1.4.7)\r\n",
            "Requirement already satisfied: numpy>=1.23 in /home/aliuska/anaconda3/envs/pdp/lib/python3.9/site-packages (from matplotlib) (1.26.4)\r\n",
            "Requirement already satisfied: packaging>=20.0 in /home/aliuska/anaconda3/envs/pdp/lib/python3.9/site-packages (from matplotlib) (24.2)\r\n",
            "Requirement already satisfied: pillow>=8 in /home/aliuska/anaconda3/envs/pdp/lib/python3.9/site-packages (from matplotlib) (11.1.0)\r\n",
            "Requirement already satisfied: pyparsing>=2.3.1 in /home/aliuska/anaconda3/envs/pdp/lib/python3.9/site-packages (from matplotlib) (3.2.3)\r\n",
            "Requirement already satisfied: python-dateutil>=2.7 in /home/aliuska/anaconda3/envs/pdp/lib/python3.9/site-packages (from matplotlib) (2.9.0.post0)\r\n",
            "Requirement already satisfied: importlib-resources>=3.2.0 in /home/aliuska/anaconda3/envs/pdp/lib/python3.9/site-packages (from matplotlib) (6.5.2)\n",
            "Requirement already satisfied: zipp>=3.1.0 in /home/aliuska/anaconda3/envs/pdp/lib/python3.9/site-packages (from importlib-resources>=3.2.0->matplotlib) (3.21.0)\n",
            "Requirement already satisfied: six>=1.5 in /home/aliuska/anaconda3/envs/pdp/lib/python3.9/site-packages (from python-dateutil>=2.7->matplotlib) (1.17.0)\n",
            "\u001b[33mWARNING: Ignoring invalid distribution -ensorflow (/home/aliuska/anaconda3/envs/pdp/lib/python3.9/site-packages)\u001b[0m\u001b[33m\n",
            "\u001b[0m\u001b[33mWARNING: Ignoring invalid distribution -ensorflow (/home/aliuska/anaconda3/envs/pdp/lib/python3.9/site-packages)\u001b[0m\u001b[33m\n",
            "\u001b[0m"
          ]
        }
      ]
    },
    {
      "cell_type": "code",
      "source": [
        "#!pip install seaborn"
      ],
      "metadata": {
        "colab": {
          "base_uri": "https://localhost:8080/"
        },
        "id": "YOjdtl6wmtxN",
        "outputId": "f3fcf717-263b-41af-9cd6-7762824c2bdb"
      },
      "execution_count": 12,
      "outputs": [
        {
          "output_type": "stream",
          "name": "stdout",
          "text": [
            "\u001b[33mWARNING: Ignoring invalid distribution -ensorflow (/home/aliuska/anaconda3/envs/pdp/lib/python3.9/site-packages)\u001b[0m\u001b[33m\r\n",
            "\u001b[0mRequirement already satisfied: seaborn in /home/aliuska/anaconda3/envs/pdp/lib/python3.9/site-packages (0.13.2)\r\n",
            "Requirement already satisfied: numpy!=1.24.0,>=1.20 in /home/aliuska/anaconda3/envs/pdp/lib/python3.9/site-packages (from seaborn) (1.26.4)\r\n",
            "Requirement already satisfied: pandas>=1.2 in /home/aliuska/anaconda3/envs/pdp/lib/python3.9/site-packages (from seaborn) (2.3.0)\r\n",
            "Requirement already satisfied: matplotlib!=3.6.1,>=3.4 in /home/aliuska/anaconda3/envs/pdp/lib/python3.9/site-packages (from seaborn) (3.9.4)\r\n",
            "Requirement already satisfied: contourpy>=1.0.1 in /home/aliuska/anaconda3/envs/pdp/lib/python3.9/site-packages (from matplotlib!=3.6.1,>=3.4->seaborn) (1.3.0)\r\n",
            "Requirement already satisfied: cycler>=0.10 in /home/aliuska/anaconda3/envs/pdp/lib/python3.9/site-packages (from matplotlib!=3.6.1,>=3.4->seaborn) (0.12.1)\r\n",
            "Requirement already satisfied: fonttools>=4.22.0 in /home/aliuska/anaconda3/envs/pdp/lib/python3.9/site-packages (from matplotlib!=3.6.1,>=3.4->seaborn) (4.58.3)\r\n",
            "Requirement already satisfied: kiwisolver>=1.3.1 in /home/aliuska/anaconda3/envs/pdp/lib/python3.9/site-packages (from matplotlib!=3.6.1,>=3.4->seaborn) (1.4.7)\r\n",
            "Requirement already satisfied: packaging>=20.0 in /home/aliuska/anaconda3/envs/pdp/lib/python3.9/site-packages (from matplotlib!=3.6.1,>=3.4->seaborn) (24.2)\r\n",
            "Requirement already satisfied: pillow>=8 in /home/aliuska/anaconda3/envs/pdp/lib/python3.9/site-packages (from matplotlib!=3.6.1,>=3.4->seaborn) (11.1.0)\r\n",
            "Requirement already satisfied: pyparsing>=2.3.1 in /home/aliuska/anaconda3/envs/pdp/lib/python3.9/site-packages (from matplotlib!=3.6.1,>=3.4->seaborn) (3.2.3)\r\n",
            "Requirement already satisfied: python-dateutil>=2.7 in /home/aliuska/anaconda3/envs/pdp/lib/python3.9/site-packages (from matplotlib!=3.6.1,>=3.4->seaborn) (2.9.0.post0)\r\n",
            "Requirement already satisfied: importlib-resources>=3.2.0 in /home/aliuska/anaconda3/envs/pdp/lib/python3.9/site-packages (from matplotlib!=3.6.1,>=3.4->seaborn) (6.5.2)\r\n",
            "Requirement already satisfied: zipp>=3.1.0 in /home/aliuska/anaconda3/envs/pdp/lib/python3.9/site-packages (from importlib-resources>=3.2.0->matplotlib!=3.6.1,>=3.4->seaborn) (3.21.0)\n",
            "Requirement already satisfied: pytz>=2020.1 in /home/aliuska/anaconda3/envs/pdp/lib/python3.9/site-packages (from pandas>=1.2->seaborn) (2025.2)\n",
            "Requirement already satisfied: tzdata>=2022.7 in /home/aliuska/anaconda3/envs/pdp/lib/python3.9/site-packages (from pandas>=1.2->seaborn) (2025.2)\n",
            "Requirement already satisfied: six>=1.5 in /home/aliuska/anaconda3/envs/pdp/lib/python3.9/site-packages (from python-dateutil>=2.7->matplotlib!=3.6.1,>=3.4->seaborn) (1.17.0)\n",
            "\u001b[33mWARNING: Ignoring invalid distribution -ensorflow (/home/aliuska/anaconda3/envs/pdp/lib/python3.9/site-packages)\u001b[0m\u001b[33m\n",
            "\u001b[0m\u001b[33mWARNING: Ignoring invalid distribution -ensorflow (/home/aliuska/anaconda3/envs/pdp/lib/python3.9/site-packages)\u001b[0m\u001b[33m\n",
            "\u001b[0m"
          ]
        }
      ]
    },
    {
      "cell_type": "code",
      "source": [
        "#!pip install scikit-learn"
      ],
      "metadata": {
        "colab": {
          "base_uri": "https://localhost:8080/"
        },
        "id": "sh930bmImx6F",
        "outputId": "65f0ac83-f019-4514-c95c-70dd707bb625"
      },
      "execution_count": 13,
      "outputs": [
        {
          "output_type": "stream",
          "name": "stdout",
          "text": [
            "\u001b[33mWARNING: Ignoring invalid distribution -ensorflow (/home/aliuska/anaconda3/envs/pdp/lib/python3.9/site-packages)\u001b[0m\u001b[33m\r\n",
            "\u001b[0mRequirement already satisfied: scikit-learn in /home/aliuska/anaconda3/envs/pdp/lib/python3.9/site-packages (1.6.1)\r\n",
            "Requirement already satisfied: numpy>=1.19.5 in /home/aliuska/anaconda3/envs/pdp/lib/python3.9/site-packages (from scikit-learn) (1.26.4)\r\n",
            "Requirement already satisfied: scipy>=1.6.0 in /home/aliuska/anaconda3/envs/pdp/lib/python3.9/site-packages (from scikit-learn) (1.13.1)\r\n",
            "Requirement already satisfied: joblib>=1.2.0 in /home/aliuska/anaconda3/envs/pdp/lib/python3.9/site-packages (from scikit-learn) (1.5.1)\r\n",
            "Requirement already satisfied: threadpoolctl>=3.1.0 in /home/aliuska/anaconda3/envs/pdp/lib/python3.9/site-packages (from scikit-learn) (3.6.0)\n",
            "\u001b[33mWARNING: Ignoring invalid distribution -ensorflow (/home/aliuska/anaconda3/envs/pdp/lib/python3.9/site-packages)\u001b[0m\u001b[33m\n",
            "\u001b[0m\u001b[33mWARNING: Ignoring invalid distribution -ensorflow (/home/aliuska/anaconda3/envs/pdp/lib/python3.9/site-packages)\u001b[0m\u001b[33m\n",
            "\u001b[0m"
          ]
        }
      ]
    },
    {
      "cell_type": "code",
      "source": [
        "import os\n",
        "import numpy as np\n",
        "import pandas as pd\n",
        "import matplotlib.pyplot as plt\n",
        "import seaborn as sns\n",
        "from sklearn.model_selection import train_test_split\n",
        "import itertools\n",
        "from sklearn.metrics import confusion_matrix, classification_report, accuracy_score\n",
        "import pandas as pd\n",
        "from sklearn.model_selection import train_test_split\n",
        "from sklearn.metrics import classification_report"
      ],
      "metadata": {
        "id": "wnmW7J50EbwS"
      },
      "execution_count": 14,
      "outputs": []
    },
    {
      "cell_type": "code",
      "source": [
        "!pip show transformers"
      ],
      "metadata": {
        "colab": {
          "base_uri": "https://localhost:8080/"
        },
        "id": "izM0FmeQKQhv",
        "outputId": "fc367b42-0291-449d-c9bd-d91b157082cb"
      },
      "execution_count": 15,
      "outputs": [
        {
          "output_type": "stream",
          "name": "stdout",
          "text": [
            "\u001b[33mWARNING: Ignoring invalid distribution -ensorflow (/home/aliuska/anaconda3/envs/pdp/lib/python3.9/site-packages)\u001b[0m\u001b[33m\n",
            "\u001b[0mName: transformers\n",
            "Version: 4.52.4\n",
            "Summary: State-of-the-art Machine Learning for JAX, PyTorch and TensorFlow\n",
            "Home-page: https://github.com/huggingface/transformers\n",
            "Author: The Hugging Face team (past and future) with the help of all our contributors (https://github.com/huggingface/transformers/graphs/contributors)\n",
            "Author-email: transformers@huggingface.co\n",
            "License: Apache 2.0 License\n",
            "Location: /home/aliuska/anaconda3/envs/pdp/lib/python3.9/site-packages\n",
            "Requires: filelock, huggingface-hub, numpy, packaging, pyyaml, regex, requests, safetensors, tokenizers, tqdm\n",
            "Required-by: \n"
          ]
        }
      ]
    },
    {
      "cell_type": "code",
      "source": [
        "#! pip install keras==2.3.1\n",
        "#! pip install tensorflow==1.19"
      ],
      "metadata": {
        "colab": {
          "base_uri": "https://localhost:8080/"
        },
        "id": "0xxQm_2SoDWO",
        "outputId": "fb485287-f1ad-4edb-8d8e-ecb0e933cffc"
      },
      "execution_count": 16,
      "outputs": [
        {
          "output_type": "stream",
          "name": "stdout",
          "text": [
            "\u001b[33mWARNING: Ignoring invalid distribution -ensorflow (/home/aliuska/anaconda3/envs/pdp/lib/python3.9/site-packages)\u001b[0m\u001b[33m\n",
            "\u001b[0mCollecting keras==2.3.1\n",
            "  Using cached Keras-2.3.1-py2.py3-none-any.whl.metadata (2.2 kB)\n",
            "Requirement already satisfied: numpy>=1.9.1 in /home/aliuska/anaconda3/envs/pdp/lib/python3.9/site-packages (from keras==2.3.1) (1.26.4)\n",
            "Requirement already satisfied: scipy>=0.14 in /home/aliuska/anaconda3/envs/pdp/lib/python3.9/site-packages (from keras==2.3.1) (1.13.1)\n",
            "Requirement already satisfied: six>=1.9.0 in /home/aliuska/anaconda3/envs/pdp/lib/python3.9/site-packages (from keras==2.3.1) (1.17.0)\n",
            "Requirement already satisfied: pyyaml in /home/aliuska/anaconda3/envs/pdp/lib/python3.9/site-packages (from keras==2.3.1) (6.0.2)\n",
            "Requirement already satisfied: h5py in /home/aliuska/anaconda3/envs/pdp/lib/python3.9/site-packages (from keras==2.3.1) (3.14.0)\n",
            "Requirement already satisfied: keras-applications>=1.0.6 in /home/aliuska/anaconda3/envs/pdp/lib/python3.9/site-packages (from keras==2.3.1) (1.0.8)\n",
            "Requirement already satisfied: keras-preprocessing>=1.0.5 in /home/aliuska/anaconda3/envs/pdp/lib/python3.9/site-packages (from keras==2.3.1) (1.1.2)\n",
            "Using cached Keras-2.3.1-py2.py3-none-any.whl (377 kB)\n",
            "\u001b[33mWARNING: Ignoring invalid distribution -ensorflow (/home/aliuska/anaconda3/envs/pdp/lib/python3.9/site-packages)\u001b[0m\u001b[33m\n",
            "\u001b[0mInstalling collected packages: keras\n",
            "  Attempting uninstall: keras\n",
            "    Found existing installation: keras 3.10.0\n",
            "    Uninstalling keras-3.10.0:\n",
            "      Successfully uninstalled keras-3.10.0\n",
            "\u001b[33mWARNING: Ignoring invalid distribution -ensorflow (/home/aliuska/anaconda3/envs/pdp/lib/python3.9/site-packages)\u001b[0m\u001b[33m\n",
            "\u001b[0m\u001b[31mERROR: pip's dependency resolver does not currently take into account all the packages that are installed. This behaviour is the source of the following dependency conflicts.\n",
            "tensorflow 2.19.0 requires keras>=3.5.0, but you have keras 2.3.1 which is incompatible.\u001b[0m\u001b[31m\n",
            "\u001b[0mSuccessfully installed keras-2.3.1\n",
            "\u001b[33mWARNING: Ignoring invalid distribution -ensorflow (/home/aliuska/anaconda3/envs/pdp/lib/python3.9/site-packages)\u001b[0m\u001b[33m\n",
            "\u001b[0m\u001b[31mERROR: Could not find a version that satisfies the requirement tensorflow==1.19 (from versions: 2.5.0, 2.5.1, 2.5.2, 2.5.3, 2.6.0rc0, 2.6.0rc1, 2.6.0rc2, 2.6.0, 2.6.1, 2.6.2, 2.6.3, 2.6.4, 2.6.5, 2.7.0rc0, 2.7.0rc1, 2.7.0, 2.7.1, 2.7.2, 2.7.3, 2.7.4, 2.8.0rc0, 2.8.0rc1, 2.8.0, 2.8.1, 2.8.2, 2.8.3, 2.8.4, 2.9.0rc0, 2.9.0rc1, 2.9.0rc2, 2.9.0, 2.9.1, 2.9.2, 2.9.3, 2.10.0rc0, 2.10.0rc1, 2.10.0rc2, 2.10.0rc3, 2.10.0, 2.10.1, 2.11.0rc0, 2.11.0rc1, 2.11.0rc2, 2.11.0, 2.11.1, 2.12.0rc0, 2.12.0rc1, 2.12.0, 2.12.1, 2.13.0rc0, 2.13.0rc1, 2.13.0rc2, 2.13.0, 2.13.1, 2.14.0rc0, 2.14.0rc1, 2.14.0, 2.14.1, 2.15.0rc0, 2.15.0rc1, 2.15.0, 2.15.0.post1, 2.15.1, 2.16.0rc0, 2.16.1, 2.16.2, 2.17.0rc0, 2.17.0rc1, 2.17.0, 2.17.1, 2.18.0rc0, 2.18.0rc1, 2.18.0rc2, 2.18.0, 2.18.1, 2.19.0rc0, 2.19.0)\u001b[0m\u001b[31m\n",
            "\u001b[0m\u001b[31mERROR: No matching distribution found for tensorflow==1.19\u001b[0m\u001b[31m\n",
            "\u001b[0m"
          ]
        }
      ]
    },
    {
      "cell_type": "code",
      "source": [
        "!pip show tensorflow"
      ],
      "metadata": {
        "colab": {
          "base_uri": "https://localhost:8080/"
        },
        "id": "qyhHYHLYqUg1",
        "outputId": "f17be9f3-cff7-4e08-a9d7-7b8155a137d5"
      },
      "execution_count": 17,
      "outputs": [
        {
          "output_type": "stream",
          "name": "stdout",
          "text": [
            "\u001b[33mWARNING: Ignoring invalid distribution -ensorflow (/home/aliuska/anaconda3/envs/pdp/lib/python3.9/site-packages)\u001b[0m\u001b[33m\n",
            "\u001b[0mName: tensorflow\n",
            "Version: 2.19.0\n",
            "Summary: TensorFlow is an open source machine learning framework for everyone.\n",
            "Home-page: https://www.tensorflow.org/\n",
            "Author: Google Inc.\n",
            "Author-email: packages@tensorflow.org\n",
            "License: Apache 2.0\n",
            "Location: /home/aliuska/anaconda3/envs/pdp/lib/python3.9/site-packages\n",
            "Requires: absl-py, astunparse, flatbuffers, gast, google-pasta, grpcio, h5py, keras, libclang, ml-dtypes, numpy, opt-einsum, packaging, protobuf, requests, setuptools, six, tensorboard, tensorflow-io-gcs-filesystem, termcolor, typing-extensions, wrapt\n",
            "Required-by: tensorflow-text, tf-models-official, tf_keras\n"
          ]
        }
      ]
    },
    {
      "cell_type": "code",
      "source": [
        "#!pip install -q -U \"tensorflow-text==2.11.*\""
      ],
      "metadata": {
        "colab": {
          "base_uri": "https://localhost:8080/"
        },
        "id": "_7pwvQx_rcaG",
        "outputId": "bfd91e5e-b7fd-4aac-c596-fbc50cf1ffec"
      },
      "execution_count": 18,
      "outputs": [
        {
          "output_type": "stream",
          "name": "stdout",
          "text": [
            "\u001b[33mWARNING: Ignoring invalid distribution -ensorflow (/home/aliuska/anaconda3/envs/pdp/lib/python3.9/site-packages)\u001b[0m\u001b[33m\n",
            "\u001b[0m\u001b[33mWARNING: Ignoring invalid distribution -ensorflow (/home/aliuska/anaconda3/envs/pdp/lib/python3.9/site-packages)\u001b[0m\u001b[33m\n",
            "\u001b[0m\u001b[33mWARNING: Ignoring invalid distribution -ensorflow (/home/aliuska/anaconda3/envs/pdp/lib/python3.9/site-packages)\u001b[0m\u001b[33m\n",
            "\u001b[0m\u001b[31mERROR: pip's dependency resolver does not currently take into account all the packages that are installed. This behaviour is the source of the following dependency conflicts.\n",
            "googleapis-common-protos 1.70.0 requires protobuf!=4.21.1,!=4.21.2,!=4.21.3,!=4.21.4,!=4.21.5,<7.0.0,>=3.20.2, but you have protobuf 3.19.6 which is incompatible.\n",
            "tensorflow-datasets 4.9.3 requires protobuf>=3.20, but you have protobuf 3.19.6 which is incompatible.\n",
            "tensorflow-metadata 1.17.1 requires protobuf<4.22,>=4.21.6; python_version < \"3.11\", but you have protobuf 3.19.6 which is incompatible.\n",
            "tf-models-official 2.19.1 requires tensorflow~=2.19.0, but you have tensorflow 2.11.1 which is incompatible.\n",
            "tf-models-official 2.19.1 requires tensorflow-text~=2.19.0, but you have tensorflow-text 2.11.0 which is incompatible.\n",
            "tf-models-official 2.19.1 requires tf-keras>=2.16.0, but you have tf-keras 2.15.0 which is incompatible.\u001b[0m\u001b[31m\n",
            "\u001b[0m"
          ]
        }
      ]
    },
    {
      "cell_type": "code",
      "source": [
        "from transformers import BertTokenizer\n",
        "from transformers.optimization import get_linear_schedule_with_warmup"
      ],
      "metadata": {
        "id": "wB-QwDzmHMYW"
      },
      "execution_count": 19,
      "outputs": []
    },
    {
      "cell_type": "code",
      "source": [
        "#!pip install -q tf-models-official"
      ],
      "metadata": {
        "colab": {
          "base_uri": "https://localhost:8080/"
        },
        "id": "B7wbzcb3sK4O",
        "outputId": "2303c8d0-2eff-4ce9-ec39-bfb8cc58905b"
      },
      "execution_count": 20,
      "outputs": [
        {
          "output_type": "stream",
          "name": "stdout",
          "text": [
            "\u001b[33mWARNING: Ignoring invalid distribution -ensorflow (/home/aliuska/anaconda3/envs/pdp/lib/python3.9/site-packages)\u001b[0m\u001b[33m\n",
            "\u001b[0m\u001b[33mWARNING: Ignoring invalid distribution -ensorflow (/home/aliuska/anaconda3/envs/pdp/lib/python3.9/site-packages)\u001b[0m\u001b[33m\n",
            "\u001b[0m\u001b[33mWARNING: Ignoring invalid distribution -ensorflow (/home/aliuska/anaconda3/envs/pdp/lib/python3.9/site-packages)\u001b[0m\u001b[33m\n",
            "\u001b[0m"
          ]
        }
      ]
    },
    {
      "cell_type": "code",
      "source": [],
      "metadata": {
        "id": "aedujXwlsL_t"
      },
      "execution_count": 20,
      "outputs": []
    },
    {
      "cell_type": "code",
      "source": [
        "import warnings\n",
        "warnings.filterwarnings('ignore')"
      ],
      "metadata": {
        "id": "QZq0moi5crM8"
      },
      "execution_count": 21,
      "outputs": []
    },
    {
      "cell_type": "code",
      "source": [
        "# ссылка на датасет на Гитхабе\n",
        "#IMDB = 'https://raw.githubusercontent.com/AliyaBadmaeva/imdb/master/IMDB_Dataset.zip'"
      ],
      "metadata": {
        "id": "aJYn6kzFdQjF"
      },
      "execution_count": 22,
      "outputs": []
    },
    {
      "cell_type": "code",
      "source": [
        "train = pd.read_csv('train_df.csv')  # чтение данных с помощью библиотеки Pandas\n",
        "test = pd.read_csv('test_df.csv')\n",
        "val = pd.read_csv('val_df.csv')\n",
        "\n",
        "train.head(10)  # Первые 10 строк датасета"
      ],
      "metadata": {
        "colab": {
          "base_uri": "https://localhost:8080/",
          "height": 363
        },
        "id": "UeafEJwNdvVE",
        "outputId": "2f99d46e-6174-48b9-f647-2f5928347d6c"
      },
      "execution_count": 23,
      "outputs": [
        {
          "output_type": "execute_result",
          "data": {
            "text/plain": [
              "      id                                               text  label sentiment\n",
              "0   9536                    Cooking microwave pizzas, yummy      2  positive\n",
              "1   6135  Any plans of allowing sub tasks to show up in ...      1   neutral\n",
              "2  17697   I love the humor, I just reworded it. Like sa...      2  positive\n",
              "3  14182                       naw idk what ur talkin about      1   neutral\n",
              "4  17840          That sucks to hear. I hate days like that      0  negative\n",
              "5   3655   Umm yeah. That`s probably a pretty good note ...      2  positive\n",
              "6    719                              whatever do you mean?      1   neutral\n",
              "7  22823   That would panic me a little!  Maybe you can ...      0  negative\n",
              "8   4869               Is sad when people`s phones are dead      0  negative\n",
              "9    793                                          sad face.      0  negative"
            ],
            "text/html": [
              "<div>\n",
              "<style scoped>\n",
              "    .dataframe tbody tr th:only-of-type {\n",
              "        vertical-align: middle;\n",
              "    }\n",
              "\n",
              "    .dataframe tbody tr th {\n",
              "        vertical-align: top;\n",
              "    }\n",
              "\n",
              "    .dataframe thead th {\n",
              "        text-align: right;\n",
              "    }\n",
              "</style>\n",
              "<table border=\"1\" class=\"dataframe\">\n",
              "  <thead>\n",
              "    <tr style=\"text-align: right;\">\n",
              "      <th></th>\n",
              "      <th>id</th>\n",
              "      <th>text</th>\n",
              "      <th>label</th>\n",
              "      <th>sentiment</th>\n",
              "    </tr>\n",
              "  </thead>\n",
              "  <tbody>\n",
              "    <tr>\n",
              "      <th>0</th>\n",
              "      <td>9536</td>\n",
              "      <td>Cooking microwave pizzas, yummy</td>\n",
              "      <td>2</td>\n",
              "      <td>positive</td>\n",
              "    </tr>\n",
              "    <tr>\n",
              "      <th>1</th>\n",
              "      <td>6135</td>\n",
              "      <td>Any plans of allowing sub tasks to show up in ...</td>\n",
              "      <td>1</td>\n",
              "      <td>neutral</td>\n",
              "    </tr>\n",
              "    <tr>\n",
              "      <th>2</th>\n",
              "      <td>17697</td>\n",
              "      <td>I love the humor, I just reworded it. Like sa...</td>\n",
              "      <td>2</td>\n",
              "      <td>positive</td>\n",
              "    </tr>\n",
              "    <tr>\n",
              "      <th>3</th>\n",
              "      <td>14182</td>\n",
              "      <td>naw idk what ur talkin about</td>\n",
              "      <td>1</td>\n",
              "      <td>neutral</td>\n",
              "    </tr>\n",
              "    <tr>\n",
              "      <th>4</th>\n",
              "      <td>17840</td>\n",
              "      <td>That sucks to hear. I hate days like that</td>\n",
              "      <td>0</td>\n",
              "      <td>negative</td>\n",
              "    </tr>\n",
              "    <tr>\n",
              "      <th>5</th>\n",
              "      <td>3655</td>\n",
              "      <td>Umm yeah. That`s probably a pretty good note ...</td>\n",
              "      <td>2</td>\n",
              "      <td>positive</td>\n",
              "    </tr>\n",
              "    <tr>\n",
              "      <th>6</th>\n",
              "      <td>719</td>\n",
              "      <td>whatever do you mean?</td>\n",
              "      <td>1</td>\n",
              "      <td>neutral</td>\n",
              "    </tr>\n",
              "    <tr>\n",
              "      <th>7</th>\n",
              "      <td>22823</td>\n",
              "      <td>That would panic me a little!  Maybe you can ...</td>\n",
              "      <td>0</td>\n",
              "      <td>negative</td>\n",
              "    </tr>\n",
              "    <tr>\n",
              "      <th>8</th>\n",
              "      <td>4869</td>\n",
              "      <td>Is sad when people`s phones are dead</td>\n",
              "      <td>0</td>\n",
              "      <td>negative</td>\n",
              "    </tr>\n",
              "    <tr>\n",
              "      <th>9</th>\n",
              "      <td>793</td>\n",
              "      <td>sad face.</td>\n",
              "      <td>0</td>\n",
              "      <td>negative</td>\n",
              "    </tr>\n",
              "  </tbody>\n",
              "</table>\n",
              "</div>"
            ]
          },
          "metadata": {},
          "execution_count": 23
        }
      ]
    },
    {
      "cell_type": "code",
      "source": [
        "test.head()"
      ],
      "metadata": {
        "id": "g_BNRKI1Jctp",
        "colab": {
          "base_uri": "https://localhost:8080/",
          "height": 206
        },
        "outputId": "21ca5247-3388-4132-86cb-67dd0b422a93"
      },
      "execution_count": 24,
      "outputs": [
        {
          "output_type": "execute_result",
          "data": {
            "text/plain": [
              "      id                                               text  label sentiment\n",
              "0   9235                         getting cds ready for tour      1   neutral\n",
              "1  16790   MC, happy mother`s day to your mom ;).. love yah      2  positive\n",
              "2  24840  A year from now is graduation....i am pretty s...      0  negative\n",
              "3  20744              because you had chips and sale w/o me      1   neutral\n",
              "4   6414          Great for organising my work life balance      2  positive"
            ],
            "text/html": [
              "<div>\n",
              "<style scoped>\n",
              "    .dataframe tbody tr th:only-of-type {\n",
              "        vertical-align: middle;\n",
              "    }\n",
              "\n",
              "    .dataframe tbody tr th {\n",
              "        vertical-align: top;\n",
              "    }\n",
              "\n",
              "    .dataframe thead th {\n",
              "        text-align: right;\n",
              "    }\n",
              "</style>\n",
              "<table border=\"1\" class=\"dataframe\">\n",
              "  <thead>\n",
              "    <tr style=\"text-align: right;\">\n",
              "      <th></th>\n",
              "      <th>id</th>\n",
              "      <th>text</th>\n",
              "      <th>label</th>\n",
              "      <th>sentiment</th>\n",
              "    </tr>\n",
              "  </thead>\n",
              "  <tbody>\n",
              "    <tr>\n",
              "      <th>0</th>\n",
              "      <td>9235</td>\n",
              "      <td>getting cds ready for tour</td>\n",
              "      <td>1</td>\n",
              "      <td>neutral</td>\n",
              "    </tr>\n",
              "    <tr>\n",
              "      <th>1</th>\n",
              "      <td>16790</td>\n",
              "      <td>MC, happy mother`s day to your mom ;).. love yah</td>\n",
              "      <td>2</td>\n",
              "      <td>positive</td>\n",
              "    </tr>\n",
              "    <tr>\n",
              "      <th>2</th>\n",
              "      <td>24840</td>\n",
              "      <td>A year from now is graduation....i am pretty s...</td>\n",
              "      <td>0</td>\n",
              "      <td>negative</td>\n",
              "    </tr>\n",
              "    <tr>\n",
              "      <th>3</th>\n",
              "      <td>20744</td>\n",
              "      <td>because you had chips and sale w/o me</td>\n",
              "      <td>1</td>\n",
              "      <td>neutral</td>\n",
              "    </tr>\n",
              "    <tr>\n",
              "      <th>4</th>\n",
              "      <td>6414</td>\n",
              "      <td>Great for organising my work life balance</td>\n",
              "      <td>2</td>\n",
              "      <td>positive</td>\n",
              "    </tr>\n",
              "  </tbody>\n",
              "</table>\n",
              "</div>"
            ]
          },
          "metadata": {},
          "execution_count": 24
        }
      ]
    },
    {
      "cell_type": "code",
      "source": [
        "val.head()"
      ],
      "metadata": {
        "colab": {
          "base_uri": "https://localhost:8080/",
          "height": 206
        },
        "id": "hWYj-qWLsjJW",
        "outputId": "691d9dbe-6c5a-4110-8094-20a92464d79c"
      },
      "execution_count": 25,
      "outputs": [
        {
          "output_type": "execute_result",
          "data": {
            "text/plain": [
              "      id                                               text  label sentiment\n",
              "0    317  Laying in bed til workkk... Oh the life. Defin...      0  negative\n",
              "1  24292   ooohhh imma need you to get on that asap love...      2  positive\n",
              "2   3513   Thanks! I love it they have a video, so you d...      2  positive\n",
              "3   4322     I left my ipod in the car so now its all warm.      2  positive\n",
              "4   6203  Great app. Only complaint is that I'd like the...      2  positive"
            ],
            "text/html": [
              "<div>\n",
              "<style scoped>\n",
              "    .dataframe tbody tr th:only-of-type {\n",
              "        vertical-align: middle;\n",
              "    }\n",
              "\n",
              "    .dataframe tbody tr th {\n",
              "        vertical-align: top;\n",
              "    }\n",
              "\n",
              "    .dataframe thead th {\n",
              "        text-align: right;\n",
              "    }\n",
              "</style>\n",
              "<table border=\"1\" class=\"dataframe\">\n",
              "  <thead>\n",
              "    <tr style=\"text-align: right;\">\n",
              "      <th></th>\n",
              "      <th>id</th>\n",
              "      <th>text</th>\n",
              "      <th>label</th>\n",
              "      <th>sentiment</th>\n",
              "    </tr>\n",
              "  </thead>\n",
              "  <tbody>\n",
              "    <tr>\n",
              "      <th>0</th>\n",
              "      <td>317</td>\n",
              "      <td>Laying in bed til workkk... Oh the life. Defin...</td>\n",
              "      <td>0</td>\n",
              "      <td>negative</td>\n",
              "    </tr>\n",
              "    <tr>\n",
              "      <th>1</th>\n",
              "      <td>24292</td>\n",
              "      <td>ooohhh imma need you to get on that asap love...</td>\n",
              "      <td>2</td>\n",
              "      <td>positive</td>\n",
              "    </tr>\n",
              "    <tr>\n",
              "      <th>2</th>\n",
              "      <td>3513</td>\n",
              "      <td>Thanks! I love it they have a video, so you d...</td>\n",
              "      <td>2</td>\n",
              "      <td>positive</td>\n",
              "    </tr>\n",
              "    <tr>\n",
              "      <th>3</th>\n",
              "      <td>4322</td>\n",
              "      <td>I left my ipod in the car so now its all warm.</td>\n",
              "      <td>2</td>\n",
              "      <td>positive</td>\n",
              "    </tr>\n",
              "    <tr>\n",
              "      <th>4</th>\n",
              "      <td>6203</td>\n",
              "      <td>Great app. Only complaint is that I'd like the...</td>\n",
              "      <td>2</td>\n",
              "      <td>positive</td>\n",
              "    </tr>\n",
              "  </tbody>\n",
              "</table>\n",
              "</div>"
            ]
          },
          "metadata": {},
          "execution_count": 25
        }
      ]
    },
    {
      "cell_type": "code",
      "source": [
        "train.info()  # типы данных для каждого их признаков и количество строк"
      ],
      "metadata": {
        "colab": {
          "base_uri": "https://localhost:8080/"
        },
        "id": "rhmzdQWNd6-M",
        "outputId": "945e6024-d599-47c3-8dee-5e38c0db3987"
      },
      "execution_count": 26,
      "outputs": [
        {
          "output_type": "stream",
          "name": "stdout",
          "text": [
            "<class 'pandas.core.frame.DataFrame'>\n",
            "RangeIndex: 31232 entries, 0 to 31231\n",
            "Data columns (total 4 columns):\n",
            " #   Column     Non-Null Count  Dtype \n",
            "---  ------     --------------  ----- \n",
            " 0   id         31232 non-null  int64 \n",
            " 1   text       31232 non-null  object\n",
            " 2   label      31232 non-null  int64 \n",
            " 3   sentiment  31232 non-null  object\n",
            "dtypes: int64(2), object(2)\n",
            "memory usage: 976.1+ KB\n"
          ]
        }
      ]
    },
    {
      "cell_type": "code",
      "source": [
        "test.info()"
      ],
      "metadata": {
        "colab": {
          "base_uri": "https://localhost:8080/"
        },
        "id": "VxV4sWvust5e",
        "outputId": "e95eb2b0-1333-450e-f85f-77dc4ef610f1"
      },
      "execution_count": 27,
      "outputs": [
        {
          "output_type": "stream",
          "name": "stdout",
          "text": [
            "<class 'pandas.core.frame.DataFrame'>\n",
            "RangeIndex: 5206 entries, 0 to 5205\n",
            "Data columns (total 4 columns):\n",
            " #   Column     Non-Null Count  Dtype \n",
            "---  ------     --------------  ----- \n",
            " 0   id         5206 non-null   int64 \n",
            " 1   text       5205 non-null   object\n",
            " 2   label      5206 non-null   int64 \n",
            " 3   sentiment  5206 non-null   object\n",
            "dtypes: int64(2), object(2)\n",
            "memory usage: 162.8+ KB\n"
          ]
        }
      ]
    },
    {
      "cell_type": "code",
      "source": [
        "val.info()"
      ],
      "metadata": {
        "colab": {
          "base_uri": "https://localhost:8080/"
        },
        "id": "_O2MgFOEsxeu",
        "outputId": "700f83e7-dadf-4eef-b2d0-6b727e346a0f"
      },
      "execution_count": 28,
      "outputs": [
        {
          "output_type": "stream",
          "name": "stdout",
          "text": [
            "<class 'pandas.core.frame.DataFrame'>\n",
            "RangeIndex: 5205 entries, 0 to 5204\n",
            "Data columns (total 4 columns):\n",
            " #   Column     Non-Null Count  Dtype \n",
            "---  ------     --------------  ----- \n",
            " 0   id         5205 non-null   int64 \n",
            " 1   text       5205 non-null   object\n",
            " 2   label      5205 non-null   int64 \n",
            " 3   sentiment  5205 non-null   object\n",
            "dtypes: int64(2), object(2)\n",
            "memory usage: 162.8+ KB\n"
          ]
        }
      ]
    },
    {
      "cell_type": "code",
      "source": [
        "train.describe()  # статистические данные"
      ],
      "metadata": {
        "colab": {
          "base_uri": "https://localhost:8080/",
          "height": 300
        },
        "id": "bUpyUM0Se2ll",
        "outputId": "cfe4b6c6-f01a-4362-f141-faacd7162fa3"
      },
      "execution_count": 29,
      "outputs": [
        {
          "output_type": "execute_result",
          "data": {
            "text/plain": [
              "                 id         label\n",
              "count  31232.000000  31232.000000\n",
              "mean   10576.775359      1.043961\n",
              "std     8010.753795      0.790636\n",
              "min        0.000000      0.000000\n",
              "25%     3476.000000      0.000000\n",
              "50%     8662.000000      1.000000\n",
              "75%    17071.500000      2.000000\n",
              "max    27480.000000      2.000000"
            ],
            "text/html": [
              "<div>\n",
              "<style scoped>\n",
              "    .dataframe tbody tr th:only-of-type {\n",
              "        vertical-align: middle;\n",
              "    }\n",
              "\n",
              "    .dataframe tbody tr th {\n",
              "        vertical-align: top;\n",
              "    }\n",
              "\n",
              "    .dataframe thead th {\n",
              "        text-align: right;\n",
              "    }\n",
              "</style>\n",
              "<table border=\"1\" class=\"dataframe\">\n",
              "  <thead>\n",
              "    <tr style=\"text-align: right;\">\n",
              "      <th></th>\n",
              "      <th>id</th>\n",
              "      <th>label</th>\n",
              "    </tr>\n",
              "  </thead>\n",
              "  <tbody>\n",
              "    <tr>\n",
              "      <th>count</th>\n",
              "      <td>31232.000000</td>\n",
              "      <td>31232.000000</td>\n",
              "    </tr>\n",
              "    <tr>\n",
              "      <th>mean</th>\n",
              "      <td>10576.775359</td>\n",
              "      <td>1.043961</td>\n",
              "    </tr>\n",
              "    <tr>\n",
              "      <th>std</th>\n",
              "      <td>8010.753795</td>\n",
              "      <td>0.790636</td>\n",
              "    </tr>\n",
              "    <tr>\n",
              "      <th>min</th>\n",
              "      <td>0.000000</td>\n",
              "      <td>0.000000</td>\n",
              "    </tr>\n",
              "    <tr>\n",
              "      <th>25%</th>\n",
              "      <td>3476.000000</td>\n",
              "      <td>0.000000</td>\n",
              "    </tr>\n",
              "    <tr>\n",
              "      <th>50%</th>\n",
              "      <td>8662.000000</td>\n",
              "      <td>1.000000</td>\n",
              "    </tr>\n",
              "    <tr>\n",
              "      <th>75%</th>\n",
              "      <td>17071.500000</td>\n",
              "      <td>2.000000</td>\n",
              "    </tr>\n",
              "    <tr>\n",
              "      <th>max</th>\n",
              "      <td>27480.000000</td>\n",
              "      <td>2.000000</td>\n",
              "    </tr>\n",
              "  </tbody>\n",
              "</table>\n",
              "</div>"
            ]
          },
          "metadata": {},
          "execution_count": 29
        }
      ]
    },
    {
      "cell_type": "code",
      "source": [],
      "metadata": {
        "id": "n898BkrZs5PG"
      },
      "execution_count": 29,
      "outputs": []
    },
    {
      "cell_type": "code",
      "source": [
        "train['label'].value_counts()  # количество данных в целевом признаке"
      ],
      "metadata": {
        "colab": {
          "base_uri": "https://localhost:8080/"
        },
        "id": "P4RwAzAifDPO",
        "outputId": "29a5a588-d21a-4be6-a05b-f15e1446f6dd"
      },
      "execution_count": 30,
      "outputs": [
        {
          "output_type": "execute_result",
          "data": {
            "text/plain": [
              "label\n",
              "1    11649\n",
              "2    10478\n",
              "0     9105\n",
              "Name: count, dtype: int64"
            ]
          },
          "metadata": {},
          "execution_count": 30
        }
      ]
    },
    {
      "cell_type": "code",
      "source": [
        "test['label'].value_counts()"
      ],
      "metadata": {
        "colab": {
          "base_uri": "https://localhost:8080/"
        },
        "id": "jMoyTLAns9kF",
        "outputId": "fdab82a0-e672-4182-ae00-1fed6ffa10de"
      },
      "execution_count": 31,
      "outputs": [
        {
          "output_type": "execute_result",
          "data": {
            "text/plain": [
              "label\n",
              "1    1930\n",
              "2    1730\n",
              "0    1546\n",
              "Name: count, dtype: int64"
            ]
          },
          "metadata": {},
          "execution_count": 31
        }
      ]
    },
    {
      "cell_type": "code",
      "source": [
        "val['label'].value_counts()"
      ],
      "metadata": {
        "colab": {
          "base_uri": "https://localhost:8080/"
        },
        "id": "AoiFMi0etCOX",
        "outputId": "04fc6afd-19a1-4567-9783-9b37ac2213cb"
      },
      "execution_count": 32,
      "outputs": [
        {
          "output_type": "execute_result",
          "data": {
            "text/plain": [
              "label\n",
              "1    1928\n",
              "2    1760\n",
              "0    1517\n",
              "Name: count, dtype: int64"
            ]
          },
          "metadata": {},
          "execution_count": 32
        }
      ]
    },
    {
      "cell_type": "code",
      "source": [
        "val.dropna(axis=0, how='any', subset=['text', 'label'], inplace=True)\n",
        "train.dropna(axis=0, how='any',subset=['text', 'label'], inplace=True)\n",
        "test.dropna(axis=0, how='any', subset=['text', 'label'], inplace=True)"
      ],
      "metadata": {
        "id": "qOSExQyw608Q"
      },
      "execution_count": 83,
      "outputs": []
    },
    {
      "cell_type": "code",
      "source": [
        "train.info()"
      ],
      "metadata": {
        "colab": {
          "base_uri": "https://localhost:8080/"
        },
        "id": "urxHjqSk7Qjm",
        "outputId": "5004f025-f77b-43e2-a7fc-af52f44d3362"
      },
      "execution_count": 84,
      "outputs": [
        {
          "output_type": "stream",
          "name": "stdout",
          "text": [
            "<class 'pandas.core.frame.DataFrame'>\n",
            "RangeIndex: 31232 entries, 0 to 31231\n",
            "Data columns (total 2 columns):\n",
            " #   Column  Non-Null Count  Dtype \n",
            "---  ------  --------------  ----- \n",
            " 0   text    31232 non-null  object\n",
            " 1   label   31232 non-null  int64 \n",
            "dtypes: int64(1), object(1)\n",
            "memory usage: 488.1+ KB\n"
          ]
        }
      ]
    },
    {
      "cell_type": "code",
      "source": [
        "test.info()"
      ],
      "metadata": {
        "colab": {
          "base_uri": "https://localhost:8080/"
        },
        "id": "0mBPGvkQ7Vid",
        "outputId": "d98da911-d52c-4239-b129-4c9c8af80546"
      },
      "execution_count": 85,
      "outputs": [
        {
          "output_type": "stream",
          "name": "stdout",
          "text": [
            "<class 'pandas.core.frame.DataFrame'>\n",
            "Index: 5205 entries, 0 to 5205\n",
            "Data columns (total 2 columns):\n",
            " #   Column  Non-Null Count  Dtype \n",
            "---  ------  --------------  ----- \n",
            " 0   text    5205 non-null   object\n",
            " 1   label   5205 non-null   int64 \n",
            "dtypes: int64(1), object(1)\n",
            "memory usage: 122.0+ KB\n"
          ]
        }
      ]
    },
    {
      "cell_type": "code",
      "source": [
        "val.info()"
      ],
      "metadata": {
        "colab": {
          "base_uri": "https://localhost:8080/"
        },
        "id": "WTCshp1X7Z6e",
        "outputId": "89984deb-f0d5-4f80-c9b7-53b1a951673e"
      },
      "execution_count": 86,
      "outputs": [
        {
          "output_type": "stream",
          "name": "stdout",
          "text": [
            "<class 'pandas.core.frame.DataFrame'>\n",
            "RangeIndex: 5205 entries, 0 to 5204\n",
            "Data columns (total 2 columns):\n",
            " #   Column  Non-Null Count  Dtype \n",
            "---  ------  --------------  ----- \n",
            " 0   text    5205 non-null   object\n",
            " 1   label   5205 non-null   int64 \n",
            "dtypes: int64(1), object(1)\n",
            "memory usage: 81.5+ KB\n"
          ]
        }
      ]
    },
    {
      "cell_type": "code",
      "source": [
        "train.duplicated().sum()  # количество дублей"
      ],
      "metadata": {
        "colab": {
          "base_uri": "https://localhost:8080/"
        },
        "id": "vKr7a2JJfNLm",
        "outputId": "60cf4051-b4f9-4577-ae35-45e3a4251d62"
      },
      "execution_count": 33,
      "outputs": [
        {
          "output_type": "execute_result",
          "data": {
            "text/plain": [
              "0"
            ]
          },
          "metadata": {},
          "execution_count": 33
        }
      ]
    },
    {
      "cell_type": "code",
      "source": [
        "test.duplicated().sum()  # количество дублей"
      ],
      "metadata": {
        "colab": {
          "base_uri": "https://localhost:8080/"
        },
        "id": "veswEd3PtEEN",
        "outputId": "eba30438-23c3-4e39-ad6e-7b0e6d95d76d"
      },
      "execution_count": 34,
      "outputs": [
        {
          "output_type": "execute_result",
          "data": {
            "text/plain": [
              "0"
            ]
          },
          "metadata": {},
          "execution_count": 34
        }
      ]
    },
    {
      "cell_type": "code",
      "source": [
        "val.duplicated().sum()  # количество дублей"
      ],
      "metadata": {
        "colab": {
          "base_uri": "https://localhost:8080/"
        },
        "id": "5Dy2xeDUtHTO",
        "outputId": "adfd5064-5a20-4942-e8ee-464c2c8ce512"
      },
      "execution_count": 35,
      "outputs": [
        {
          "output_type": "execute_result",
          "data": {
            "text/plain": [
              "0"
            ]
          },
          "metadata": {},
          "execution_count": 35
        }
      ]
    },
    {
      "cell_type": "code",
      "source": [
        "'''!pip install --upgrade nbformat\n",
        "!pip install --upgrade nbconvert'''"
      ],
      "metadata": {
        "colab": {
          "base_uri": "https://localhost:8080/"
        },
        "id": "juRfJ8AnnQ_g",
        "outputId": "8f016134-4e8f-4143-80d2-b158b9e99b68"
      },
      "execution_count": 36,
      "outputs": [
        {
          "output_type": "execute_result",
          "data": {
            "text/plain": [
              "'!pip install --upgrade nbformat\\n!pip install --upgrade nbconvert'"
            ]
          },
          "metadata": {},
          "execution_count": 36
        }
      ]
    },
    {
      "cell_type": "code",
      "source": [
        "train.drop(['id','sentiment'],axis=1,inplace=True)\n",
        "test.drop(['id','sentiment'],axis=1,inplace=True)\n",
        "val.drop(['id','sentiment'],axis=1,inplace=True)"
      ],
      "metadata": {
        "id": "wqzN8hQtx2gR"
      },
      "execution_count": 46,
      "outputs": []
    },
    {
      "cell_type": "code",
      "source": [
        "train_rev = [len(t.split()) for t in train['text']]\n",
        "plt.hist(train_rev, bins=20)"
      ],
      "metadata": {
        "id": "K-DBTuSsZPmr",
        "colab": {
          "base_uri": "https://localhost:8080/",
          "height": 569
        },
        "outputId": "802ce753-4084-4982-ba09-58d8f8db8a6c"
      },
      "execution_count": 37,
      "outputs": [
        {
          "output_type": "execute_result",
          "data": {
            "text/plain": [
              "(array([2.2604e+04, 6.0550e+03, 1.1560e+03, 6.4400e+02, 6.5400e+02,\n",
              "        6.8000e+01, 2.4000e+01, 8.0000e+00, 8.0000e+00, 7.0000e+00,\n",
              "        2.0000e+00, 0.0000e+00, 0.0000e+00, 0.0000e+00, 0.0000e+00,\n",
              "        0.0000e+00, 0.0000e+00, 1.0000e+00, 0.0000e+00, 1.0000e+00]),\n",
              " array([  1. ,  20.5,  40. ,  59.5,  79. ,  98.5, 118. , 137.5, 157. ,\n",
              "        176.5, 196. , 215.5, 235. , 254.5, 274. , 293.5, 313. , 332.5,\n",
              "        352. , 371.5, 391. ]),\n",
              " <BarContainer object of 20 artists>)"
            ]
          },
          "metadata": {},
          "execution_count": 37
        },
        {
          "output_type": "display_data",
          "data": {
            "text/plain": [
              "<Figure size 640x480 with 1 Axes>"
            ],
            "image/png": "[encoded data removed]"
          },
          "metadata": {}
        }
      ]
    },
    {
      "cell_type": "code",
      "source": [
        "#!pip install bert-tensorflow"
      ],
      "metadata": {
        "colab": {
          "base_uri": "https://localhost:8080/"
        },
        "id": "jQpVCsOUvZ0G",
        "outputId": "c6391165-9f5d-46ed-8356-4a85870cb6bd"
      },
      "execution_count": 38,
      "outputs": [
        {
          "output_type": "stream",
          "name": "stdout",
          "text": [
            "\u001b[33mWARNING: Ignoring invalid distribution -ensorflow (/home/aliuska/anaconda3/envs/pdp/lib/python3.9/site-packages)\u001b[0m\u001b[33m\r\n",
            "\u001b[0mRequirement already satisfied: bert-tensorflow in /home/aliuska/anaconda3/envs/pdp/lib/python3.9/site-packages (1.0.4)\r\n",
            "Requirement already satisfied: six in /home/aliuska/anaconda3/envs/pdp/lib/python3.9/site-packages (from bert-tensorflow) (1.17.0)\n",
            "\u001b[33mWARNING: Ignoring invalid distribution -ensorflow (/home/aliuska/anaconda3/envs/pdp/lib/python3.9/site-packages)\u001b[0m\u001b[33m\n",
            "\u001b[0m\u001b[33mWARNING: Ignoring invalid distribution -ensorflow (/home/aliuska/anaconda3/envs/pdp/lib/python3.9/site-packages)\u001b[0m\u001b[33m\n",
            "\u001b[0m"
          ]
        }
      ]
    },
    {
      "cell_type": "code",
      "source": [
        "from transformers import BertForSequenceClassification"
      ],
      "metadata": {
        "id": "RcaWUbxpvIb9"
      },
      "execution_count": 39,
      "outputs": []
    },
    {
      "cell_type": "code",
      "source": [
        "import tensorflow as  tf"
      ],
      "metadata": {
        "id": "IFmAnzIHxsht"
      },
      "execution_count": 41,
      "outputs": []
    },
    {
      "cell_type": "code",
      "source": [
        "try:\n",
        "    # TPU detection. No parameters necessary if TPU_NAME environment variable is\n",
        "    # set: this is always the case on Kaggle.\n",
        "    tpu = tf.distribute.cluster_resolver.TPUClusterResolver()\n",
        "    print('Running on TPU ', tpu.master())\n",
        "except ValueError:\n",
        "    tpu = None\n",
        "\n",
        "if tpu:\n",
        "    tf.config.experimental_connect_to_cluster(tpu)\n",
        "    tf.tpu.experimental.initialize_tpu_system(tpu)\n",
        "    strategy = tf.distribute.experimental.TPUStrategy(tpu)\n",
        "else:\n",
        "    # Default distribution strategy in Tensorflow. Works on CPU and single GPU.\n",
        "    strategy = tf.distribute.get_strategy()\n",
        "\n",
        "print(\"REPLICAS: \", strategy.num_replicas_in_sync)"
      ],
      "metadata": {
        "colab": {
          "base_uri": "https://localhost:8080/"
        },
        "id": "mTgrJMMcx0a-",
        "outputId": "6309af61-efa9-4b49-e829-43d9960ace69"
      },
      "execution_count": 43,
      "outputs": [
        {
          "output_type": "stream",
          "name": "stdout",
          "text": [
            "REPLICAS:  1\n"
          ]
        }
      ]
    },
    {
      "cell_type": "code",
      "source": [
        "AUTO = tf.data.experimental.AUTOTUNE\n",
        "\n",
        "\n",
        "# Configuration\n",
        "EPOCHS = 3\n",
        "BATCH_SIZE = 16 * strategy.num_replicas_in_sync\n",
        "MAX_LEN = 100"
      ],
      "metadata": {
        "id": "tvk1TVR_vIVu"
      },
      "execution_count": 45,
      "outputs": []
    },
    {
      "cell_type": "code",
      "source": [
        "# Reload it with the huggingface tokenizers library\n",
        "tokenizer = BertTokenizer.from_pretrained('bert-base-multilingual-cased', lowercase=False)\n",
        "tokenizer.save_pretrained('.')"
      ],
      "metadata": {
        "colab": {
          "base_uri": "https://localhost:8080/"
        },
        "id": "Bfzkdd_ax2cn",
        "outputId": "24352154-1f65-4d11-82e9-10490efa0bfa"
      },
      "execution_count": 59,
      "outputs": [
        {
          "output_type": "stream",
          "name": "stderr",
          "text": [
            "Some weights of BertForSequenceClassification were not initialized from the model checkpoint at bert-base-multilingual-cased and are newly initialized: ['classifier.bias', 'classifier.weight']\n",
            "You should probably TRAIN this model on a down-stream task to be able to use it for predictions and inference.\n"
          ]
        },
        {
          "output_type": "execute_result",
          "data": {
            "text/plain": [
              "('./tokenizer_config.json',\n",
              " './special_tokens_map.json',\n",
              " './vocab.txt',\n",
              " './added_tokens.json')"
            ]
          },
          "metadata": {},
          "execution_count": 59
        }
      ]
    },
    {
      "cell_type": "code",
      "source": [
        "X_train = train.text\n",
        "X_val = val.text\n",
        "X_test = test.text"
      ],
      "metadata": {
        "id": "EtAke4jG3A3G"
      },
      "execution_count": 87,
      "outputs": []
    },
    {
      "cell_type": "code",
      "source": [
        "X_train_encoded = tokenizer.batch_encode_plus(X_train.tolist(),\n",
        "                                              padding=True,\n",
        "                                              truncation=True,\n",
        "                                              max_length=MAX_LEN,\n",
        "                                              return_tensors='tf')\n",
        "\n",
        "X_val_encoded = tokenizer.batch_encode_plus(X_val.tolist(),\n",
        "                                              padding=True,\n",
        "                                              truncation=True,\n",
        "                                              max_length=MAX_LEN,\n",
        "                                              return_tensors='tf')\n",
        "\n",
        "X_test_encoded = tokenizer.batch_encode_plus(X_test.tolist(),\n",
        "                                              padding=True,\n",
        "                                              truncation=True,\n",
        "                                              max_length=MAX_LEN,\n",
        "                                              return_tensors='tf')"
      ],
      "metadata": {
        "id": "xmLsEkpr0I0n"
      },
      "execution_count": 88,
      "outputs": []
    },
    {
      "cell_type": "code",
      "source": [],
      "metadata": {
        "id": "I58j0dKjx2V-"
      },
      "execution_count": null,
      "outputs": []
    },
    {
      "cell_type": "code",
      "source": [
        "#!pip install keras-core\n",
        "#import keras_core as keras"
      ],
      "metadata": {
        "id": "VPok0SZ8Jzua"
      },
      "execution_count": null,
      "outputs": []
    },
    {
      "cell_type": "code",
      "source": [
        "os.environ['TF_USE_LEGACY_KERAS'] = '1'"
      ],
      "metadata": {
        "id": "mKMq5eV8EPSa"
      },
      "execution_count": null,
      "outputs": []
    },
    {
      "cell_type": "code",
      "source": [
        "#import transformers"
      ],
      "metadata": {
        "id": "KB48ONL9J8ea"
      },
      "execution_count": null,
      "outputs": []
    },
    {
      "cell_type": "code",
      "source": [
        "model = TFBertForSequenceClassification.from_pretrained('bert-base-uncased', num_labels=2)"
      ],
      "metadata": {
        "colab": {
          "base_uri": "https://localhost:8080/"
        },
        "id": "vVWYaGXFBlGk",
        "outputId": "fa83daaa-ef1c-43a4-905f-80c3a82967e3"
      },
      "execution_count": null,
      "outputs": [
        {
          "output_type": "stream",
          "name": "stderr",
          "text": [
            "All PyTorch model weights were used when initializing TFBertForSequenceClassification.\n",
            "\n",
            "Some weights or buffers of the TF 2.0 model TFBertForSequenceClassification were not initialized from the PyTorch model and are newly initialized: ['classifier.weight', 'classifier.bias']\n",
            "You should probably TRAIN this model on a down-stream task to be able to use it for predictions and inference.\n"
          ]
        }
      ]
    },
    {
      "cell_type": "code",
      "source": [
        "#!pip install tf-keras"
      ],
      "metadata": {
        "id": "tXT3v7kMHUGC"
      },
      "execution_count": null,
      "outputs": []
    },
    {
      "cell_type": "code",
      "source": [
        "import tensorflow as tf\n",
        "optimizer = tf.keras.optimizers.Adam(learning_rate=1e-5)\n",
        "model.compile(optimizer=optimizer, loss='binary_crossentropy', metrics=['accuracy'])"
      ],
      "metadata": {
        "id": "GLaSw-4XC3Y7"
      },
      "execution_count": null,
      "outputs": []
    },
    {
      "cell_type": "code",
      "source": [
        "model.summary()"
      ],
      "metadata": {
        "colab": {
          "base_uri": "https://localhost:8080/"
        },
        "id": "bnhPFJCGsUUr",
        "outputId": "cc1dc3cd-5bca-48e4-9a0c-de67210cf77a"
      },
      "execution_count": null,
      "outputs": [
        {
          "output_type": "stream",
          "name": "stdout",
          "text": [
            "Model: \"tf_bert_for_sequence_classification\"\n",
            "_________________________________________________________________\n",
            " Layer (type)                Output Shape              Param #   \n",
            "=================================================================\n",
            " bert (TFBertMainLayer)      multiple                  109482240 \n",
            "                                                                 \n",
            " dropout_37 (Dropout)        multiple                  0 (unused)\n",
            "                                                                 \n",
            " classifier (Dense)          multiple                  1538      \n",
            "                                                                 \n",
            "=================================================================\n",
            "Total params: 109483778 (417.65 MB)\n",
            "Trainable params: 109483778 (417.65 MB)\n",
            "Non-trainable params: 0 (0.00 Byte)\n",
            "_________________________________________________________________\n"
          ]
        }
      ]
    },
    {
      "cell_type": "code",
      "source": [
        "# Обучение модели на тренировочных данных\n",
        "history = model.fit(\n",
        "    [X_train_encoded['input_ids'], X_train_encoded['token_type_ids'],\n",
        "     X_train_encoded['attention_mask']], y_train,  # тренировочные данные\n",
        "    validation_data=([X_val_encoded['input_ids'], X_val_encoded['token_type_ids'],\n",
        "                      X_val_encoded['attention_mask']],y_val),  # проверочные данные\n",
        "    batch_size=32,  # размер выборки\n",
        "    epochs=4)  # количество эпох обучения"
      ],
      "metadata": {
        "id": "lAabdonIirV6",
        "colab": {
          "base_uri": "https://localhost:8080/"
        },
        "outputId": "00bea9d1-b28e-45f9-d62e-4a41132f275d"
      },
      "execution_count": null,
      "outputs": [
        {
          "output_type": "stream",
          "name": "stdout",
          "text": [
            "Epoch 1/4\n",
            "   5/1094 [..............................] - ETA: 22:51:11 - loss: 4.6549 - accuracy: 0.4563"
          ]
        }
      ]
    },
    {
      "cell_type": "code",
      "source": [
        "# Тестирование модели на тестовых данных\n",
        "test_loss, test_accuracy = model.evaluate(\n",
        "    [X_test_encoded['input_ids'], X_test_encoded['token_type_ids'],\n",
        "     X_test_encoded['attention_mask']], y_test)\n",
        "print(f'Потери (loss) на тестовой выборке: {test_loss}, точность (accuracy) на тестовой выборке: {test_accuracy}')"
      ],
      "metadata": {
        "id": "QMVFV_nBirSR"
      },
      "execution_count": null,
      "outputs": []
    },
    {
      "cell_type": "code",
      "source": [
        "# Путь для сохранения модели на Google-Drive\n",
        "model.save_pretrained('/content/Model')"
      ],
      "metadata": {
        "id": "pHaVRMApirOJ"
      },
      "execution_count": null,
      "outputs": []
    },
    {
      "cell_type": "code",
      "source": [
        "# Загрузка токенизатора с Google-диска\n",
        "bert_tokenizer = BertTokenizer.from_pretrained('/content/Tokenizer')\n",
        "\n",
        "# Загрузка модели с Google-Drive\n",
        "bert_model = TFBertForSequenceClassification.from_pretrained('/content/Model')"
      ],
      "metadata": {
        "id": "yX2uhrNwirJ4"
      },
      "execution_count": null,
      "outputs": []
    },
    {
      "cell_type": "code",
      "source": [
        "pred = bert_model.predict(\n",
        "    [X_test_encoded['input_ids'], X_test_encoded['token_type_ids'], X_test_encoded['attention_mask']])\n",
        "\n",
        "# pred is of type TFSequenceClassifierOutput\n",
        "logits = pred.logits\n",
        "\n",
        "# Use argmax along the appropriate axis to get the predicted labels\n",
        "pred_labels = tf.argmax(logits, axis=1)\n",
        "\n",
        "# Convert the predicted labels to a NumPy array\n",
        "pred_labels = pred_labels.numpy()\n",
        "\n",
        "label = {1: 'Положительный', 0: 'Отрицательный'}\n",
        "\n",
        "# Map the predicted labels to their corresponding strings using the label dictionary\n",
        "pred_labels = [label[i] for i in pred_labels]\n",
        "real_labels = [label[i] for i in y_test]\n",
        "\n",
        "print('Предсказанный класс:', pred_labels[:10])\n",
        "print('Реальный класс     :', real_labels[:10])"
      ],
      "metadata": {
        "id": "Xg8468gcHMuq"
      },
      "execution_count": null,
      "outputs": []
    },
    {
      "cell_type": "code",
      "source": [
        "print(\"Classification Report: \\n\", classification_report(real_labels, pred_labels))"
      ],
      "metadata": {
        "id": "d7fdmuzaHMq7"
      },
      "execution_count": null,
      "outputs": []
    },
    {
      "cell_type": "code",
      "source": [
        "def plot_confusion_matrix(cm, classes):\n",
        "    cm = cm.astype('float') / cm.sum(axis=1)[:, np.newaxis]\n",
        "    plt.imshow(cm, interpolation='nearest', cmap='PiYG')\n",
        "    plt.title('Матрица ошибок', fontsize=20, fontweight='light', fontfamily='serif', color='white')\n",
        "    plt.colorbar()\n",
        "    tick_marks = np.arange(len(classes))\n",
        "    plt.xticks(tick_marks, classes, fontsize=15, fontweight='light', fontfamily='serif', color='white')\n",
        "    plt.yticks(tick_marks, classes, fontsize=15, fontweight='light', fontfamily='serif', color='white')\n",
        "    fmt = '.2f'\n",
        "    thresh = cm.max() / 2.\n",
        "    for i, j in itertools.product(range(cm.shape[0]), range(cm.shape[1])):\n",
        "        plt.text(j, i, format(cm[i, j], fmt),\n",
        "                 horizontalalignment=\"center\",\n",
        "                 color=\"white\")\n",
        "\n",
        "    plt.ylabel('Реальный класс', fontsize=18, fontweight='light', fontfamily='serif', color='white')\n",
        "    plt.xlabel('Предсказанный класс', fontsize=18, fontweight='light', fontfamily='serif', color='white')"
      ],
      "metadata": {
        "id": "vNb5lUN41gBu"
      },
      "execution_count": null,
      "outputs": []
    },
    {
      "cell_type": "code",
      "source": [
        "conf_matrix = confusion_matrix(real_labels, pred_labels)\n",
        "plt.figure(figsize=(10,10))\n",
        "plot_confusion_matrix(conf_matrix, classes=y_test.unique())\n",
        "plt.show()"
      ],
      "metadata": {
        "id": "KkJN2Zb21K-G"
      },
      "execution_count": null,
      "outputs": []
    },
    {
      "cell_type": "code",
      "source": [
        "def get_predict(review, Tokenizer=bert_tokenizer, Model=bert_model):\n",
        "    # Convert Review to a list if it's not already a list\n",
        "    if not isinstance(review, list):\n",
        "        review = [review]\n",
        "\n",
        "    Input_ids, Token_type_ids, Attention_mask = Tokenizer.batch_encode_plus(review,\n",
        "                                                                             padding=True,\n",
        "                                                                             truncation=True,\n",
        "                                                                             max_length=128,\n",
        "                                                                             return_tensors='tf').values()\n",
        "    prediction = Model.predict([Input_ids, Token_type_ids, Attention_mask])\n",
        "\n",
        "    # Use argmax along the appropriate axis to get the predicted labels\n",
        "    pred_labels = tf.argmax(prediction.logits, axis=1)\n",
        "\n",
        "    # Convert the TensorFlow tensor to a NumPy array and then to a list to get the predicted sentiment labels\n",
        "    pred_labels = [label[i] for i in pred_labels.numpy().tolist()]\n",
        "    return pred_labels"
      ],
      "metadata": {
        "id": "8p8KZ7SyHPjC"
      },
      "execution_count": null,
      "outputs": []
    },
    {
      "cell_type": "code",
      "source": [
        "review = \"\"\"French film 'Magnificent Trip', released in 2022. It is a very touching film, in which an old lady goes with\n",
        "            a taxi driver to a nursing home. During the trip, she tells the taxi driver about both difficult life situations\n",
        "            and the most memorable moments of the 92-year-old lady's life. The film is worthy of an award, it has only\n",
        "            a few actors, but the level of acting is high, and there are also beautiful views of Paris.\"\"\"\n",
        "get_predict(review)"
      ],
      "metadata": {
        "id": "9lJPCwUVHPgR"
      },
      "execution_count": null,
      "outputs": []
    }
  ]
}