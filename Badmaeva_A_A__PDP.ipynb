{
  "nbformat": 4,
  "nbformat_minor": 0,
  "metadata": {
    "colab": {
      "provenance": [],
      "gpuType": "T4",
      "authorship_tag": "ABX9TyMzLGSlM4M279i+HWPoyzSt",
      "include_colab_link": true
    },
    "kernelspec": {
      "name": "python3",
      "display_name": "Python 3"
    },
    "language_info": {
      "name": "python"
    },
    "accelerator": "GPU"
  },
  "cells": [
    {
      "cell_type": "markdown",
      "metadata": {
        "id": "view-in-github",
        "colab_type": "text"
      },
      "source": [
        "<a href=\"https://colab.research.google.com/github/AliyaBadmaeva/PDP/blob/main/Badmaeva_A_A__PDP.ipynb\" target=\"_parent\"><img src=\"https://colab.research.google.com/assets/colab-badge.svg\" alt=\"Open In Colab\"/></a>"
      ]
    },
    {
      "cell_type": "markdown",
      "source": [],
      "metadata": {
        "id": "zD6rA4UVc7v9"
      }
    },
    {
      "cell_type": "code",
      "source": [
        "TF_ENABLE_ONEDNN_OPTS=0"
      ],
      "metadata": {
        "id": "XnJCsuLD9q-B"
      },
      "execution_count": 6,
      "outputs": []
    },
    {
      "cell_type": "code",
      "source": [
        "#!pip install tf-keras"
      ],
      "metadata": {
        "colab": {
          "base_uri": "https://localhost:8080/"
        },
        "id": "yW6cZ28sZtGL",
        "outputId": "ebbc1209-a5a6-489b-f36d-37eacf8c451c"
      },
      "execution_count": 7,
      "outputs": [
        {
          "output_type": "stream",
          "name": "stdout",
          "text": [
            "\u001b[33mWARNING: Ignoring invalid distribution -ensorflow (/home/aliuska/anaconda3/envs/pdp/lib/python3.9/site-packages)\u001b[0m\u001b[33m\r\n",
            "\u001b[0mRequirement already satisfied: tf-keras in /home/aliuska/anaconda3/envs/pdp/lib/python3.9/site-packages (2.19.0)\r\n",
            "Requirement already satisfied: tensorflow<2.20,>=2.19 in /home/aliuska/anaconda3/envs/pdp/lib/python3.9/site-packages (from tf-keras) (2.19.0)\r\n",
            "Requirement already satisfied: absl-py>=1.0.0 in /home/aliuska/anaconda3/envs/pdp/lib/python3.9/site-packages (from tensorflow<2.20,>=2.19->tf-keras) (1.4.0)\r\n",
            "Requirement already satisfied: astunparse>=1.6.0 in /home/aliuska/anaconda3/envs/pdp/lib/python3.9/site-packages (from tensorflow<2.20,>=2.19->tf-keras) (1.6.3)\r\n",
            "Requirement already satisfied: flatbuffers>=24.3.25 in /home/aliuska/anaconda3/envs/pdp/lib/python3.9/site-packages (from tensorflow<2.20,>=2.19->tf-keras) (25.2.10)\r\n",
            "Requirement already satisfied: gast!=0.5.0,!=0.5.1,!=0.5.2,>=0.2.1 in /home/aliuska/anaconda3/envs/pdp/lib/python3.9/site-packages (from tensorflow<2.20,>=2.19->tf-keras) (0.4.0)\r\n",
            "Requirement already satisfied: google-pasta>=0.1.1 in /home/aliuska/anaconda3/envs/pdp/lib/python3.9/site-packages (from tensorflow<2.20,>=2.19->tf-keras) (0.2.0)\r\n",
            "Requirement already satisfied: libclang>=13.0.0 in /home/aliuska/anaconda3/envs/pdp/lib/python3.9/site-packages (from tensorflow<2.20,>=2.19->tf-keras) (18.1.1)\r\n",
            "Requirement already satisfied: opt-einsum>=2.3.2 in /home/aliuska/anaconda3/envs/pdp/lib/python3.9/site-packages (from tensorflow<2.20,>=2.19->tf-keras) (3.4.0)\r\n",
            "Requirement already satisfied: packaging in /home/aliuska/anaconda3/envs/pdp/lib/python3.9/site-packages (from tensorflow<2.20,>=2.19->tf-keras) (24.2)\r\n",
            "Requirement already satisfied: protobuf!=4.21.0,!=4.21.1,!=4.21.2,!=4.21.3,!=4.21.4,!=4.21.5,<6.0.0dev,>=3.20.3 in /home/aliuska/anaconda3/envs/pdp/lib/python3.9/site-packages (from tensorflow<2.20,>=2.19->tf-keras) (4.21.12)\r\n",
            "Requirement already satisfied: requests<3,>=2.21.0 in /home/aliuska/anaconda3/envs/pdp/lib/python3.9/site-packages (from tensorflow<2.20,>=2.19->tf-keras) (2.32.3)\r\n",
            "Requirement already satisfied: setuptools in /home/aliuska/anaconda3/envs/pdp/lib/python3.9/site-packages (from tensorflow<2.20,>=2.19->tf-keras) (72.1.0)\r\n",
            "Requirement already satisfied: six>=1.12.0 in /home/aliuska/anaconda3/envs/pdp/lib/python3.9/site-packages (from tensorflow<2.20,>=2.19->tf-keras) (1.17.0)\n",
            "Requirement already satisfied: termcolor>=1.1.0 in /home/aliuska/anaconda3/envs/pdp/lib/python3.9/site-packages (from tensorflow<2.20,>=2.19->tf-keras) (3.1.0)\n",
            "Requirement already satisfied: typing-extensions>=3.6.6 in /home/aliuska/anaconda3/envs/pdp/lib/python3.9/site-packages (from tensorflow<2.20,>=2.19->tf-keras) (4.12.2)\n",
            "Requirement already satisfied: wrapt>=1.11.0 in /home/aliuska/anaconda3/envs/pdp/lib/python3.9/site-packages (from tensorflow<2.20,>=2.19->tf-keras) (1.17.2)\n",
            "Requirement already satisfied: grpcio<2.0,>=1.24.3 in /home/aliuska/anaconda3/envs/pdp/lib/python3.9/site-packages (from tensorflow<2.20,>=2.19->tf-keras) (1.73.0)\n",
            "Requirement already satisfied: tensorboard~=2.19.0 in /home/aliuska/anaconda3/envs/pdp/lib/python3.9/site-packages (from tensorflow<2.20,>=2.19->tf-keras) (2.19.0)\n",
            "Requirement already satisfied: keras>=3.5.0 in /home/aliuska/anaconda3/envs/pdp/lib/python3.9/site-packages (from tensorflow<2.20,>=2.19->tf-keras) (3.10.0)\n",
            "Requirement already satisfied: numpy<2.2.0,>=1.26.0 in /home/aliuska/anaconda3/envs/pdp/lib/python3.9/site-packages (from tensorflow<2.20,>=2.19->tf-keras) (1.26.4)\n",
            "Requirement already satisfied: h5py>=3.11.0 in /home/aliuska/anaconda3/envs/pdp/lib/python3.9/site-packages (from tensorflow<2.20,>=2.19->tf-keras) (3.14.0)\n",
            "Requirement already satisfied: ml-dtypes<1.0.0,>=0.5.1 in /home/aliuska/anaconda3/envs/pdp/lib/python3.9/site-packages (from tensorflow<2.20,>=2.19->tf-keras) (0.5.1)\n",
            "Requirement already satisfied: tensorflow-io-gcs-filesystem>=0.23.1 in /home/aliuska/anaconda3/envs/pdp/lib/python3.9/site-packages (from tensorflow<2.20,>=2.19->tf-keras) (0.37.1)\n",
            "Requirement already satisfied: charset-normalizer<4,>=2 in /home/aliuska/anaconda3/envs/pdp/lib/python3.9/site-packages (from requests<3,>=2.21.0->tensorflow<2.20,>=2.19->tf-keras) (3.3.2)\n",
            "Requirement already satisfied: idna<4,>=2.5 in /home/aliuska/anaconda3/envs/pdp/lib/python3.9/site-packages (from requests<3,>=2.21.0->tensorflow<2.20,>=2.19->tf-keras) (3.7)\n",
            "Requirement already satisfied: urllib3<3,>=1.21.1 in /home/aliuska/anaconda3/envs/pdp/lib/python3.9/site-packages (from requests<3,>=2.21.0->tensorflow<2.20,>=2.19->tf-keras) (2.3.0)\n",
            "Requirement already satisfied: certifi>=2017.4.17 in /home/aliuska/anaconda3/envs/pdp/lib/python3.9/site-packages (from requests<3,>=2.21.0->tensorflow<2.20,>=2.19->tf-keras) (2025.4.26)\n",
            "Requirement already satisfied: markdown>=2.6.8 in /home/aliuska/anaconda3/envs/pdp/lib/python3.9/site-packages (from tensorboard~=2.19.0->tensorflow<2.20,>=2.19->tf-keras) (3.8)\n",
            "Requirement already satisfied: tensorboard-data-server<0.8.0,>=0.7.0 in /home/aliuska/anaconda3/envs/pdp/lib/python3.9/site-packages (from tensorboard~=2.19.0->tensorflow<2.20,>=2.19->tf-keras) (0.7.2)\n",
            "Requirement already satisfied: werkzeug>=1.0.1 in /home/aliuska/anaconda3/envs/pdp/lib/python3.9/site-packages (from tensorboard~=2.19.0->tensorflow<2.20,>=2.19->tf-keras) (3.1.3)\n",
            "Requirement already satisfied: wheel<1.0,>=0.23.0 in /home/aliuska/anaconda3/envs/pdp/lib/python3.9/site-packages (from astunparse>=1.6.0->tensorflow<2.20,>=2.19->tf-keras) (0.45.1)\n",
            "Requirement already satisfied: rich in /home/aliuska/anaconda3/envs/pdp/lib/python3.9/site-packages (from keras>=3.5.0->tensorflow<2.20,>=2.19->tf-keras) (14.0.0)\n",
            "Requirement already satisfied: namex in /home/aliuska/anaconda3/envs/pdp/lib/python3.9/site-packages (from keras>=3.5.0->tensorflow<2.20,>=2.19->tf-keras) (0.1.0)\n",
            "Requirement already satisfied: optree in /home/aliuska/anaconda3/envs/pdp/lib/python3.9/site-packages (from keras>=3.5.0->tensorflow<2.20,>=2.19->tf-keras) (0.16.0)\n",
            "Requirement already satisfied: importlib-metadata>=4.4 in /home/aliuska/anaconda3/envs/pdp/lib/python3.9/site-packages (from markdown>=2.6.8->tensorboard~=2.19.0->tensorflow<2.20,>=2.19->tf-keras) (8.5.0)\n",
            "Requirement already satisfied: zipp>=3.20 in /home/aliuska/anaconda3/envs/pdp/lib/python3.9/site-packages (from importlib-metadata>=4.4->markdown>=2.6.8->tensorboard~=2.19.0->tensorflow<2.20,>=2.19->tf-keras) (3.21.0)\n",
            "Requirement already satisfied: MarkupSafe>=2.1.1 in /home/aliuska/anaconda3/envs/pdp/lib/python3.9/site-packages (from werkzeug>=1.0.1->tensorboard~=2.19.0->tensorflow<2.20,>=2.19->tf-keras) (3.0.2)\n",
            "Requirement already satisfied: markdown-it-py>=2.2.0 in /home/aliuska/anaconda3/envs/pdp/lib/python3.9/site-packages (from rich->keras>=3.5.0->tensorflow<2.20,>=2.19->tf-keras) (3.0.0)\n",
            "Requirement already satisfied: pygments<3.0.0,>=2.13.0 in /home/aliuska/anaconda3/envs/pdp/lib/python3.9/site-packages (from rich->keras>=3.5.0->tensorflow<2.20,>=2.19->tf-keras) (2.19.1)\n",
            "Requirement already satisfied: mdurl~=0.1 in /home/aliuska/anaconda3/envs/pdp/lib/python3.9/site-packages (from markdown-it-py>=2.2.0->rich->keras>=3.5.0->tensorflow<2.20,>=2.19->tf-keras) (0.1.2)\n",
            "\u001b[33mWARNING: Ignoring invalid distribution -ensorflow (/home/aliuska/anaconda3/envs/pdp/lib/python3.9/site-packages)\u001b[0m\u001b[33m\n",
            "\u001b[0m\u001b[33mWARNING: Ignoring invalid distribution -ensorflow (/home/aliuska/anaconda3/envs/pdp/lib/python3.9/site-packages)\u001b[0m\u001b[33m\n",
            "\u001b[0m"
          ]
        }
      ]
    },
    {
      "cell_type": "code",
      "source": [
        "import os\n",
        "os.environ['TF_CPP_MIN_LOG_LEVEL'] = '1'"
      ],
      "metadata": {
        "id": "pM6Wr70jQKNk"
      },
      "execution_count": 8,
      "outputs": []
    },
    {
      "cell_type": "code",
      "source": [
        "#!pip install transformers"
      ],
      "metadata": {
        "colab": {
          "base_uri": "https://localhost:8080/"
        },
        "id": "lhdrhiZiGaIY",
        "outputId": "1cddcba2-b373-4e96-a6d4-1b8e713c6a6b"
      },
      "execution_count": 9,
      "outputs": [
        {
          "output_type": "stream",
          "name": "stdout",
          "text": [
            "\u001b[33mWARNING: Ignoring invalid distribution -ensorflow (/home/aliuska/anaconda3/envs/pdp/lib/python3.9/site-packages)\u001b[0m\u001b[33m\r\n",
            "\u001b[0mRequirement already satisfied: transformers in /home/aliuska/anaconda3/envs/pdp/lib/python3.9/site-packages (4.52.4)\n",
            "Requirement already satisfied: filelock in /home/aliuska/anaconda3/envs/pdp/lib/python3.9/site-packages (from transformers) (3.17.0)\n",
            "Requirement already satisfied: huggingface-hub<1.0,>=0.30.0 in /home/aliuska/anaconda3/envs/pdp/lib/python3.9/site-packages (from transformers) (0.33.0)\n",
            "Requirement already satisfied: numpy>=1.17 in /home/aliuska/anaconda3/envs/pdp/lib/python3.9/site-packages (from transformers) (1.26.4)\n",
            "Requirement already satisfied: packaging>=20.0 in /home/aliuska/anaconda3/envs/pdp/lib/python3.9/site-packages (from transformers) (24.2)\n",
            "Requirement already satisfied: pyyaml>=5.1 in /home/aliuska/anaconda3/envs/pdp/lib/python3.9/site-packages (from transformers) (6.0.2)\n",
            "Requirement already satisfied: regex!=2019.12.17 in /home/aliuska/anaconda3/envs/pdp/lib/python3.9/site-packages (from transformers) (2024.11.6)\n",
            "Requirement already satisfied: requests in /home/aliuska/anaconda3/envs/pdp/lib/python3.9/site-packages (from transformers) (2.32.3)\n",
            "Requirement already satisfied: tokenizers<0.22,>=0.21 in /home/aliuska/anaconda3/envs/pdp/lib/python3.9/site-packages (from transformers) (0.21.1)\n",
            "Requirement already satisfied: safetensors>=0.4.3 in /home/aliuska/anaconda3/envs/pdp/lib/python3.9/site-packages (from transformers) (0.5.3)\n",
            "Requirement already satisfied: tqdm>=4.27 in /home/aliuska/anaconda3/envs/pdp/lib/python3.9/site-packages (from transformers) (4.67.1)\n",
            "Requirement already satisfied: fsspec>=2023.5.0 in /home/aliuska/anaconda3/envs/pdp/lib/python3.9/site-packages (from huggingface-hub<1.0,>=0.30.0->transformers) (2025.3.2)\n",
            "Requirement already satisfied: typing-extensions>=3.7.4.3 in /home/aliuska/anaconda3/envs/pdp/lib/python3.9/site-packages (from huggingface-hub<1.0,>=0.30.0->transformers) (4.12.2)\n",
            "Requirement already satisfied: hf-xet<2.0.0,>=1.1.2 in /home/aliuska/anaconda3/envs/pdp/lib/python3.9/site-packages (from huggingface-hub<1.0,>=0.30.0->transformers) (1.1.3)\n",
            "Requirement already satisfied: charset-normalizer<4,>=2 in /home/aliuska/anaconda3/envs/pdp/lib/python3.9/site-packages (from requests->transformers) (3.3.2)\n",
            "Requirement already satisfied: idna<4,>=2.5 in /home/aliuska/anaconda3/envs/pdp/lib/python3.9/site-packages (from requests->transformers) (3.7)\n",
            "Requirement already satisfied: urllib3<3,>=1.21.1 in /home/aliuska/anaconda3/envs/pdp/lib/python3.9/site-packages (from requests->transformers) (2.3.0)\n",
            "Requirement already satisfied: certifi>=2017.4.17 in /home/aliuska/anaconda3/envs/pdp/lib/python3.9/site-packages (from requests->transformers) (2025.4.26)\n",
            "\u001b[33mWARNING: Ignoring invalid distribution -ensorflow (/home/aliuska/anaconda3/envs/pdp/lib/python3.9/site-packages)\u001b[0m\u001b[33m\n",
            "\u001b[0m\u001b[33mWARNING: Ignoring invalid distribution -ensorflow (/home/aliuska/anaconda3/envs/pdp/lib/python3.9/site-packages)\u001b[0m\u001b[33m\n",
            "\u001b[0m"
          ]
        }
      ]
    },
    {
      "cell_type": "code",
      "source": [
        "#! pip install pandas"
      ],
      "metadata": {
        "colab": {
          "base_uri": "https://localhost:8080/"
        },
        "id": "VsaLv4uLmhAe",
        "outputId": "cde753a4-0f60-4fc3-9d06-71911ccc6821"
      },
      "execution_count": 10,
      "outputs": [
        {
          "output_type": "stream",
          "name": "stdout",
          "text": [
            "\u001b[33mWARNING: Ignoring invalid distribution -ensorflow (/home/aliuska/anaconda3/envs/pdp/lib/python3.9/site-packages)\u001b[0m\u001b[33m\r\n",
            "\u001b[0mRequirement already satisfied: pandas in /home/aliuska/anaconda3/envs/pdp/lib/python3.9/site-packages (2.3.0)\r\n",
            "Requirement already satisfied: numpy>=1.22.4 in /home/aliuska/anaconda3/envs/pdp/lib/python3.9/site-packages (from pandas) (1.26.4)\r\n",
            "Requirement already satisfied: python-dateutil>=2.8.2 in /home/aliuska/anaconda3/envs/pdp/lib/python3.9/site-packages (from pandas) (2.9.0.post0)\r\n",
            "Requirement already satisfied: pytz>=2020.1 in /home/aliuska/anaconda3/envs/pdp/lib/python3.9/site-packages (from pandas) (2025.2)\r\n",
            "Requirement already satisfied: tzdata>=2022.7 in /home/aliuska/anaconda3/envs/pdp/lib/python3.9/site-packages (from pandas) (2025.2)\r\n",
            "Requirement already satisfied: six>=1.5 in /home/aliuska/anaconda3/envs/pdp/lib/python3.9/site-packages (from python-dateutil>=2.8.2->pandas) (1.17.0)\n",
            "\u001b[33mWARNING: Ignoring invalid distribution -ensorflow (/home/aliuska/anaconda3/envs/pdp/lib/python3.9/site-packages)\u001b[0m\u001b[33m\n",
            "\u001b[0m\u001b[33mWARNING: Ignoring invalid distribution -ensorflow (/home/aliuska/anaconda3/envs/pdp/lib/python3.9/site-packages)\u001b[0m\u001b[33m\n",
            "\u001b[0m"
          ]
        }
      ]
    },
    {
      "cell_type": "code",
      "source": [
        "#!pip install matplotlib"
      ],
      "metadata": {
        "colab": {
          "base_uri": "https://localhost:8080/"
        },
        "id": "kYQXghj0mnWF",
        "outputId": "a9100800-e803-4439-a9dc-c4a7902afad2"
      },
      "execution_count": 11,
      "outputs": [
        {
          "output_type": "stream",
          "name": "stdout",
          "text": [
            "\u001b[33mWARNING: Ignoring invalid distribution -ensorflow (/home/aliuska/anaconda3/envs/pdp/lib/python3.9/site-packages)\u001b[0m\u001b[33m\r\n",
            "\u001b[0mRequirement already satisfied: matplotlib in /home/aliuska/anaconda3/envs/pdp/lib/python3.9/site-packages (3.9.4)\r\n",
            "Requirement already satisfied: contourpy>=1.0.1 in /home/aliuska/anaconda3/envs/pdp/lib/python3.9/site-packages (from matplotlib) (1.3.0)\r\n",
            "Requirement already satisfied: cycler>=0.10 in /home/aliuska/anaconda3/envs/pdp/lib/python3.9/site-packages (from matplotlib) (0.12.1)\r\n",
            "Requirement already satisfied: fonttools>=4.22.0 in /home/aliuska/anaconda3/envs/pdp/lib/python3.9/site-packages (from matplotlib) (4.58.3)\r\n",
            "Requirement already satisfied: kiwisolver>=1.3.1 in /home/aliuska/anaconda3/envs/pdp/lib/python3.9/site-packages (from matplotlib) (1.4.7)\r\n",
            "Requirement already satisfied: numpy>=1.23 in /home/aliuska/anaconda3/envs/pdp/lib/python3.9/site-packages (from matplotlib) (1.26.4)\r\n",
            "Requirement already satisfied: packaging>=20.0 in /home/aliuska/anaconda3/envs/pdp/lib/python3.9/site-packages (from matplotlib) (24.2)\r\n",
            "Requirement already satisfied: pillow>=8 in /home/aliuska/anaconda3/envs/pdp/lib/python3.9/site-packages (from matplotlib) (11.1.0)\r\n",
            "Requirement already satisfied: pyparsing>=2.3.1 in /home/aliuska/anaconda3/envs/pdp/lib/python3.9/site-packages (from matplotlib) (3.2.3)\r\n",
            "Requirement already satisfied: python-dateutil>=2.7 in /home/aliuska/anaconda3/envs/pdp/lib/python3.9/site-packages (from matplotlib) (2.9.0.post0)\r\n",
            "Requirement already satisfied: importlib-resources>=3.2.0 in /home/aliuska/anaconda3/envs/pdp/lib/python3.9/site-packages (from matplotlib) (6.5.2)\n",
            "Requirement already satisfied: zipp>=3.1.0 in /home/aliuska/anaconda3/envs/pdp/lib/python3.9/site-packages (from importlib-resources>=3.2.0->matplotlib) (3.21.0)\n",
            "Requirement already satisfied: six>=1.5 in /home/aliuska/anaconda3/envs/pdp/lib/python3.9/site-packages (from python-dateutil>=2.7->matplotlib) (1.17.0)\n",
            "\u001b[33mWARNING: Ignoring invalid distribution -ensorflow (/home/aliuska/anaconda3/envs/pdp/lib/python3.9/site-packages)\u001b[0m\u001b[33m\n",
            "\u001b[0m\u001b[33mWARNING: Ignoring invalid distribution -ensorflow (/home/aliuska/anaconda3/envs/pdp/lib/python3.9/site-packages)\u001b[0m\u001b[33m\n",
            "\u001b[0m"
          ]
        }
      ]
    },
    {
      "cell_type": "code",
      "source": [
        "#!pip install seaborn"
      ],
      "metadata": {
        "colab": {
          "base_uri": "https://localhost:8080/"
        },
        "id": "YOjdtl6wmtxN",
        "outputId": "f3fcf717-263b-41af-9cd6-7762824c2bdb"
      },
      "execution_count": 12,
      "outputs": [
        {
          "output_type": "stream",
          "name": "stdout",
          "text": [
            "\u001b[33mWARNING: Ignoring invalid distribution -ensorflow (/home/aliuska/anaconda3/envs/pdp/lib/python3.9/site-packages)\u001b[0m\u001b[33m\r\n",
            "\u001b[0mRequirement already satisfied: seaborn in /home/aliuska/anaconda3/envs/pdp/lib/python3.9/site-packages (0.13.2)\r\n",
            "Requirement already satisfied: numpy!=1.24.0,>=1.20 in /home/aliuska/anaconda3/envs/pdp/lib/python3.9/site-packages (from seaborn) (1.26.4)\r\n",
            "Requirement already satisfied: pandas>=1.2 in /home/aliuska/anaconda3/envs/pdp/lib/python3.9/site-packages (from seaborn) (2.3.0)\r\n",
            "Requirement already satisfied: matplotlib!=3.6.1,>=3.4 in /home/aliuska/anaconda3/envs/pdp/lib/python3.9/site-packages (from seaborn) (3.9.4)\r\n",
            "Requirement already satisfied: contourpy>=1.0.1 in /home/aliuska/anaconda3/envs/pdp/lib/python3.9/site-packages (from matplotlib!=3.6.1,>=3.4->seaborn) (1.3.0)\r\n",
            "Requirement already satisfied: cycler>=0.10 in /home/aliuska/anaconda3/envs/pdp/lib/python3.9/site-packages (from matplotlib!=3.6.1,>=3.4->seaborn) (0.12.1)\r\n",
            "Requirement already satisfied: fonttools>=4.22.0 in /home/aliuska/anaconda3/envs/pdp/lib/python3.9/site-packages (from matplotlib!=3.6.1,>=3.4->seaborn) (4.58.3)\r\n",
            "Requirement already satisfied: kiwisolver>=1.3.1 in /home/aliuska/anaconda3/envs/pdp/lib/python3.9/site-packages (from matplotlib!=3.6.1,>=3.4->seaborn) (1.4.7)\r\n",
            "Requirement already satisfied: packaging>=20.0 in /home/aliuska/anaconda3/envs/pdp/lib/python3.9/site-packages (from matplotlib!=3.6.1,>=3.4->seaborn) (24.2)\r\n",
            "Requirement already satisfied: pillow>=8 in /home/aliuska/anaconda3/envs/pdp/lib/python3.9/site-packages (from matplotlib!=3.6.1,>=3.4->seaborn) (11.1.0)\r\n",
            "Requirement already satisfied: pyparsing>=2.3.1 in /home/aliuska/anaconda3/envs/pdp/lib/python3.9/site-packages (from matplotlib!=3.6.1,>=3.4->seaborn) (3.2.3)\r\n",
            "Requirement already satisfied: python-dateutil>=2.7 in /home/aliuska/anaconda3/envs/pdp/lib/python3.9/site-packages (from matplotlib!=3.6.1,>=3.4->seaborn) (2.9.0.post0)\r\n",
            "Requirement already satisfied: importlib-resources>=3.2.0 in /home/aliuska/anaconda3/envs/pdp/lib/python3.9/site-packages (from matplotlib!=3.6.1,>=3.4->seaborn) (6.5.2)\r\n",
            "Requirement already satisfied: zipp>=3.1.0 in /home/aliuska/anaconda3/envs/pdp/lib/python3.9/site-packages (from importlib-resources>=3.2.0->matplotlib!=3.6.1,>=3.4->seaborn) (3.21.0)\n",
            "Requirement already satisfied: pytz>=2020.1 in /home/aliuska/anaconda3/envs/pdp/lib/python3.9/site-packages (from pandas>=1.2->seaborn) (2025.2)\n",
            "Requirement already satisfied: tzdata>=2022.7 in /home/aliuska/anaconda3/envs/pdp/lib/python3.9/site-packages (from pandas>=1.2->seaborn) (2025.2)\n",
            "Requirement already satisfied: six>=1.5 in /home/aliuska/anaconda3/envs/pdp/lib/python3.9/site-packages (from python-dateutil>=2.7->matplotlib!=3.6.1,>=3.4->seaborn) (1.17.0)\n",
            "\u001b[33mWARNING: Ignoring invalid distribution -ensorflow (/home/aliuska/anaconda3/envs/pdp/lib/python3.9/site-packages)\u001b[0m\u001b[33m\n",
            "\u001b[0m\u001b[33mWARNING: Ignoring invalid distribution -ensorflow (/home/aliuska/anaconda3/envs/pdp/lib/python3.9/site-packages)\u001b[0m\u001b[33m\n",
            "\u001b[0m"
          ]
        }
      ]
    },
    {
      "cell_type": "code",
      "source": [
        "#!pip install scikit-learn"
      ],
      "metadata": {
        "colab": {
          "base_uri": "https://localhost:8080/"
        },
        "id": "sh930bmImx6F",
        "outputId": "65f0ac83-f019-4514-c95c-70dd707bb625"
      },
      "execution_count": 13,
      "outputs": [
        {
          "output_type": "stream",
          "name": "stdout",
          "text": [
            "\u001b[33mWARNING: Ignoring invalid distribution -ensorflow (/home/aliuska/anaconda3/envs/pdp/lib/python3.9/site-packages)\u001b[0m\u001b[33m\r\n",
            "\u001b[0mRequirement already satisfied: scikit-learn in /home/aliuska/anaconda3/envs/pdp/lib/python3.9/site-packages (1.6.1)\r\n",
            "Requirement already satisfied: numpy>=1.19.5 in /home/aliuska/anaconda3/envs/pdp/lib/python3.9/site-packages (from scikit-learn) (1.26.4)\r\n",
            "Requirement already satisfied: scipy>=1.6.0 in /home/aliuska/anaconda3/envs/pdp/lib/python3.9/site-packages (from scikit-learn) (1.13.1)\r\n",
            "Requirement already satisfied: joblib>=1.2.0 in /home/aliuska/anaconda3/envs/pdp/lib/python3.9/site-packages (from scikit-learn) (1.5.1)\r\n",
            "Requirement already satisfied: threadpoolctl>=3.1.0 in /home/aliuska/anaconda3/envs/pdp/lib/python3.9/site-packages (from scikit-learn) (3.6.0)\n",
            "\u001b[33mWARNING: Ignoring invalid distribution -ensorflow (/home/aliuska/anaconda3/envs/pdp/lib/python3.9/site-packages)\u001b[0m\u001b[33m\n",
            "\u001b[0m\u001b[33mWARNING: Ignoring invalid distribution -ensorflow (/home/aliuska/anaconda3/envs/pdp/lib/python3.9/site-packages)\u001b[0m\u001b[33m\n",
            "\u001b[0m"
          ]
        }
      ]
    },
    {
      "cell_type": "code",
      "source": [
        "import os\n",
        "import numpy as np\n",
        "import pandas as pd\n",
        "import matplotlib.pyplot as plt\n",
        "import seaborn as sns\n",
        "from sklearn.model_selection import train_test_split\n",
        "import itertools\n",
        "from sklearn.metrics import confusion_matrix, classification_report, accuracy_score\n",
        "import pandas as pd\n",
        "from sklearn.model_selection import train_test_split\n",
        "from sklearn.metrics import classification_report"
      ],
      "metadata": {
        "id": "wnmW7J50EbwS"
      },
      "execution_count": 14,
      "outputs": []
    },
    {
      "cell_type": "code",
      "source": [
        "!pip show transformers"
      ],
      "metadata": {
        "colab": {
          "base_uri": "https://localhost:8080/"
        },
        "id": "izM0FmeQKQhv",
        "outputId": "fc367b42-0291-449d-c9bd-d91b157082cb"
      },
      "execution_count": 15,
      "outputs": [
        {
          "output_type": "stream",
          "name": "stdout",
          "text": [
            "\u001b[33mWARNING: Ignoring invalid distribution -ensorflow (/home/aliuska/anaconda3/envs/pdp/lib/python3.9/site-packages)\u001b[0m\u001b[33m\n",
            "\u001b[0mName: transformers\n",
            "Version: 4.52.4\n",
            "Summary: State-of-the-art Machine Learning for JAX, PyTorch and TensorFlow\n",
            "Home-page: https://github.com/huggingface/transformers\n",
            "Author: The Hugging Face team (past and future) with the help of all our contributors (https://github.com/huggingface/transformers/graphs/contributors)\n",
            "Author-email: transformers@huggingface.co\n",
            "License: Apache 2.0 License\n",
            "Location: /home/aliuska/anaconda3/envs/pdp/lib/python3.9/site-packages\n",
            "Requires: filelock, huggingface-hub, numpy, packaging, pyyaml, regex, requests, safetensors, tokenizers, tqdm\n",
            "Required-by: \n"
          ]
        }
      ]
    },
    {
      "cell_type": "code",
      "source": [
        "#! pip install keras==2.3.1\n",
        "#! pip install tensorflow==1.19"
      ],
      "metadata": {
        "colab": {
          "base_uri": "https://localhost:8080/"
        },
        "id": "0xxQm_2SoDWO",
        "outputId": "fb485287-f1ad-4edb-8d8e-ecb0e933cffc"
      },
      "execution_count": 16,
      "outputs": [
        {
          "output_type": "stream",
          "name": "stdout",
          "text": [
            "\u001b[33mWARNING: Ignoring invalid distribution -ensorflow (/home/aliuska/anaconda3/envs/pdp/lib/python3.9/site-packages)\u001b[0m\u001b[33m\n",
            "\u001b[0mCollecting keras==2.3.1\n",
            "  Using cached Keras-2.3.1-py2.py3-none-any.whl.metadata (2.2 kB)\n",
            "Requirement already satisfied: numpy>=1.9.1 in /home/aliuska/anaconda3/envs/pdp/lib/python3.9/site-packages (from keras==2.3.1) (1.26.4)\n",
            "Requirement already satisfied: scipy>=0.14 in /home/aliuska/anaconda3/envs/pdp/lib/python3.9/site-packages (from keras==2.3.1) (1.13.1)\n",
            "Requirement already satisfied: six>=1.9.0 in /home/aliuska/anaconda3/envs/pdp/lib/python3.9/site-packages (from keras==2.3.1) (1.17.0)\n",
            "Requirement already satisfied: pyyaml in /home/aliuska/anaconda3/envs/pdp/lib/python3.9/site-packages (from keras==2.3.1) (6.0.2)\n",
            "Requirement already satisfied: h5py in /home/aliuska/anaconda3/envs/pdp/lib/python3.9/site-packages (from keras==2.3.1) (3.14.0)\n",
            "Requirement already satisfied: keras-applications>=1.0.6 in /home/aliuska/anaconda3/envs/pdp/lib/python3.9/site-packages (from keras==2.3.1) (1.0.8)\n",
            "Requirement already satisfied: keras-preprocessing>=1.0.5 in /home/aliuska/anaconda3/envs/pdp/lib/python3.9/site-packages (from keras==2.3.1) (1.1.2)\n",
            "Using cached Keras-2.3.1-py2.py3-none-any.whl (377 kB)\n",
            "\u001b[33mWARNING: Ignoring invalid distribution -ensorflow (/home/aliuska/anaconda3/envs/pdp/lib/python3.9/site-packages)\u001b[0m\u001b[33m\n",
            "\u001b[0mInstalling collected packages: keras\n",
            "  Attempting uninstall: keras\n",
            "    Found existing installation: keras 3.10.0\n",
            "    Uninstalling keras-3.10.0:\n",
            "      Successfully uninstalled keras-3.10.0\n",
            "\u001b[33mWARNING: Ignoring invalid distribution -ensorflow (/home/aliuska/anaconda3/envs/pdp/lib/python3.9/site-packages)\u001b[0m\u001b[33m\n",
            "\u001b[0m\u001b[31mERROR: pip's dependency resolver does not currently take into account all the packages that are installed. This behaviour is the source of the following dependency conflicts.\n",
            "tensorflow 2.19.0 requires keras>=3.5.0, but you have keras 2.3.1 which is incompatible.\u001b[0m\u001b[31m\n",
            "\u001b[0mSuccessfully installed keras-2.3.1\n",
            "\u001b[33mWARNING: Ignoring invalid distribution -ensorflow (/home/aliuska/anaconda3/envs/pdp/lib/python3.9/site-packages)\u001b[0m\u001b[33m\n",
            "\u001b[0m\u001b[31mERROR: Could not find a version that satisfies the requirement tensorflow==1.19 (from versions: 2.5.0, 2.5.1, 2.5.2, 2.5.3, 2.6.0rc0, 2.6.0rc1, 2.6.0rc2, 2.6.0, 2.6.1, 2.6.2, 2.6.3, 2.6.4, 2.6.5, 2.7.0rc0, 2.7.0rc1, 2.7.0, 2.7.1, 2.7.2, 2.7.3, 2.7.4, 2.8.0rc0, 2.8.0rc1, 2.8.0, 2.8.1, 2.8.2, 2.8.3, 2.8.4, 2.9.0rc0, 2.9.0rc1, 2.9.0rc2, 2.9.0, 2.9.1, 2.9.2, 2.9.3, 2.10.0rc0, 2.10.0rc1, 2.10.0rc2, 2.10.0rc3, 2.10.0, 2.10.1, 2.11.0rc0, 2.11.0rc1, 2.11.0rc2, 2.11.0, 2.11.1, 2.12.0rc0, 2.12.0rc1, 2.12.0, 2.12.1, 2.13.0rc0, 2.13.0rc1, 2.13.0rc2, 2.13.0, 2.13.1, 2.14.0rc0, 2.14.0rc1, 2.14.0, 2.14.1, 2.15.0rc0, 2.15.0rc1, 2.15.0, 2.15.0.post1, 2.15.1, 2.16.0rc0, 2.16.1, 2.16.2, 2.17.0rc0, 2.17.0rc1, 2.17.0, 2.17.1, 2.18.0rc0, 2.18.0rc1, 2.18.0rc2, 2.18.0, 2.18.1, 2.19.0rc0, 2.19.0)\u001b[0m\u001b[31m\n",
            "\u001b[0m\u001b[31mERROR: No matching distribution found for tensorflow==1.19\u001b[0m\u001b[31m\n",
            "\u001b[0m"
          ]
        }
      ]
    },
    {
      "cell_type": "code",
      "source": [
        "!pip show tensorflow"
      ],
      "metadata": {
        "colab": {
          "base_uri": "https://localhost:8080/"
        },
        "id": "qyhHYHLYqUg1",
        "outputId": "f17be9f3-cff7-4e08-a9d7-7b8155a137d5"
      },
      "execution_count": 17,
      "outputs": [
        {
          "output_type": "stream",
          "name": "stdout",
          "text": [
            "\u001b[33mWARNING: Ignoring invalid distribution -ensorflow (/home/aliuska/anaconda3/envs/pdp/lib/python3.9/site-packages)\u001b[0m\u001b[33m\n",
            "\u001b[0mName: tensorflow\n",
            "Version: 2.19.0\n",
            "Summary: TensorFlow is an open source machine learning framework for everyone.\n",
            "Home-page: https://www.tensorflow.org/\n",
            "Author: Google Inc.\n",
            "Author-email: packages@tensorflow.org\n",
            "License: Apache 2.0\n",
            "Location: /home/aliuska/anaconda3/envs/pdp/lib/python3.9/site-packages\n",
            "Requires: absl-py, astunparse, flatbuffers, gast, google-pasta, grpcio, h5py, keras, libclang, ml-dtypes, numpy, opt-einsum, packaging, protobuf, requests, setuptools, six, tensorboard, tensorflow-io-gcs-filesystem, termcolor, typing-extensions, wrapt\n",
            "Required-by: tensorflow-text, tf-models-official, tf_keras\n"
          ]
        }
      ]
    },
    {
      "cell_type": "code",
      "source": [
        "#!pip install -q -U \"tensorflow-text==2.11.*\""
      ],
      "metadata": {
        "colab": {
          "base_uri": "https://localhost:8080/"
        },
        "id": "_7pwvQx_rcaG",
        "outputId": "bfd91e5e-b7fd-4aac-c596-fbc50cf1ffec"
      },
      "execution_count": 18,
      "outputs": [
        {
          "output_type": "stream",
          "name": "stdout",
          "text": [
            "\u001b[33mWARNING: Ignoring invalid distribution -ensorflow (/home/aliuska/anaconda3/envs/pdp/lib/python3.9/site-packages)\u001b[0m\u001b[33m\n",
            "\u001b[0m\u001b[33mWARNING: Ignoring invalid distribution -ensorflow (/home/aliuska/anaconda3/envs/pdp/lib/python3.9/site-packages)\u001b[0m\u001b[33m\n",
            "\u001b[0m\u001b[33mWARNING: Ignoring invalid distribution -ensorflow (/home/aliuska/anaconda3/envs/pdp/lib/python3.9/site-packages)\u001b[0m\u001b[33m\n",
            "\u001b[0m\u001b[31mERROR: pip's dependency resolver does not currently take into account all the packages that are installed. This behaviour is the source of the following dependency conflicts.\n",
            "googleapis-common-protos 1.70.0 requires protobuf!=4.21.1,!=4.21.2,!=4.21.3,!=4.21.4,!=4.21.5,<7.0.0,>=3.20.2, but you have protobuf 3.19.6 which is incompatible.\n",
            "tensorflow-datasets 4.9.3 requires protobuf>=3.20, but you have protobuf 3.19.6 which is incompatible.\n",
            "tensorflow-metadata 1.17.1 requires protobuf<4.22,>=4.21.6; python_version < \"3.11\", but you have protobuf 3.19.6 which is incompatible.\n",
            "tf-models-official 2.19.1 requires tensorflow~=2.19.0, but you have tensorflow 2.11.1 which is incompatible.\n",
            "tf-models-official 2.19.1 requires tensorflow-text~=2.19.0, but you have tensorflow-text 2.11.0 which is incompatible.\n",
            "tf-models-official 2.19.1 requires tf-keras>=2.16.0, but you have tf-keras 2.15.0 which is incompatible.\u001b[0m\u001b[31m\n",
            "\u001b[0m"
          ]
        }
      ]
    },
    {
      "cell_type": "code",
      "source": [
        "from transformers import BertTokenizer\n",
        "from transformers.optimization import get_linear_schedule_with_warmup"
      ],
      "metadata": {
        "id": "wB-QwDzmHMYW"
      },
      "execution_count": 19,
      "outputs": []
    },
    {
      "cell_type": "code",
      "source": [
        "#!pip install -q tf-models-official"
      ],
      "metadata": {
        "colab": {
          "base_uri": "https://localhost:8080/"
        },
        "id": "B7wbzcb3sK4O",
        "outputId": "2303c8d0-2eff-4ce9-ec39-bfb8cc58905b"
      },
      "execution_count": 20,
      "outputs": [
        {
          "output_type": "stream",
          "name": "stdout",
          "text": [
            "\u001b[33mWARNING: Ignoring invalid distribution -ensorflow (/home/aliuska/anaconda3/envs/pdp/lib/python3.9/site-packages)\u001b[0m\u001b[33m\n",
            "\u001b[0m\u001b[33mWARNING: Ignoring invalid distribution -ensorflow (/home/aliuska/anaconda3/envs/pdp/lib/python3.9/site-packages)\u001b[0m\u001b[33m\n",
            "\u001b[0m\u001b[33mWARNING: Ignoring invalid distribution -ensorflow (/home/aliuska/anaconda3/envs/pdp/lib/python3.9/site-packages)\u001b[0m\u001b[33m\n",
            "\u001b[0m"
          ]
        }
      ]
    },
    {
      "cell_type": "code",
      "source": [],
      "metadata": {
        "id": "aedujXwlsL_t"
      },
      "execution_count": 20,
      "outputs": []
    },
    {
      "cell_type": "code",
      "source": [
        "import warnings\n",
        "warnings.filterwarnings('ignore')"
      ],
      "metadata": {
        "id": "QZq0moi5crM8"
      },
      "execution_count": 21,
      "outputs": []
    },
    {
      "cell_type": "code",
      "source": [
        "# ссылка на датасет на Гитхабе\n",
        "#IMDB = 'https://raw.githubusercontent.com/AliyaBadmaeva/imdb/master/IMDB_Dataset.zip'"
      ],
      "metadata": {
        "id": "aJYn6kzFdQjF"
      },
      "execution_count": 22,
      "outputs": []
    },
    {
      "cell_type": "code",
      "source": [
        "train = pd.read_csv('train_df.csv')  # чтение данных с помощью библиотеки Pandas\n",
        "test = pd.read_csv('test_df.csv')\n",
        "val = pd.read_csv('val_df.csv')\n",
        "\n",
        "train.head(10)  # Первые 10 строк датасета"
      ],
      "metadata": {
        "colab": {
          "base_uri": "https://localhost:8080/",
          "height": 363
        },
        "id": "UeafEJwNdvVE",
        "outputId": "2f99d46e-6174-48b9-f647-2f5928347d6c"
      },
      "execution_count": 23,
      "outputs": [
        {
          "output_type": "execute_result",
          "data": {
            "text/plain": [
              "      id                                               text  label sentiment\n",
              "0   9536                    Cooking microwave pizzas, yummy      2  positive\n",
              "1   6135  Any plans of allowing sub tasks to show up in ...      1   neutral\n",
              "2  17697   I love the humor, I just reworded it. Like sa...      2  positive\n",
              "3  14182                       naw idk what ur talkin about      1   neutral\n",
              "4  17840          That sucks to hear. I hate days like that      0  negative\n",
              "5   3655   Umm yeah. That`s probably a pretty good note ...      2  positive\n",
              "6    719                              whatever do you mean?      1   neutral\n",
              "7  22823   That would panic me a little!  Maybe you can ...      0  negative\n",
              "8   4869               Is sad when people`s phones are dead      0  negative\n",
              "9    793                                          sad face.      0  negative"
            ],
            "text/html": [
              "<div>\n",
              "<style scoped>\n",
              "    .dataframe tbody tr th:only-of-type {\n",
              "        vertical-align: middle;\n",
              "    }\n",
              "\n",
              "    .dataframe tbody tr th {\n",
              "        vertical-align: top;\n",
              "    }\n",
              "\n",
              "    .dataframe thead th {\n",
              "        text-align: right;\n",
              "    }\n",
              "</style>\n",
              "<table border=\"1\" class=\"dataframe\">\n",
              "  <thead>\n",
              "    <tr style=\"text-align: right;\">\n",
              "      <th></th>\n",
              "      <th>id</th>\n",
              "      <th>text</th>\n",
              "      <th>label</th>\n",
              "      <th>sentiment</th>\n",
              "    </tr>\n",
              "  </thead>\n",
              "  <tbody>\n",
              "    <tr>\n",
              "      <th>0</th>\n",
              "      <td>9536</td>\n",
              "      <td>Cooking microwave pizzas, yummy</td>\n",
              "      <td>2</td>\n",
              "      <td>positive</td>\n",
              "    </tr>\n",
              "    <tr>\n",
              "      <th>1</th>\n",
              "      <td>6135</td>\n",
              "      <td>Any plans of allowing sub tasks to show up in ...</td>\n",
              "      <td>1</td>\n",
              "      <td>neutral</td>\n",
              "    </tr>\n",
              "    <tr>\n",
              "      <th>2</th>\n",
              "      <td>17697</td>\n",
              "      <td>I love the humor, I just reworded it. Like sa...</td>\n",
              "      <td>2</td>\n",
              "      <td>positive</td>\n",
              "    </tr>\n",
              "    <tr>\n",
              "      <th>3</th>\n",
              "      <td>14182</td>\n",
              "      <td>naw idk what ur talkin about</td>\n",
              "      <td>1</td>\n",
              "      <td>neutral</td>\n",
              "    </tr>\n",
              "    <tr>\n",
              "      <th>4</th>\n",
              "      <td>17840</td>\n",
              "      <td>That sucks to hear. I hate days like that</td>\n",
              "      <td>0</td>\n",
              "      <td>negative</td>\n",
              "    </tr>\n",
              "    <tr>\n",
              "      <th>5</th>\n",
              "      <td>3655</td>\n",
              "      <td>Umm yeah. That`s probably a pretty good note ...</td>\n",
              "      <td>2</td>\n",
              "      <td>positive</td>\n",
              "    </tr>\n",
              "    <tr>\n",
              "      <th>6</th>\n",
              "      <td>719</td>\n",
              "      <td>whatever do you mean?</td>\n",
              "      <td>1</td>\n",
              "      <td>neutral</td>\n",
              "    </tr>\n",
              "    <tr>\n",
              "      <th>7</th>\n",
              "      <td>22823</td>\n",
              "      <td>That would panic me a little!  Maybe you can ...</td>\n",
              "      <td>0</td>\n",
              "      <td>negative</td>\n",
              "    </tr>\n",
              "    <tr>\n",
              "      <th>8</th>\n",
              "      <td>4869</td>\n",
              "      <td>Is sad when people`s phones are dead</td>\n",
              "      <td>0</td>\n",
              "      <td>negative</td>\n",
              "    </tr>\n",
              "    <tr>\n",
              "      <th>9</th>\n",
              "      <td>793</td>\n",
              "      <td>sad face.</td>\n",
              "      <td>0</td>\n",
              "      <td>negative</td>\n",
              "    </tr>\n",
              "  </tbody>\n",
              "</table>\n",
              "</div>"
            ]
          },
          "metadata": {},
          "execution_count": 23
        }
      ]
    },
    {
      "cell_type": "code",
      "source": [
        "test.head()"
      ],
      "metadata": {
        "id": "g_BNRKI1Jctp",
        "colab": {
          "base_uri": "https://localhost:8080/",
          "height": 206
        },
        "outputId": "21ca5247-3388-4132-86cb-67dd0b422a93"
      },
      "execution_count": 24,
      "outputs": [
        {
          "output_type": "execute_result",
          "data": {
            "text/plain": [
              "      id                                               text  label sentiment\n",
              "0   9235                         getting cds ready for tour      1   neutral\n",
              "1  16790   MC, happy mother`s day to your mom ;).. love yah      2  positive\n",
              "2  24840  A year from now is graduation....i am pretty s...      0  negative\n",
              "3  20744              because you had chips and sale w/o me      1   neutral\n",
              "4   6414          Great for organising my work life balance      2  positive"
            ],
            "text/html": [
              "<div>\n",
              "<style scoped>\n",
              "    .dataframe tbody tr th:only-of-type {\n",
              "        vertical-align: middle;\n",
              "    }\n",
              "\n",
              "    .dataframe tbody tr th {\n",
              "        vertical-align: top;\n",
              "    }\n",
              "\n",
              "    .dataframe thead th {\n",
              "        text-align: right;\n",
              "    }\n",
              "</style>\n",
              "<table border=\"1\" class=\"dataframe\">\n",
              "  <thead>\n",
              "    <tr style=\"text-align: right;\">\n",
              "      <th></th>\n",
              "      <th>id</th>\n",
              "      <th>text</th>\n",
              "      <th>label</th>\n",
              "      <th>sentiment</th>\n",
              "    </tr>\n",
              "  </thead>\n",
              "  <tbody>\n",
              "    <tr>\n",
              "      <th>0</th>\n",
              "      <td>9235</td>\n",
              "      <td>getting cds ready for tour</td>\n",
              "      <td>1</td>\n",
              "      <td>neutral</td>\n",
              "    </tr>\n",
              "    <tr>\n",
              "      <th>1</th>\n",
              "      <td>16790</td>\n",
              "      <td>MC, happy mother`s day to your mom ;).. love yah</td>\n",
              "      <td>2</td>\n",
              "      <td>positive</td>\n",
              "    </tr>\n",
              "    <tr>\n",
              "      <th>2</th>\n",
              "      <td>24840</td>\n",
              "      <td>A year from now is graduation....i am pretty s...</td>\n",
              "      <td>0</td>\n",
              "      <td>negative</td>\n",
              "    </tr>\n",
              "    <tr>\n",
              "      <th>3</th>\n",
              "      <td>20744</td>\n",
              "      <td>because you had chips and sale w/o me</td>\n",
              "      <td>1</td>\n",
              "      <td>neutral</td>\n",
              "    </tr>\n",
              "    <tr>\n",
              "      <th>4</th>\n",
              "      <td>6414</td>\n",
              "      <td>Great for organising my work life balance</td>\n",
              "      <td>2</td>\n",
              "      <td>positive</td>\n",
              "    </tr>\n",
              "  </tbody>\n",
              "</table>\n",
              "</div>"
            ]
          },
          "metadata": {},
          "execution_count": 24
        }
      ]
    },
    {
      "cell_type": "code",
      "source": [
        "val.head()"
      ],
      "metadata": {
        "colab": {
          "base_uri": "https://localhost:8080/",
          "height": 206
        },
        "id": "hWYj-qWLsjJW",
        "outputId": "691d9dbe-6c5a-4110-8094-20a92464d79c"
      },
      "execution_count": 25,
      "outputs": [
        {
          "output_type": "execute_result",
          "data": {
            "text/plain": [
              "      id                                               text  label sentiment\n",
              "0    317  Laying in bed til workkk... Oh the life. Defin...      0  negative\n",
              "1  24292   ooohhh imma need you to get on that asap love...      2  positive\n",
              "2   3513   Thanks! I love it they have a video, so you d...      2  positive\n",
              "3   4322     I left my ipod in the car so now its all warm.      2  positive\n",
              "4   6203  Great app. Only complaint is that I'd like the...      2  positive"
            ],
            "text/html": [
              "<div>\n",
              "<style scoped>\n",
              "    .dataframe tbody tr th:only-of-type {\n",
              "        vertical-align: middle;\n",
              "    }\n",
              "\n",
              "    .dataframe tbody tr th {\n",
              "        vertical-align: top;\n",
              "    }\n",
              "\n",
              "    .dataframe thead th {\n",
              "        text-align: right;\n",
              "    }\n",
              "</style>\n",
              "<table border=\"1\" class=\"dataframe\">\n",
              "  <thead>\n",
              "    <tr style=\"text-align: right;\">\n",
              "      <th></th>\n",
              "      <th>id</th>\n",
              "      <th>text</th>\n",
              "      <th>label</th>\n",
              "      <th>sentiment</th>\n",
              "    </tr>\n",
              "  </thead>\n",
              "  <tbody>\n",
              "    <tr>\n",
              "      <th>0</th>\n",
              "      <td>317</td>\n",
              "      <td>Laying in bed til workkk... Oh the life. Defin...</td>\n",
              "      <td>0</td>\n",
              "      <td>negative</td>\n",
              "    </tr>\n",
              "    <tr>\n",
              "      <th>1</th>\n",
              "      <td>24292</td>\n",
              "      <td>ooohhh imma need you to get on that asap love...</td>\n",
              "      <td>2</td>\n",
              "      <td>positive</td>\n",
              "    </tr>\n",
              "    <tr>\n",
              "      <th>2</th>\n",
              "      <td>3513</td>\n",
              "      <td>Thanks! I love it they have a video, so you d...</td>\n",
              "      <td>2</td>\n",
              "      <td>positive</td>\n",
              "    </tr>\n",
              "    <tr>\n",
              "      <th>3</th>\n",
              "      <td>4322</td>\n",
              "      <td>I left my ipod in the car so now its all warm.</td>\n",
              "      <td>2</td>\n",
              "      <td>positive</td>\n",
              "    </tr>\n",
              "    <tr>\n",
              "      <th>4</th>\n",
              "      <td>6203</td>\n",
              "      <td>Great app. Only complaint is that I'd like the...</td>\n",
              "      <td>2</td>\n",
              "      <td>positive</td>\n",
              "    </tr>\n",
              "  </tbody>\n",
              "</table>\n",
              "</div>"
            ]
          },
          "metadata": {},
          "execution_count": 25
        }
      ]
    },
    {
      "cell_type": "code",
      "source": [
        "train.info()  # типы данных для каждого их признаков и количество строк"
      ],
      "metadata": {
        "colab": {
          "base_uri": "https://localhost:8080/"
        },
        "id": "rhmzdQWNd6-M",
        "outputId": "945e6024-d599-47c3-8dee-5e38c0db3987"
      },
      "execution_count": 26,
      "outputs": [
        {
          "output_type": "stream",
          "name": "stdout",
          "text": [
            "<class 'pandas.core.frame.DataFrame'>\n",
            "RangeIndex: 31232 entries, 0 to 31231\n",
            "Data columns (total 4 columns):\n",
            " #   Column     Non-Null Count  Dtype \n",
            "---  ------     --------------  ----- \n",
            " 0   id         31232 non-null  int64 \n",
            " 1   text       31232 non-null  object\n",
            " 2   label      31232 non-null  int64 \n",
            " 3   sentiment  31232 non-null  object\n",
            "dtypes: int64(2), object(2)\n",
            "memory usage: 976.1+ KB\n"
          ]
        }
      ]
    },
    {
      "cell_type": "code",
      "source": [
        "test.info()"
      ],
      "metadata": {
        "colab": {
          "base_uri": "https://localhost:8080/"
        },
        "id": "VxV4sWvust5e",
        "outputId": "e95eb2b0-1333-450e-f85f-77dc4ef610f1"
      },
      "execution_count": 27,
      "outputs": [
        {
          "output_type": "stream",
          "name": "stdout",
          "text": [
            "<class 'pandas.core.frame.DataFrame'>\n",
            "RangeIndex: 5206 entries, 0 to 5205\n",
            "Data columns (total 4 columns):\n",
            " #   Column     Non-Null Count  Dtype \n",
            "---  ------     --------------  ----- \n",
            " 0   id         5206 non-null   int64 \n",
            " 1   text       5205 non-null   object\n",
            " 2   label      5206 non-null   int64 \n",
            " 3   sentiment  5206 non-null   object\n",
            "dtypes: int64(2), object(2)\n",
            "memory usage: 162.8+ KB\n"
          ]
        }
      ]
    },
    {
      "cell_type": "code",
      "source": [
        "val.info()"
      ],
      "metadata": {
        "colab": {
          "base_uri": "https://localhost:8080/"
        },
        "id": "_O2MgFOEsxeu",
        "outputId": "700f83e7-dadf-4eef-b2d0-6b727e346a0f"
      },
      "execution_count": 28,
      "outputs": [
        {
          "output_type": "stream",
          "name": "stdout",
          "text": [
            "<class 'pandas.core.frame.DataFrame'>\n",
            "RangeIndex: 5205 entries, 0 to 5204\n",
            "Data columns (total 4 columns):\n",
            " #   Column     Non-Null Count  Dtype \n",
            "---  ------     --------------  ----- \n",
            " 0   id         5205 non-null   int64 \n",
            " 1   text       5205 non-null   object\n",
            " 2   label      5205 non-null   int64 \n",
            " 3   sentiment  5205 non-null   object\n",
            "dtypes: int64(2), object(2)\n",
            "memory usage: 162.8+ KB\n"
          ]
        }
      ]
    },
    {
      "cell_type": "code",
      "source": [
        "train.describe()  # статистические данные"
      ],
      "metadata": {
        "colab": {
          "base_uri": "https://localhost:8080/",
          "height": 300
        },
        "id": "bUpyUM0Se2ll",
        "outputId": "cfe4b6c6-f01a-4362-f141-faacd7162fa3"
      },
      "execution_count": 29,
      "outputs": [
        {
          "output_type": "execute_result",
          "data": {
            "text/plain": [
              "                 id         label\n",
              "count  31232.000000  31232.000000\n",
              "mean   10576.775359      1.043961\n",
              "std     8010.753795      0.790636\n",
              "min        0.000000      0.000000\n",
              "25%     3476.000000      0.000000\n",
              "50%     8662.000000      1.000000\n",
              "75%    17071.500000      2.000000\n",
              "max    27480.000000      2.000000"
            ],
            "text/html": [
              "<div>\n",
              "<style scoped>\n",
              "    .dataframe tbody tr th:only-of-type {\n",
              "        vertical-align: middle;\n",
              "    }\n",
              "\n",
              "    .dataframe tbody tr th {\n",
              "        vertical-align: top;\n",
              "    }\n",
              "\n",
              "    .dataframe thead th {\n",
              "        text-align: right;\n",
              "    }\n",
              "</style>\n",
              "<table border=\"1\" class=\"dataframe\">\n",
              "  <thead>\n",
              "    <tr style=\"text-align: right;\">\n",
              "      <th></th>\n",
              "      <th>id</th>\n",
              "      <th>label</th>\n",
              "    </tr>\n",
              "  </thead>\n",
              "  <tbody>\n",
              "    <tr>\n",
              "      <th>count</th>\n",
              "      <td>31232.000000</td>\n",
              "      <td>31232.000000</td>\n",
              "    </tr>\n",
              "    <tr>\n",
              "      <th>mean</th>\n",
              "      <td>10576.775359</td>\n",
              "      <td>1.043961</td>\n",
              "    </tr>\n",
              "    <tr>\n",
              "      <th>std</th>\n",
              "      <td>8010.753795</td>\n",
              "      <td>0.790636</td>\n",
              "    </tr>\n",
              "    <tr>\n",
              "      <th>min</th>\n",
              "      <td>0.000000</td>\n",
              "      <td>0.000000</td>\n",
              "    </tr>\n",
              "    <tr>\n",
              "      <th>25%</th>\n",
              "      <td>3476.000000</td>\n",
              "      <td>0.000000</td>\n",
              "    </tr>\n",
              "    <tr>\n",
              "      <th>50%</th>\n",
              "      <td>8662.000000</td>\n",
              "      <td>1.000000</td>\n",
              "    </tr>\n",
              "    <tr>\n",
              "      <th>75%</th>\n",
              "      <td>17071.500000</td>\n",
              "      <td>2.000000</td>\n",
              "    </tr>\n",
              "    <tr>\n",
              "      <th>max</th>\n",
              "      <td>27480.000000</td>\n",
              "      <td>2.000000</td>\n",
              "    </tr>\n",
              "  </tbody>\n",
              "</table>\n",
              "</div>"
            ]
          },
          "metadata": {},
          "execution_count": 29
        }
      ]
    },
    {
      "cell_type": "code",
      "source": [],
      "metadata": {
        "id": "n898BkrZs5PG"
      },
      "execution_count": 29,
      "outputs": []
    },
    {
      "cell_type": "code",
      "source": [
        "train['label'].value_counts()  # количество данных в целевом признаке"
      ],
      "metadata": {
        "colab": {
          "base_uri": "https://localhost:8080/"
        },
        "id": "P4RwAzAifDPO",
        "outputId": "29a5a588-d21a-4be6-a05b-f15e1446f6dd"
      },
      "execution_count": 30,
      "outputs": [
        {
          "output_type": "execute_result",
          "data": {
            "text/plain": [
              "label\n",
              "1    11649\n",
              "2    10478\n",
              "0     9105\n",
              "Name: count, dtype: int64"
            ]
          },
          "metadata": {},
          "execution_count": 30
        }
      ]
    },
    {
      "cell_type": "code",
      "source": [
        "test['label'].value_counts()"
      ],
      "metadata": {
        "colab": {
          "base_uri": "https://localhost:8080/"
        },
        "id": "jMoyTLAns9kF",
        "outputId": "fdab82a0-e672-4182-ae00-1fed6ffa10de"
      },
      "execution_count": 31,
      "outputs": [
        {
          "output_type": "execute_result",
          "data": {
            "text/plain": [
              "label\n",
              "1    1930\n",
              "2    1730\n",
              "0    1546\n",
              "Name: count, dtype: int64"
            ]
          },
          "metadata": {},
          "execution_count": 31
        }
      ]
    },
    {
      "cell_type": "code",
      "source": [
        "val['label'].value_counts()"
      ],
      "metadata": {
        "colab": {
          "base_uri": "https://localhost:8080/"
        },
        "id": "AoiFMi0etCOX",
        "outputId": "04fc6afd-19a1-4567-9783-9b37ac2213cb"
      },
      "execution_count": 32,
      "outputs": [
        {
          "output_type": "execute_result",
          "data": {
            "text/plain": [
              "label\n",
              "1    1928\n",
              "2    1760\n",
              "0    1517\n",
              "Name: count, dtype: int64"
            ]
          },
          "metadata": {},
          "execution_count": 32
        }
      ]
    },
    {
      "cell_type": "code",
      "source": [
        "val.dropna(axis=0, how='any', subset=['text', 'label'], inplace=True)\n",
        "train.dropna(axis=0, how='any',subset=['text', 'label'], inplace=True)\n",
        "test.dropna(axis=0, how='any', subset=['text', 'label'], inplace=True)"
      ],
      "metadata": {
        "id": "qOSExQyw608Q"
      },
      "execution_count": 83,
      "outputs": []
    },
    {
      "cell_type": "code",
      "source": [
        "train.info()"
      ],
      "metadata": {
        "colab": {
          "base_uri": "https://localhost:8080/"
        },
        "id": "urxHjqSk7Qjm",
        "outputId": "5004f025-f77b-43e2-a7fc-af52f44d3362"
      },
      "execution_count": 84,
      "outputs": [
        {
          "output_type": "stream",
          "name": "stdout",
          "text": [
            "<class 'pandas.core.frame.DataFrame'>\n",
            "RangeIndex: 31232 entries, 0 to 31231\n",
            "Data columns (total 2 columns):\n",
            " #   Column  Non-Null Count  Dtype \n",
            "---  ------  --------------  ----- \n",
            " 0   text    31232 non-null  object\n",
            " 1   label   31232 non-null  int64 \n",
            "dtypes: int64(1), object(1)\n",
            "memory usage: 488.1+ KB\n"
          ]
        }
      ]
    },
    {
      "cell_type": "code",
      "source": [
        "test.info()"
      ],
      "metadata": {
        "colab": {
          "base_uri": "https://localhost:8080/"
        },
        "id": "0mBPGvkQ7Vid",
        "outputId": "d98da911-d52c-4239-b129-4c9c8af80546"
      },
      "execution_count": 85,
      "outputs": [
        {
          "output_type": "stream",
          "name": "stdout",
          "text": [
            "<class 'pandas.core.frame.DataFrame'>\n",
            "Index: 5205 entries, 0 to 5205\n",
            "Data columns (total 2 columns):\n",
            " #   Column  Non-Null Count  Dtype \n",
            "---  ------  --------------  ----- \n",
            " 0   text    5205 non-null   object\n",
            " 1   label   5205 non-null   int64 \n",
            "dtypes: int64(1), object(1)\n",
            "memory usage: 122.0+ KB\n"
          ]
        }
      ]
    },
    {
      "cell_type": "code",
      "source": [
        "val.info()"
      ],
      "metadata": {
        "colab": {
          "base_uri": "https://localhost:8080/"
        },
        "id": "WTCshp1X7Z6e",
        "outputId": "89984deb-f0d5-4f80-c9b7-53b1a951673e"
      },
      "execution_count": 86,
      "outputs": [
        {
          "output_type": "stream",
          "name": "stdout",
          "text": [
            "<class 'pandas.core.frame.DataFrame'>\n",
            "RangeIndex: 5205 entries, 0 to 5204\n",
            "Data columns (total 2 columns):\n",
            " #   Column  Non-Null Count  Dtype \n",
            "---  ------  --------------  ----- \n",
            " 0   text    5205 non-null   object\n",
            " 1   label   5205 non-null   int64 \n",
            "dtypes: int64(1), object(1)\n",
            "memory usage: 81.5+ KB\n"
          ]
        }
      ]
    },
    {
      "cell_type": "code",
      "source": [
        "train.duplicated().sum()  # количество дублей"
      ],
      "metadata": {
        "colab": {
          "base_uri": "https://localhost:8080/"
        },
        "id": "vKr7a2JJfNLm",
        "outputId": "60cf4051-b4f9-4577-ae35-45e3a4251d62"
      },
      "execution_count": 33,
      "outputs": [
        {
          "output_type": "execute_result",
          "data": {
            "text/plain": [
              "0"
            ]
          },
          "metadata": {},
          "execution_count": 33
        }
      ]
    },
    {
      "cell_type": "code",
      "source": [
        "test.duplicated().sum()  # количество дублей"
      ],
      "metadata": {
        "colab": {
          "base_uri": "https://localhost:8080/"
        },
        "id": "veswEd3PtEEN",
        "outputId": "eba30438-23c3-4e39-ad6e-7b0e6d95d76d"
      },
      "execution_count": 34,
      "outputs": [
        {
          "output_type": "execute_result",
          "data": {
            "text/plain": [
              "0"
            ]
          },
          "metadata": {},
          "execution_count": 34
        }
      ]
    },
    {
      "cell_type": "code",
      "source": [
        "val.duplicated().sum()  # количество дублей"
      ],
      "metadata": {
        "colab": {
          "base_uri": "https://localhost:8080/"
        },
        "id": "5Dy2xeDUtHTO",
        "outputId": "adfd5064-5a20-4942-e8ee-464c2c8ce512"
      },
      "execution_count": 35,
      "outputs": [
        {
          "output_type": "execute_result",
          "data": {
            "text/plain": [
              "0"
            ]
          },
          "metadata": {},
          "execution_count": 35
        }
      ]
    },
    {
      "cell_type": "code",
      "source": [
        "'''!pip install --upgrade nbformat\n",
        "!pip install --upgrade nbconvert'''"
      ],
      "metadata": {
        "colab": {
          "base_uri": "https://localhost:8080/"
        },
        "id": "juRfJ8AnnQ_g",
        "outputId": "8f016134-4e8f-4143-80d2-b158b9e99b68"
      },
      "execution_count": 36,
      "outputs": [
        {
          "output_type": "execute_result",
          "data": {
            "text/plain": [
              "'!pip install --upgrade nbformat\\n!pip install --upgrade nbconvert'"
            ]
          },
          "metadata": {},
          "execution_count": 36
        }
      ]
    },
    {
      "cell_type": "code",
      "source": [
        "train.drop(['id','sentiment'],axis=1,inplace=True)\n",
        "test.drop(['id','sentiment'],axis=1,inplace=True)\n",
        "val.drop(['id','sentiment'],axis=1,inplace=True)"
      ],
      "metadata": {
        "id": "wqzN8hQtx2gR"
      },
      "execution_count": 46,
      "outputs": []
    },
    {
      "cell_type": "code",
      "source": [
        "train_rev = [len(t.split()) for t in train['text']]\n",
        "plt.hist(train_rev, bins=20)"
      ],
      "metadata": {
        "id": "K-DBTuSsZPmr",
        "colab": {
          "base_uri": "https://localhost:8080/",
          "height": 569
        },
        "outputId": "802ce753-4084-4982-ba09-58d8f8db8a6c"
      },
      "execution_count": 37,
      "outputs": [
        {
          "output_type": "execute_result",
          "data": {
            "text/plain": [
              "(array([2.2604e+04, 6.0550e+03, 1.1560e+03, 6.4400e+02, 6.5400e+02,\n",
              "        6.8000e+01, 2.4000e+01, 8.0000e+00, 8.0000e+00, 7.0000e+00,\n",
              "        2.0000e+00, 0.0000e+00, 0.0000e+00, 0.0000e+00, 0.0000e+00,\n",
              "        0.0000e+00, 0.0000e+00, 1.0000e+00, 0.0000e+00, 1.0000e+00]),\n",
              " array([  1. ,  20.5,  40. ,  59.5,  79. ,  98.5, 118. , 137.5, 157. ,\n",
              "        176.5, 196. , 215.5, 235. , 254.5, 274. , 293.5, 313. , 332.5,\n",
              "        352. , 371.5, 391. ]),\n",
              " <BarContainer object of 20 artists>)"
            ]
          },
          "metadata": {},
          "execution_count": 37
        },
        {
          "output_type": "display_data",
          "data": {
            "text/plain": [
              "<Figure size 640x480 with 1 Axes>"
            ],
            "image/png": "[encoded data removed]"
          },
          "metadata": {}
        }
      ]
    },
    {
      "cell_type": "code",
      "source": [
        "#!pip install bert-tensorflow"
      ],
      "metadata": {
        "colab": {
          "base_uri": "https://localhost:8080/"
        },
        "id": "jQpVCsOUvZ0G",
        "outputId": "c6391165-9f5d-46ed-8356-4a85870cb6bd"
      },
      "execution_count": 38,
      "outputs": [
        {
          "output_type": "stream",
          "name": "stdout",
          "text": [
            "\u001b[33mWARNING: Ignoring invalid distribution -ensorflow (/home/aliuska/anaconda3/envs/pdp/lib/python3.9/site-packages)\u001b[0m\u001b[33m\r\n",
            "\u001b[0mRequirement already satisfied: bert-tensorflow in /home/aliuska/anaconda3/envs/pdp/lib/python3.9/site-packages (1.0.4)\r\n",
            "Requirement already satisfied: six in /home/aliuska/anaconda3/envs/pdp/lib/python3.9/site-packages (from bert-tensorflow) (1.17.0)\n",
            "\u001b[33mWARNING: Ignoring invalid distribution -ensorflow (/home/aliuska/anaconda3/envs/pdp/lib/python3.9/site-packages)\u001b[0m\u001b[33m\n",
            "\u001b[0m\u001b[33mWARNING: Ignoring invalid distribution -ensorflow (/home/aliuska/anaconda3/envs/pdp/lib/python3.9/site-packages)\u001b[0m\u001b[33m\n",
            "\u001b[0m"
          ]
        }
      ]
    },
    {
      "cell_type": "code",
      "source": [
        "from transformers import BertForSequenceClassification"
      ],
      "metadata": {
        "id": "RcaWUbxpvIb9"
      },
      "execution_count": 39,
      "outputs": []
    },
    {
      "cell_type": "code",
      "source": [
        "import tensorflow as  tf"
      ],
      "metadata": {
        "id": "IFmAnzIHxsht"
      },
      "execution_count": 41,
      "outputs": []
    },
    {
      "cell_type": "code",
      "source": [
        "try:\n",
        "    # TPU detection. No parameters necessary if TPU_NAME environment variable is\n",
        "    # set: this is always the case on Kaggle.\n",
        "    tpu = tf.distribute.cluster_resolver.TPUClusterResolver()\n",
        "    print('Running on TPU ', tpu.master())\n",
        "except ValueError:\n",
        "    tpu = None\n",
        "\n",
        "if tpu:\n",
        "    tf.config.experimental_connect_to_cluster(tpu)\n",
        "    tf.tpu.experimental.initialize_tpu_system(tpu)\n",
        "    strategy = tf.distribute.experimental.TPUStrategy(tpu)\n",
        "else:\n",
        "    # Default distribution strategy in Tensorflow. Works on CPU and single GPU.\n",
        "    strategy = tf.distribute.get_strategy()\n",
        "\n",
        "print(\"REPLICAS: \", strategy.num_replicas_in_sync)"
      ],
      "metadata": {
        "colab": {
          "base_uri": "https://localhost:8080/"
        },
        "id": "mTgrJMMcx0a-",
        "outputId": "6309af61-efa9-4b49-e829-43d9960ace69"
      },
      "execution_count": 43,
      "outputs": [
        {
          "output_type": "stream",
          "name": "stdout",
          "text": [
            "REPLICAS:  1\n"
          ]
        }
      ]
    },
    {
      "cell_type": "code",
      "source": [
        "AUTO = tf.data.experimental.AUTOTUNE\n",
        "\n",
        "\n",
        "# Configuration\n",
        "EPOCHS = 3\n",
        "BATCH_SIZE = 16 * strategy.num_replicas_in_sync\n",
        "MAX_LEN = 100"
      ],
      "metadata": {
        "id": "tvk1TVR_vIVu"
      },
      "execution_count": 45,
      "outputs": []
    },
    {
      "cell_type": "code",
      "source": [
        "# Reload it with the huggingface tokenizers library\n",
        "tokenizer = BertTokenizer.from_pretrained('bert-base-multilingual-cased', lowercase=False)\n",
        "tokenizer.save_pretrained('.')"
      ],
      "metadata": {
        "colab": {
          "base_uri": "https://localhost:8080/"
        },
        "id": "Bfzkdd_ax2cn",
        "outputId": "24352154-1f65-4d11-82e9-10490efa0bfa"
      },
      "execution_count": 59,
      "outputs": [
        {
          "output_type": "stream",
          "name": "stderr",
          "text": [
            "Some weights of BertForSequenceClassification were not initialized from the model checkpoint at bert-base-multilingual-cased and are newly initialized: ['classifier.bias', 'classifier.weight']\n",
            "You should probably TRAIN this model on a down-stream task to be able to use it for predictions and inference.\n"
          ]
        },
        {
          "output_type": "execute_result",
          "data": {
            "text/plain": [
              "('./tokenizer_config.json',\n",
              " './special_tokens_map.json',\n",
              " './vocab.txt',\n",
              " './added_tokens.json')"
            ]
          },
          "metadata": {},
          "execution_count": 59
        }
      ]
    },
    {
      "cell_type": "code",
      "source": [
        "X_train = train.text\n",
        "X_val = val.text\n",
        "X_test = test.text"
      ],
      "metadata": {
        "id": "EtAke4jG3A3G"
      },
      "execution_count": 101,
      "outputs": []
    },
    {
      "cell_type": "code",
      "source": [
        "y_train = train.label\n",
        "y_val = val.label\n",
        "y_test = test.label"
      ],
      "metadata": {
        "id": "7vSFjIVASRY-"
      },
      "execution_count": 108,
      "outputs": []
    },
    {
      "cell_type": "code",
      "source": [
        "# Setting some parameters\n",
        "\n",
        "'''config = {'label_list' : [0, 1, 2], # Label categories\n",
        "          'max_seq_length' : 100, # maximum length of (token) input sequences\n",
        "          'train_batch_size' : 32,\n",
        "          'learning_rate': 2e-5,\n",
        "          'epochs':5,\n",
        "          'optimizer': 'adam',\n",
        "          'dropout': 0.5,\n",
        "          'train_samples': len(X_train),\n",
        "          'valid_samples': len(X_val),\n",
        "          'train_split':0.1,\n",
        "          'valid_split': 0.01\n",
        "         }'''"
      ],
      "metadata": {
        "id": "ytZiWOaQRplo"
      },
      "execution_count": 103,
      "outputs": []
    },
    {
      "cell_type": "code",
      "source": [],
      "metadata": {
        "id": "CeE1SZGRQxQO"
      },
      "execution_count": null,
      "outputs": []
    },
    {
      "cell_type": "code",
      "source": [
        "X_train_encoded = tokenizer.batch_encode_plus(X_train.tolist(),\n",
        "                                              padding=True,\n",
        "                                              truncation=True,\n",
        "                                              max_length=MAX_LEN,\n",
        "                                              return_tensors='tf')\n",
        "\n",
        "X_val_encoded = tokenizer.batch_encode_plus(X_val.tolist(),\n",
        "                                              padding=True,\n",
        "                                              truncation=True,\n",
        "                                              max_length=MAX_LEN,\n",
        "                                              return_tensors='tf')\n",
        "\n",
        "X_test_encoded = tokenizer.batch_encode_plus(X_test.tolist(),\n",
        "                                              padding=True,\n",
        "                                              truncation=True,\n",
        "                                              max_length=MAX_LEN,\n",
        "                                              return_tensors='tf')"
      ],
      "metadata": {
        "id": "xmLsEkpr0I0n"
      },
      "execution_count": 118,
      "outputs": []
    },
    {
      "cell_type": "code",
      "source": [
        "X_train_encoded"
      ],
      "metadata": {
        "colab": {
          "base_uri": "https://localhost:8080/"
        },
        "id": "XaT4vGvzUO8m",
        "outputId": "a6286e90-aaf2-4fa8-b74d-c63d4a51091b"
      },
      "execution_count": 119,
      "outputs": [
        {
          "output_type": "execute_result",
          "data": {
            "text/plain": [
              "{'input_ids': <tf.Tensor: shape=(31232, 100), dtype=int32, numpy=\n",
              "array([[  101, 21115, 10230, ...,     0,     0,     0],\n",
              "       [  101, 47336, 18195, ...,     0,     0,     0],\n",
              "       [  101,   146, 16138, ...,     0,     0,     0],\n",
              "       ...,\n",
              "       [  101, 50337,   102, ...,     0,     0,     0],\n",
              "       [  101, 10124, 62151, ...,     0,     0,     0],\n",
              "       [  101, 14247, 10336, ...,     0,     0,     0]], dtype=int32)>, 'token_type_ids': <tf.Tensor: shape=(31232, 100), dtype=int32, numpy=\n",
              "array([[0, 0, 0, ..., 0, 0, 0],\n",
              "       [0, 0, 0, ..., 0, 0, 0],\n",
              "       [0, 0, 0, ..., 0, 0, 0],\n",
              "       ...,\n",
              "       [0, 0, 0, ..., 0, 0, 0],\n",
              "       [0, 0, 0, ..., 0, 0, 0],\n",
              "       [0, 0, 0, ..., 0, 0, 0]], dtype=int32)>, 'attention_mask': <tf.Tensor: shape=(31232, 100), dtype=int32, numpy=\n",
              "array([[1, 1, 1, ..., 0, 0, 0],\n",
              "       [1, 1, 1, ..., 0, 0, 0],\n",
              "       [1, 1, 1, ..., 0, 0, 0],\n",
              "       ...,\n",
              "       [1, 1, 1, ..., 0, 0, 0],\n",
              "       [1, 1, 1, ..., 0, 0, 0],\n",
              "       [1, 1, 1, ..., 0, 0, 0]], dtype=int32)>}"
            ]
          },
          "metadata": {},
          "execution_count": 119
        }
      ]
    },
    {
      "cell_type": "code",
      "source": [
        "# Функция для построения модели BERT\n",
        "'''def create_model():\n",
        "\n",
        "    input_word_ids = tf.keras.layers.Input(shape=(config['max_seq_length'],), dtype=tf.int32,\n",
        "                                       name=\"input_word_ids\")\n",
        "    input_mask = tf.keras.layers.Input(shape=(config['max_seq_length'],), dtype=tf.int32,\n",
        "                                   name=\"input_mask\")\n",
        "    input_type_ids = tf.keras.layers.Input(shape=(config['max_seq_length'],), dtype=tf.int32,\n",
        "                                    name=\"input_type_ids\")\n",
        "\n",
        "\n",
        "    pooled_output, sequence_output = bert_layer([input_word_ids, input_mask, input_type_ids])\n",
        "    # for classification we only care about the pooled-output\n",
        "    # at this point we can play around with the classification head based on the downstream tasks and its complexity\n",
        "\n",
        "    drop = tf.keras.layers.Dropout(config['dropout'])(pooled_output)\n",
        "    output = tf.keras.layers.Dense(1, activation='sigmoid', name='output')(drop)\n",
        "\n",
        "    # inputs coming from the function\n",
        "    model = tf.keras.Model(\n",
        "      inputs={\n",
        "        'input_word_ids': input_word_ids,\n",
        "        'input_mask': input_mask,\n",
        "        'input_type_ids': input_type_ids},\n",
        "      outputs=output)\n",
        "\n",
        "    return model'''"
      ],
      "metadata": {
        "id": "Gx6lDA3QQqil"
      },
      "execution_count": 120,
      "outputs": []
    },
    {
      "cell_type": "code",
      "source": [
        "# Calling the create model function to get the keras based functional model\n",
        "#model = create_model()"
      ],
      "metadata": {
        "id": "7qezokGGQqdg"
      },
      "execution_count": null,
      "outputs": []
    },
    {
      "cell_type": "code",
      "source": [
        "# using adam with a lr of 2*(10^-5), loss as binary cross entropy as only 2 classes and similarly binary accuracy\n",
        "'''model.compile(optimizer=tf.keras.optimizers.Adam(learning_rate=config['learning_rate']),\n",
        "              loss=tf.keras.losses.BinaryCrossentropy(),\n",
        "              metrics=[tf.keras.metrics.BinaryAccuracy(),\n",
        "                       tf.keras.metrics.PrecisionAtRecall(0.5),\n",
        "                       tf.keras.metrics.Precision(),\n",
        "                       tf.keras.metrics.Recall()])\n",
        "model.summary()'''"
      ],
      "metadata": {
        "id": "8hi-i7wgQqaN"
      },
      "execution_count": null,
      "outputs": []
    },
    {
      "cell_type": "code",
      "source": [
        "#tf.keras.utils.plot_model(model=model, show_shapes=True, dpi=100)"
      ],
      "metadata": {
        "id": "svAhr9_WQ6Qt"
      },
      "execution_count": null,
      "outputs": []
    },
    {
      "cell_type": "code",
      "source": [
        "# Update CONFIG dict with the name of the model.\n",
        "'''config['model_name'] = 'BERT_EN_UNCASED'\n",
        "print('Training configuration: ', config)\n",
        "\n",
        "# Initialize W&B run\n",
        "run = wandb.init(project='Finetune-BERT-Text-Classification',\n",
        "                 config=config,\n",
        "                 group='BERT_EN_UNCASED',\n",
        "                 job_type='train')'''"
      ],
      "metadata": {
        "id": "SIMAFGv-Q6K1"
      },
      "execution_count": null,
      "outputs": []
    },
    {
      "cell_type": "code",
      "source": [
        "# Train model\n",
        "# setting low epochs as It starts to overfit with this limited data, please feel free to change\n",
        "'''epochs = config['epochs']\n",
        "history = model.fit(train_data,\n",
        "                    validation_data=valid_data,\n",
        "                    epochs=epochs,\n",
        "                    verbose=1,\n",
        "                    callbacks = [WandbCallback()])\n",
        "run.finish()'''"
      ],
      "metadata": {
        "id": "_hotiQkKQkwV"
      },
      "execution_count": null,
      "outputs": []
    },
    {
      "cell_type": "code",
      "source": [],
      "metadata": {
        "id": "4hnScTkyRFpO"
      },
      "execution_count": null,
      "outputs": []
    },
    {
      "cell_type": "code",
      "source": [],
      "metadata": {
        "id": "PRmOwlKkRFkN"
      },
      "execution_count": null,
      "outputs": []
    },
    {
      "cell_type": "code",
      "source": [
        "#!pip install tensorflow_text"
      ],
      "metadata": {
        "colab": {
          "base_uri": "https://localhost:8080/"
        },
        "id": "I58j0dKjx2V-",
        "outputId": "b13907d7-ebb8-498f-a904-6e1bb3b6b044"
      },
      "execution_count": 89,
      "outputs": [
        {
          "output_type": "stream",
          "name": "stdout",
          "text": [
            "\u001b[33mWARNING: Ignoring invalid distribution -ensorflow (/home/aliuska/anaconda3/envs/pdp/lib/python3.9/site-packages)\u001b[0m\u001b[33m\n",
            "\u001b[0mRequirement already satisfied: tensorflow_text in /home/aliuska/anaconda3/envs/pdp/lib/python3.9/site-packages (2.19.0)\n",
            "Requirement already satisfied: tensorflow<2.20,>=2.19.0 in /home/aliuska/anaconda3/envs/pdp/lib/python3.9/site-packages (from tensorflow_text) (2.19.0)\n",
            "Requirement already satisfied: absl-py>=1.0.0 in /home/aliuska/anaconda3/envs/pdp/lib/python3.9/site-packages (from tensorflow<2.20,>=2.19.0->tensorflow_text) (1.4.0)\n",
            "Requirement already satisfied: astunparse>=1.6.0 in /home/aliuska/anaconda3/envs/pdp/lib/python3.9/site-packages (from tensorflow<2.20,>=2.19.0->tensorflow_text) (1.6.3)\n",
            "Requirement already satisfied: flatbuffers>=24.3.25 in /home/aliuska/anaconda3/envs/pdp/lib/python3.9/site-packages (from tensorflow<2.20,>=2.19.0->tensorflow_text) (25.2.10)\n",
            "Requirement already satisfied: gast!=0.5.0,!=0.5.1,!=0.5.2,>=0.2.1 in /home/aliuska/anaconda3/envs/pdp/lib/python3.9/site-packages (from tensorflow<2.20,>=2.19.0->tensorflow_text) (0.4.0)\n",
            "Requirement already satisfied: google-pasta>=0.1.1 in /home/aliuska/anaconda3/envs/pdp/lib/python3.9/site-packages (from tensorflow<2.20,>=2.19.0->tensorflow_text) (0.2.0)\n",
            "Requirement already satisfied: libclang>=13.0.0 in /home/aliuska/anaconda3/envs/pdp/lib/python3.9/site-packages (from tensorflow<2.20,>=2.19.0->tensorflow_text) (18.1.1)\n",
            "Requirement already satisfied: opt-einsum>=2.3.2 in /home/aliuska/anaconda3/envs/pdp/lib/python3.9/site-packages (from tensorflow<2.20,>=2.19.0->tensorflow_text) (3.4.0)\n",
            "Requirement already satisfied: packaging in /home/aliuska/anaconda3/envs/pdp/lib/python3.9/site-packages (from tensorflow<2.20,>=2.19.0->tensorflow_text) (24.2)\n",
            "Requirement already satisfied: protobuf!=4.21.0,!=4.21.1,!=4.21.2,!=4.21.3,!=4.21.4,!=4.21.5,<6.0.0dev,>=3.20.3 in /home/aliuska/anaconda3/envs/pdp/lib/python3.9/site-packages (from tensorflow<2.20,>=2.19.0->tensorflow_text) (4.21.12)\n",
            "Requirement already satisfied: requests<3,>=2.21.0 in /home/aliuska/anaconda3/envs/pdp/lib/python3.9/site-packages (from tensorflow<2.20,>=2.19.0->tensorflow_text) (2.32.3)\n",
            "Requirement already satisfied: setuptools in /home/aliuska/anaconda3/envs/pdp/lib/python3.9/site-packages (from tensorflow<2.20,>=2.19.0->tensorflow_text) (72.1.0)\n",
            "Requirement already satisfied: six>=1.12.0 in /home/aliuska/anaconda3/envs/pdp/lib/python3.9/site-packages (from tensorflow<2.20,>=2.19.0->tensorflow_text) (1.17.0)\n",
            "Requirement already satisfied: termcolor>=1.1.0 in /home/aliuska/anaconda3/envs/pdp/lib/python3.9/site-packages (from tensorflow<2.20,>=2.19.0->tensorflow_text) (3.1.0)\n",
            "Requirement already satisfied: typing-extensions>=3.6.6 in /home/aliuska/anaconda3/envs/pdp/lib/python3.9/site-packages (from tensorflow<2.20,>=2.19.0->tensorflow_text) (4.12.2)\n",
            "Requirement already satisfied: wrapt>=1.11.0 in /home/aliuska/anaconda3/envs/pdp/lib/python3.9/site-packages (from tensorflow<2.20,>=2.19.0->tensorflow_text) (1.17.2)\n",
            "Requirement already satisfied: grpcio<2.0,>=1.24.3 in /home/aliuska/anaconda3/envs/pdp/lib/python3.9/site-packages (from tensorflow<2.20,>=2.19.0->tensorflow_text) (1.73.0)\n",
            "Requirement already satisfied: tensorboard~=2.19.0 in /home/aliuska/anaconda3/envs/pdp/lib/python3.9/site-packages (from tensorflow<2.20,>=2.19.0->tensorflow_text) (2.19.0)\n",
            "Requirement already satisfied: keras>=3.5.0 in /home/aliuska/anaconda3/envs/pdp/lib/python3.9/site-packages (from tensorflow<2.20,>=2.19.0->tensorflow_text) (3.10.0)\n",
            "Requirement already satisfied: numpy<2.2.0,>=1.26.0 in /home/aliuska/anaconda3/envs/pdp/lib/python3.9/site-packages (from tensorflow<2.20,>=2.19.0->tensorflow_text) (1.26.4)\n",
            "Requirement already satisfied: h5py>=3.11.0 in /home/aliuska/anaconda3/envs/pdp/lib/python3.9/site-packages (from tensorflow<2.20,>=2.19.0->tensorflow_text) (3.14.0)\n",
            "Requirement already satisfied: ml-dtypes<1.0.0,>=0.5.1 in /home/aliuska/anaconda3/envs/pdp/lib/python3.9/site-packages (from tensorflow<2.20,>=2.19.0->tensorflow_text) (0.5.1)\n",
            "Requirement already satisfied: tensorflow-io-gcs-filesystem>=0.23.1 in /home/aliuska/anaconda3/envs/pdp/lib/python3.9/site-packages (from tensorflow<2.20,>=2.19.0->tensorflow_text) (0.37.1)\n",
            "Requirement already satisfied: charset-normalizer<4,>=2 in /home/aliuska/anaconda3/envs/pdp/lib/python3.9/site-packages (from requests<3,>=2.21.0->tensorflow<2.20,>=2.19.0->tensorflow_text) (3.3.2)\n",
            "Requirement already satisfied: idna<4,>=2.5 in /home/aliuska/anaconda3/envs/pdp/lib/python3.9/site-packages (from requests<3,>=2.21.0->tensorflow<2.20,>=2.19.0->tensorflow_text) (3.7)\n",
            "Requirement already satisfied: urllib3<3,>=1.21.1 in /home/aliuska/anaconda3/envs/pdp/lib/python3.9/site-packages (from requests<3,>=2.21.0->tensorflow<2.20,>=2.19.0->tensorflow_text) (2.3.0)\n",
            "Requirement already satisfied: certifi>=2017.4.17 in /home/aliuska/anaconda3/envs/pdp/lib/python3.9/site-packages (from requests<3,>=2.21.0->tensorflow<2.20,>=2.19.0->tensorflow_text) (2025.4.26)\n",
            "Requirement already satisfied: markdown>=2.6.8 in /home/aliuska/anaconda3/envs/pdp/lib/python3.9/site-packages (from tensorboard~=2.19.0->tensorflow<2.20,>=2.19.0->tensorflow_text) (3.8)\n",
            "Requirement already satisfied: tensorboard-data-server<0.8.0,>=0.7.0 in /home/aliuska/anaconda3/envs/pdp/lib/python3.9/site-packages (from tensorboard~=2.19.0->tensorflow<2.20,>=2.19.0->tensorflow_text) (0.7.2)\n",
            "Requirement already satisfied: werkzeug>=1.0.1 in /home/aliuska/anaconda3/envs/pdp/lib/python3.9/site-packages (from tensorboard~=2.19.0->tensorflow<2.20,>=2.19.0->tensorflow_text) (3.1.3)\n",
            "Requirement already satisfied: wheel<1.0,>=0.23.0 in /home/aliuska/anaconda3/envs/pdp/lib/python3.9/site-packages (from astunparse>=1.6.0->tensorflow<2.20,>=2.19.0->tensorflow_text) (0.45.1)\n",
            "Requirement already satisfied: rich in /home/aliuska/anaconda3/envs/pdp/lib/python3.9/site-packages (from keras>=3.5.0->tensorflow<2.20,>=2.19.0->tensorflow_text) (14.0.0)\n",
            "Requirement already satisfied: namex in /home/aliuska/anaconda3/envs/pdp/lib/python3.9/site-packages (from keras>=3.5.0->tensorflow<2.20,>=2.19.0->tensorflow_text) (0.1.0)\n",
            "Requirement already satisfied: optree in /home/aliuska/anaconda3/envs/pdp/lib/python3.9/site-packages (from keras>=3.5.0->tensorflow<2.20,>=2.19.0->tensorflow_text) (0.16.0)\n",
            "Requirement already satisfied: importlib-metadata>=4.4 in /home/aliuska/anaconda3/envs/pdp/lib/python3.9/site-packages (from markdown>=2.6.8->tensorboard~=2.19.0->tensorflow<2.20,>=2.19.0->tensorflow_text) (8.5.0)\n",
            "Requirement already satisfied: zipp>=3.20 in /home/aliuska/anaconda3/envs/pdp/lib/python3.9/site-packages (from importlib-metadata>=4.4->markdown>=2.6.8->tensorboard~=2.19.0->tensorflow<2.20,>=2.19.0->tensorflow_text) (3.21.0)\n",
            "Requirement already satisfied: MarkupSafe>=2.1.1 in /home/aliuska/anaconda3/envs/pdp/lib/python3.9/site-packages (from werkzeug>=1.0.1->tensorboard~=2.19.0->tensorflow<2.20,>=2.19.0->tensorflow_text) (3.0.2)\n",
            "Requirement already satisfied: markdown-it-py>=2.2.0 in /home/aliuska/anaconda3/envs/pdp/lib/python3.9/site-packages (from rich->keras>=3.5.0->tensorflow<2.20,>=2.19.0->tensorflow_text) (3.0.0)\n",
            "Requirement already satisfied: pygments<3.0.0,>=2.13.0 in /home/aliuska/anaconda3/envs/pdp/lib/python3.9/site-packages (from rich->keras>=3.5.0->tensorflow<2.20,>=2.19.0->tensorflow_text) (2.19.1)\n",
            "Requirement already satisfied: mdurl~=0.1 in /home/aliuska/anaconda3/envs/pdp/lib/python3.9/site-packages (from markdown-it-py>=2.2.0->rich->keras>=3.5.0->tensorflow<2.20,>=2.19.0->tensorflow_text) (0.1.2)\n",
            "\u001b[33mWARNING: Ignoring invalid distribution -ensorflow (/home/aliuska/anaconda3/envs/pdp/lib/python3.9/site-packages)\u001b[0m\u001b[33m\n",
            "\u001b[0m\u001b[33mWARNING: Ignoring invalid distribution -ensorflow (/home/aliuska/anaconda3/envs/pdp/lib/python3.9/site-packages)\u001b[0m\u001b[33m\n",
            "\u001b[0m"
          ]
        }
      ]
    },
    {
      "cell_type": "code",
      "source": [
        "#!pip install tensorflow_hub"
      ],
      "metadata": {
        "colab": {
          "base_uri": "https://localhost:8080/"
        },
        "id": "mLG1js4rLaiW",
        "outputId": "aa5e8a14-632e-4c86-cf34-334765b4d4bd"
      },
      "execution_count": 90,
      "outputs": [
        {
          "output_type": "stream",
          "name": "stdout",
          "text": [
            "\u001b[33mWARNING: Ignoring invalid distribution -ensorflow (/home/aliuska/anaconda3/envs/pdp/lib/python3.9/site-packages)\u001b[0m\u001b[33m\r\n",
            "\u001b[0mRequirement already satisfied: tensorflow_hub in /home/aliuska/anaconda3/envs/pdp/lib/python3.9/site-packages (0.16.1)\r\n",
            "Requirement already satisfied: numpy>=1.12.0 in /home/aliuska/anaconda3/envs/pdp/lib/python3.9/site-packages (from tensorflow_hub) (1.26.4)\r\n",
            "Requirement already satisfied: protobuf>=3.19.6 in /home/aliuska/anaconda3/envs/pdp/lib/python3.9/site-packages (from tensorflow_hub) (4.21.12)\r\n",
            "Requirement already satisfied: tf-keras>=2.14.1 in /home/aliuska/anaconda3/envs/pdp/lib/python3.9/site-packages (from tensorflow_hub) (2.19.0)\r\n",
            "Requirement already satisfied: tensorflow<2.20,>=2.19 in /home/aliuska/anaconda3/envs/pdp/lib/python3.9/site-packages (from tf-keras>=2.14.1->tensorflow_hub) (2.19.0)\n",
            "Requirement already satisfied: absl-py>=1.0.0 in /home/aliuska/anaconda3/envs/pdp/lib/python3.9/site-packages (from tensorflow<2.20,>=2.19->tf-keras>=2.14.1->tensorflow_hub) (1.4.0)\n",
            "Requirement already satisfied: astunparse>=1.6.0 in /home/aliuska/anaconda3/envs/pdp/lib/python3.9/site-packages (from tensorflow<2.20,>=2.19->tf-keras>=2.14.1->tensorflow_hub) (1.6.3)\n",
            "Requirement already satisfied: flatbuffers>=24.3.25 in /home/aliuska/anaconda3/envs/pdp/lib/python3.9/site-packages (from tensorflow<2.20,>=2.19->tf-keras>=2.14.1->tensorflow_hub) (25.2.10)\n",
            "Requirement already satisfied: gast!=0.5.0,!=0.5.1,!=0.5.2,>=0.2.1 in /home/aliuska/anaconda3/envs/pdp/lib/python3.9/site-packages (from tensorflow<2.20,>=2.19->tf-keras>=2.14.1->tensorflow_hub) (0.4.0)\n",
            "Requirement already satisfied: google-pasta>=0.1.1 in /home/aliuska/anaconda3/envs/pdp/lib/python3.9/site-packages (from tensorflow<2.20,>=2.19->tf-keras>=2.14.1->tensorflow_hub) (0.2.0)\n",
            "Requirement already satisfied: libclang>=13.0.0 in /home/aliuska/anaconda3/envs/pdp/lib/python3.9/site-packages (from tensorflow<2.20,>=2.19->tf-keras>=2.14.1->tensorflow_hub) (18.1.1)\n",
            "Requirement already satisfied: opt-einsum>=2.3.2 in /home/aliuska/anaconda3/envs/pdp/lib/python3.9/site-packages (from tensorflow<2.20,>=2.19->tf-keras>=2.14.1->tensorflow_hub) (3.4.0)\n",
            "Requirement already satisfied: packaging in /home/aliuska/anaconda3/envs/pdp/lib/python3.9/site-packages (from tensorflow<2.20,>=2.19->tf-keras>=2.14.1->tensorflow_hub) (24.2)\n",
            "Requirement already satisfied: requests<3,>=2.21.0 in /home/aliuska/anaconda3/envs/pdp/lib/python3.9/site-packages (from tensorflow<2.20,>=2.19->tf-keras>=2.14.1->tensorflow_hub) (2.32.3)\n",
            "Requirement already satisfied: setuptools in /home/aliuska/anaconda3/envs/pdp/lib/python3.9/site-packages (from tensorflow<2.20,>=2.19->tf-keras>=2.14.1->tensorflow_hub) (72.1.0)\n",
            "Requirement already satisfied: six>=1.12.0 in /home/aliuska/anaconda3/envs/pdp/lib/python3.9/site-packages (from tensorflow<2.20,>=2.19->tf-keras>=2.14.1->tensorflow_hub) (1.17.0)\n",
            "Requirement already satisfied: termcolor>=1.1.0 in /home/aliuska/anaconda3/envs/pdp/lib/python3.9/site-packages (from tensorflow<2.20,>=2.19->tf-keras>=2.14.1->tensorflow_hub) (3.1.0)\n",
            "Requirement already satisfied: typing-extensions>=3.6.6 in /home/aliuska/anaconda3/envs/pdp/lib/python3.9/site-packages (from tensorflow<2.20,>=2.19->tf-keras>=2.14.1->tensorflow_hub) (4.12.2)\n",
            "Requirement already satisfied: wrapt>=1.11.0 in /home/aliuska/anaconda3/envs/pdp/lib/python3.9/site-packages (from tensorflow<2.20,>=2.19->tf-keras>=2.14.1->tensorflow_hub) (1.17.2)\n",
            "Requirement already satisfied: grpcio<2.0,>=1.24.3 in /home/aliuska/anaconda3/envs/pdp/lib/python3.9/site-packages (from tensorflow<2.20,>=2.19->tf-keras>=2.14.1->tensorflow_hub) (1.73.0)\n",
            "Requirement already satisfied: tensorboard~=2.19.0 in /home/aliuska/anaconda3/envs/pdp/lib/python3.9/site-packages (from tensorflow<2.20,>=2.19->tf-keras>=2.14.1->tensorflow_hub) (2.19.0)\n",
            "Requirement already satisfied: keras>=3.5.0 in /home/aliuska/anaconda3/envs/pdp/lib/python3.9/site-packages (from tensorflow<2.20,>=2.19->tf-keras>=2.14.1->tensorflow_hub) (3.10.0)\n",
            "Requirement already satisfied: h5py>=3.11.0 in /home/aliuska/anaconda3/envs/pdp/lib/python3.9/site-packages (from tensorflow<2.20,>=2.19->tf-keras>=2.14.1->tensorflow_hub) (3.14.0)\n",
            "Requirement already satisfied: ml-dtypes<1.0.0,>=0.5.1 in /home/aliuska/anaconda3/envs/pdp/lib/python3.9/site-packages (from tensorflow<2.20,>=2.19->tf-keras>=2.14.1->tensorflow_hub) (0.5.1)\n",
            "Requirement already satisfied: tensorflow-io-gcs-filesystem>=0.23.1 in /home/aliuska/anaconda3/envs/pdp/lib/python3.9/site-packages (from tensorflow<2.20,>=2.19->tf-keras>=2.14.1->tensorflow_hub) (0.37.1)\n",
            "Requirement already satisfied: charset-normalizer<4,>=2 in /home/aliuska/anaconda3/envs/pdp/lib/python3.9/site-packages (from requests<3,>=2.21.0->tensorflow<2.20,>=2.19->tf-keras>=2.14.1->tensorflow_hub) (3.3.2)\n",
            "Requirement already satisfied: idna<4,>=2.5 in /home/aliuska/anaconda3/envs/pdp/lib/python3.9/site-packages (from requests<3,>=2.21.0->tensorflow<2.20,>=2.19->tf-keras>=2.14.1->tensorflow_hub) (3.7)\n",
            "Requirement already satisfied: urllib3<3,>=1.21.1 in /home/aliuska/anaconda3/envs/pdp/lib/python3.9/site-packages (from requests<3,>=2.21.0->tensorflow<2.20,>=2.19->tf-keras>=2.14.1->tensorflow_hub) (2.3.0)\n",
            "Requirement already satisfied: certifi>=2017.4.17 in /home/aliuska/anaconda3/envs/pdp/lib/python3.9/site-packages (from requests<3,>=2.21.0->tensorflow<2.20,>=2.19->tf-keras>=2.14.1->tensorflow_hub) (2025.4.26)\n",
            "Requirement already satisfied: markdown>=2.6.8 in /home/aliuska/anaconda3/envs/pdp/lib/python3.9/site-packages (from tensorboard~=2.19.0->tensorflow<2.20,>=2.19->tf-keras>=2.14.1->tensorflow_hub) (3.8)\n",
            "Requirement already satisfied: tensorboard-data-server<0.8.0,>=0.7.0 in /home/aliuska/anaconda3/envs/pdp/lib/python3.9/site-packages (from tensorboard~=2.19.0->tensorflow<2.20,>=2.19->tf-keras>=2.14.1->tensorflow_hub) (0.7.2)\n",
            "Requirement already satisfied: werkzeug>=1.0.1 in /home/aliuska/anaconda3/envs/pdp/lib/python3.9/site-packages (from tensorboard~=2.19.0->tensorflow<2.20,>=2.19->tf-keras>=2.14.1->tensorflow_hub) (3.1.3)\n",
            "Requirement already satisfied: wheel<1.0,>=0.23.0 in /home/aliuska/anaconda3/envs/pdp/lib/python3.9/site-packages (from astunparse>=1.6.0->tensorflow<2.20,>=2.19->tf-keras>=2.14.1->tensorflow_hub) (0.45.1)\n",
            "Requirement already satisfied: rich in /home/aliuska/anaconda3/envs/pdp/lib/python3.9/site-packages (from keras>=3.5.0->tensorflow<2.20,>=2.19->tf-keras>=2.14.1->tensorflow_hub) (14.0.0)\n",
            "Requirement already satisfied: namex in /home/aliuska/anaconda3/envs/pdp/lib/python3.9/site-packages (from keras>=3.5.0->tensorflow<2.20,>=2.19->tf-keras>=2.14.1->tensorflow_hub) (0.1.0)\n",
            "Requirement already satisfied: optree in /home/aliuska/anaconda3/envs/pdp/lib/python3.9/site-packages (from keras>=3.5.0->tensorflow<2.20,>=2.19->tf-keras>=2.14.1->tensorflow_hub) (0.16.0)\n",
            "Requirement already satisfied: importlib-metadata>=4.4 in /home/aliuska/anaconda3/envs/pdp/lib/python3.9/site-packages (from markdown>=2.6.8->tensorboard~=2.19.0->tensorflow<2.20,>=2.19->tf-keras>=2.14.1->tensorflow_hub) (8.5.0)\n",
            "Requirement already satisfied: zipp>=3.20 in /home/aliuska/anaconda3/envs/pdp/lib/python3.9/site-packages (from importlib-metadata>=4.4->markdown>=2.6.8->tensorboard~=2.19.0->tensorflow<2.20,>=2.19->tf-keras>=2.14.1->tensorflow_hub) (3.21.0)\n",
            "Requirement already satisfied: MarkupSafe>=2.1.1 in /home/aliuska/anaconda3/envs/pdp/lib/python3.9/site-packages (from werkzeug>=1.0.1->tensorboard~=2.19.0->tensorflow<2.20,>=2.19->tf-keras>=2.14.1->tensorflow_hub) (3.0.2)\n",
            "Requirement already satisfied: markdown-it-py>=2.2.0 in /home/aliuska/anaconda3/envs/pdp/lib/python3.9/site-packages (from rich->keras>=3.5.0->tensorflow<2.20,>=2.19->tf-keras>=2.14.1->tensorflow_hub) (3.0.0)\n",
            "Requirement already satisfied: pygments<3.0.0,>=2.13.0 in /home/aliuska/anaconda3/envs/pdp/lib/python3.9/site-packages (from rich->keras>=3.5.0->tensorflow<2.20,>=2.19->tf-keras>=2.14.1->tensorflow_hub) (2.19.1)\n",
            "Requirement already satisfied: mdurl~=0.1 in /home/aliuska/anaconda3/envs/pdp/lib/python3.9/site-packages (from markdown-it-py>=2.2.0->rich->keras>=3.5.0->tensorflow<2.20,>=2.19->tf-keras>=2.14.1->tensorflow_hub) (0.1.2)\n",
            "\u001b[33mWARNING: Ignoring invalid distribution -ensorflow (/home/aliuska/anaconda3/envs/pdp/lib/python3.9/site-packages)\u001b[0m\u001b[33m\n",
            "\u001b[0m\u001b[33mWARNING: Ignoring invalid distribution -ensorflow (/home/aliuska/anaconda3/envs/pdp/lib/python3.9/site-packages)\u001b[0m\u001b[33m\n",
            "\u001b[0m"
          ]
        }
      ]
    },
    {
      "cell_type": "code",
      "source": [
        "import tensorflow_hub as hub\n",
        "import tensorflow_text as text"
      ],
      "metadata": {
        "id": "veXWDSgFLdNW"
      },
      "execution_count": 91,
      "outputs": []
    },
    {
      "cell_type": "code",
      "source": [
        "preprocessor = hub.KerasLayer(\"https://tfhub.dev/google/universal-sentence-encoder-cmlm/multilingual-preprocess/2\")\n",
        "encoder = hub.KerasLayer(\"https://tfhub.dev/google/universal-sentence-encoder-cmlm/multilingual-base/1\")\n",
        "\n",
        "\n",
        "def get_embeddings(sentences):\n",
        "  '''return BERT-like embeddings of input text\n",
        "  Args:\n",
        "    - sentences: list of strings\n",
        "  Output:\n",
        "    - BERT-like embeddings: tf.Tensor of shape=(len(sentences), 768)\n",
        "  '''\n",
        "  preprocessed_text = preprocessor(sentences)\n",
        "  return encoder(preprocessed_text)['pooled_output']\n",
        "\n",
        "\n",
        "get_embeddings([\n",
        "    \"Cooking microwave pizzas, yummy\"]\n",
        ")"
      ],
      "metadata": {
        "colab": {
          "base_uri": "https://localhost:8080/"
        },
        "id": "PfHFkMz3LlaQ",
        "outputId": "4032259d-97fe-48b5-fb85-8eed10bcb042"
      },
      "execution_count": 92,
      "outputs": [
        {
          "output_type": "execute_result",
          "data": {
            "text/plain": [
              "<tf.Tensor: shape=(1, 768), dtype=float32, numpy=\n",
              "array([[ 2.88693130e-01,  1.43730149e-01,  2.10720196e-01,\n",
              "        -7.55365968e-01,  1.21141672e-01, -3.82921249e-01,\n",
              "        -4.60226797e-02, -4.64398593e-01,  3.90663356e-01,\n",
              "         1.29941329e-01, -3.02997351e-01, -1.50119454e-01,\n",
              "        -3.45756590e-01, -4.60872985e-02, -6.08147740e-01,\n",
              "        -1.05696297e+00, -1.00184251e-02, -6.77488893e-02,\n",
              "         2.84482151e-01, -3.55308235e-01, -4.92315233e-01,\n",
              "         2.61683971e-01, -2.51186695e-02,  1.12942183e+00,\n",
              "        -6.70944571e-01, -6.42694414e-01, -3.21369350e-01,\n",
              "        -1.79207489e-01,  1.88806161e-01, -4.00906563e-01,\n",
              "        -1.51058674e-01, -2.48661593e-01, -6.08690202e-01,\n",
              "        -3.59240770e-01, -3.78767967e-01,  1.95375934e-01,\n",
              "        -3.07743788e-01,  2.21568704e-01, -1.49641081e-03,\n",
              "        -3.85954082e-01, -3.13763618e-01,  5.72449807e-03,\n",
              "        -5.79528272e-01,  6.36815488e-01, -1.61980629e-01,\n",
              "         1.74465254e-01,  2.46526599e-01, -3.14097226e-01,\n",
              "        -6.66220859e-02,  1.47689253e-01,  2.95087900e-02,\n",
              "         9.51534808e-01, -9.62489173e-02, -4.83895876e-02,\n",
              "         4.14279193e-01, -2.77172238e-01,  1.96251035e-01,\n",
              "        -3.27310085e-01, -6.63068220e-02,  3.10372678e-03,\n",
              "        -7.25025952e-01, -5.06903291e-01, -2.77358089e-02,\n",
              "        -1.23817241e+00, -3.44035923e-01, -3.01395267e-01,\n",
              "        -4.53641742e-01, -6.26445353e-01, -3.04898113e-01,\n",
              "        -2.08444864e-01, -6.70609251e-02, -6.91317379e-01,\n",
              "        -5.65884531e-01, -4.71923977e-01, -2.11355105e-01,\n",
              "        -3.37588042e-01, -9.65586528e-02, -2.01887384e-01,\n",
              "        -3.27606678e-01, -1.81477100e-01,  6.30651042e-02,\n",
              "         3.85618782e+00,  2.81592876e-01, -5.66288352e-01,\n",
              "         6.91838443e-01,  2.12964386e-01, -1.38647392e-01,\n",
              "        -2.95568913e-01,  2.63724834e-01,  1.18494732e-02,\n",
              "         2.28394911e-01,  3.32376271e-01, -6.11110866e-01,\n",
              "        -3.05524141e-01,  9.83414650e-01, -6.84210122e-01,\n",
              "         8.12307838e-03,  1.92878649e-01, -6.37918115e-02,\n",
              "        -1.40981898e-01,  2.56480753e-01, -1.84244230e-01,\n",
              "        -8.33943933e-02, -3.88355970e-01, -1.98696345e-01,\n",
              "        -3.80706847e-01, -4.57259357e-01, -5.92773616e-01,\n",
              "         9.16540563e-01, -2.48506278e-01,  2.81137023e-02,\n",
              "        -8.94540921e-02,  4.59367186e-01, -1.23225249e-01,\n",
              "         1.87322609e-02,  1.22008659e-01, -4.81709510e-01,\n",
              "        -2.34134063e-01, -3.83252293e-01, -3.40001166e-01,\n",
              "        -4.11465108e-01, -2.73369759e-01,  3.87012810e-01,\n",
              "        -2.34426999e+00,  3.48609015e-02,  7.65221655e-01,\n",
              "         6.94135353e-02, -4.78267908e-01,  1.63474709e-01,\n",
              "        -3.06082904e-01, -5.45572758e-01,  3.27701747e-01,\n",
              "        -2.76898175e-01, -2.59477913e-01, -3.25326771e-01,\n",
              "        -3.87922287e-01,  2.31774021e-02, -2.70825088e-01,\n",
              "        -3.90706241e-01, -2.76005268e-01,  1.15199797e-01,\n",
              "         1.77119240e-01,  7.15576783e-02,  2.70125955e-01,\n",
              "        -3.15226316e-01,  5.45562208e-01, -2.60708094e-01,\n",
              "        -1.69232920e-01, -1.20886102e-01, -3.47643644e-01,\n",
              "        -8.64648998e-01, -2.71209683e-02, -5.53903341e-01,\n",
              "        -1.23556241e-01,  9.19578671e-02,  2.39314660e-01,\n",
              "        -1.34369209e-01,  4.13595170e-01, -3.63678306e-01,\n",
              "         1.80344433e-01, -2.07708448e-01, -3.07796896e-01,\n",
              "        -5.50712883e-01, -1.66338831e-01, -3.38224709e-01,\n",
              "        -4.60195839e-01,  2.39577651e-01, -4.62706089e-01,\n",
              "        -2.31663272e-01, -2.06371665e-01,  2.26601765e-01,\n",
              "        -2.54935026e-02,  1.72237277e-01, -4.43913311e-01,\n",
              "         5.75147927e-01,  6.91053271e-01, -3.60021107e-02,\n",
              "        -5.05616128e-01,  8.34772587e-01,  8.18425938e-02,\n",
              "        -2.16447152e-02,  8.28405917e-01, -7.30603784e-02,\n",
              "         1.41562194e-01, -3.18702273e-02, -1.43807441e-01,\n",
              "        -2.41983861e-01,  2.68115312e-01, -1.70228913e-01,\n",
              "        -5.74879467e-01,  1.11295544e-01, -5.43607593e-01,\n",
              "        -1.12143476e-02,  6.52153432e-01, -7.53636658e-01,\n",
              "         3.91857289e-02, -4.12486345e-01, -8.34362507e-01,\n",
              "        -7.57481396e-01,  5.78375570e-02,  3.67704630e-01,\n",
              "        -5.77974141e-01,  3.63466054e-01, -4.43843544e-01,\n",
              "         6.85140118e-02,  3.88199419e-01,  1.62916213e-01,\n",
              "        -2.89575279e-01, -1.23934373e-01, -2.41069794e-01,\n",
              "         6.85334858e-03, -2.51442045e-01,  3.93015623e-01,\n",
              "        -3.10959429e-01,  1.09560713e-01, -3.19298834e-01,\n",
              "        -7.99844265e-01, -2.33509853e-01, -3.77630979e-01,\n",
              "        -2.72084743e-01,  3.61781180e-01, -5.66103518e-01,\n",
              "        -1.69325039e-01,  2.90892452e-01, -2.87640154e-01,\n",
              "        -4.93255138e-01, -3.96013469e-01, -3.09935361e-01,\n",
              "         7.89432898e-02,  4.76189822e-01, -4.30748135e-01,\n",
              "         1.21808492e-01, -5.05678117e-01, -2.42345370e-02,\n",
              "        -3.01121652e-01,  1.42927969e+00,  4.86494035e-01,\n",
              "        -1.24600255e+00, -8.08623612e-01, -6.65372729e-01,\n",
              "        -3.46782058e-01, -4.58775848e-01,  6.23080768e-02,\n",
              "        -1.00097895e-01, -3.11094075e-02, -2.82292366e-01,\n",
              "        -3.96867812e-01,  7.42600977e-01, -4.11000878e-01,\n",
              "         3.15879844e-02, -2.85451800e-01, -4.92611259e-01,\n",
              "         1.15030939e-02,  1.45525172e-01, -1.79126132e-02,\n",
              "        -5.79320267e-02, -8.86937976e-01, -3.64958078e-01,\n",
              "        -3.39565016e-02, -1.67723671e-01, -4.42803055e-01,\n",
              "         3.15774143e-01,  5.61242223e-01, -2.64068097e-01,\n",
              "        -6.03453703e-02, -1.02318570e-01, -2.07954359e+00,\n",
              "         1.60499260e-01, -2.43197173e-01, -6.58982277e-01,\n",
              "        -2.53673885e-02,  3.30656707e-01, -2.99644411e-01,\n",
              "         2.46774882e-01,  5.95535338e-01,  2.72505432e-01,\n",
              "         7.95520693e-02,  1.22569576e-01, -6.28446937e-01,\n",
              "        -2.84841269e-01,  4.21683490e-01, -8.91185403e-02,\n",
              "        -1.38208485e+00, -3.50073576e-01, -1.71255231e-01,\n",
              "        -7.90505409e-02, -3.65070403e-01, -2.53288597e-01,\n",
              "         1.68221727e-01,  4.90996867e-01, -1.63299310e+00,\n",
              "        -2.42167920e-01,  7.69063234e-02, -1.47656664e-01,\n",
              "        -6.37429655e-01, -8.85134399e-01, -5.32065816e-02,\n",
              "        -3.31833124e-01, -2.09842652e-01,  9.59632024e-02,\n",
              "        -2.12537766e-01, -9.38581750e-02,  2.80969441e-01,\n",
              "        -4.13743973e-01, -3.84342447e-02, -1.97358653e-01,\n",
              "        -7.35687315e-01, -1.23409025e-01, -2.67113775e-01,\n",
              "        -3.28691542e-01,  4.41116184e-01, -4.47580040e-01,\n",
              "         1.61054924e-01, -1.66637421e-01, -6.83680236e-01,\n",
              "        -6.49540067e-01, -3.78601626e-02, -4.44777250e-01,\n",
              "        -4.27882016e-01,  1.31687354e-02, -1.03980385e-01,\n",
              "        -7.40128636e-01, -2.22812258e-02, -6.66973293e-01,\n",
              "        -5.78740776e-01, -1.03977263e-01, -5.48681021e-02,\n",
              "        -2.59323090e-01,  1.50380820e-01, -4.62745219e-01,\n",
              "        -3.31807047e-01,  9.30044055e-02,  4.75910962e-01,\n",
              "        -8.81233737e-02,  2.10825905e-01, -7.02886879e-01,\n",
              "        -3.10314864e-01, -1.94796905e-01,  6.80823773e-02,\n",
              "        -6.07123971e-01, -3.50245029e-01, -4.33669537e-01,\n",
              "        -8.90889287e-01, -6.83610022e-01, -5.99376500e-01,\n",
              "        -7.95703948e-01, -3.19577545e-01,  9.59524930e-01,\n",
              "        -6.15376458e-02, -2.09259480e-01, -1.84424773e-01,\n",
              "        -3.55889261e-01,  6.29567131e-02,  6.91931462e-03,\n",
              "         4.05633869e-03,  2.77671814e-01, -6.04034364e-01,\n",
              "        -2.50580609e-01,  1.81574345e-01, -4.28790897e-01,\n",
              "         1.97412953e-01,  1.32071599e-01, -1.28194678e+00,\n",
              "         1.06953546e-01,  9.77902412e-02,  7.69212097e-02,\n",
              "         1.04033925e-01,  3.22655052e-01, -9.03303474e-02,\n",
              "         3.88339907e-01, -6.18945777e-01, -2.86126379e-02,\n",
              "        -4.25087005e-01, -3.00172269e-01,  1.05161771e-01,\n",
              "        -1.95980087e-01, -6.16705954e-01,  2.04289913e-01,\n",
              "        -6.37733042e-01,  5.40976882e-01,  3.42697352e-01,\n",
              "         7.89149180e-02,  1.63969681e-01,  9.40746814e-02,\n",
              "         3.46883565e-01, -5.14613450e-01,  5.10858297e-02,\n",
              "        -1.01666808e-01,  3.42086017e-01, -4.38683301e-01,\n",
              "        -8.63276362e-01, -1.45773262e-01, -7.81155899e-02,\n",
              "        -1.14408985e-03, -4.52749938e-01, -2.22382680e-01,\n",
              "         1.00719452e-01,  6.10668063e-02, -3.26304585e-01,\n",
              "        -4.25342619e-01, -3.46194327e-01, -5.62781513e-01,\n",
              "        -2.01098710e-01, -3.53783458e-01, -3.92391264e-01,\n",
              "         6.84193075e-01, -4.17890996e-01, -1.86944678e-01,\n",
              "        -2.96638638e-01,  1.48110598e-01, -6.35785460e-01,\n",
              "         4.48710881e-02,  2.73952307e-03, -5.86671352e-01,\n",
              "         5.41852154e-02,  2.66676575e-01,  1.06234145e+00,\n",
              "         2.97619879e-01, -1.97403163e-01, -5.87700345e-02,\n",
              "         2.44480848e-01, -3.67016256e-01, -2.69140184e-01,\n",
              "        -2.60102570e-01, -1.26774704e+00, -3.82193953e-01,\n",
              "        -2.19882831e-01, -7.45180011e-01,  1.29481986e-01,\n",
              "         4.95119274e-01,  1.27464429e-01, -1.94507018e-01,\n",
              "        -4.55261439e-01, -4.56479341e-01, -2.93925405e+00,\n",
              "         4.02016461e-01,  2.07782653e-03, -2.51322001e-01,\n",
              "         1.85706168e-01, -2.43225932e-01, -2.64692128e-01,\n",
              "         1.18655396e+00, -5.14448695e-02, -5.27403057e-01,\n",
              "         4.02740464e-02, -3.79885614e-01,  3.57975632e-01,\n",
              "         6.78015172e-01, -4.03563604e-02, -5.64870005e-03,\n",
              "        -2.39353165e-01, -3.66408378e-01, -4.78529245e-01,\n",
              "         7.96109810e-02, -7.53018975e-01,  3.41162309e-02,\n",
              "         2.42767215e-01,  9.63843539e-02,  2.76082695e-01,\n",
              "         3.38009179e-01, -2.83423513e-01, -1.61856040e-01,\n",
              "        -9.21269119e-01, -2.04097778e-01, -4.19269770e-01,\n",
              "         2.00945482e-01, -2.42129534e-01,  1.94978908e-01,\n",
              "        -4.10174802e-02, -4.70997185e-01,  2.88544386e-03,\n",
              "        -2.33397886e-01,  5.24354875e-01, -2.52480924e-01,\n",
              "         5.85341334e-01,  3.03489119e-01, -5.32393038e-01,\n",
              "        -2.86239713e-01,  8.28238949e-02,  3.08953285e-01,\n",
              "         2.85586677e-02, -1.83688298e-01,  3.13844472e-01,\n",
              "        -3.63152772e-01, -9.24635977e-02, -7.22111702e-01,\n",
              "        -3.10856670e-01, -2.62169242e-01,  2.44654864e-01,\n",
              "         8.97751212e-01,  5.48563600e-01,  4.67197269e-01,\n",
              "        -4.37793322e-02,  7.12658092e-02,  2.28312705e-02,\n",
              "        -1.26302376e-01, -9.95400995e-02, -3.34045619e-01,\n",
              "        -8.99000019e-02,  3.12348872e-01,  3.99367064e-01,\n",
              "        -9.56637785e-02,  4.67858702e-01, -3.45734626e-01,\n",
              "        -3.25627327e-01, -4.11620408e-01,  3.56685340e-01,\n",
              "         5.87626807e-02,  2.61764955e-02, -2.00867295e-01,\n",
              "         1.36222258e-01, -2.27492362e-01, -1.73739836e-01,\n",
              "        -4.17046815e-01, -4.33466971e-01, -4.28473443e-01,\n",
              "        -2.98721313e-01, -2.70287722e-01, -3.09066057e-01,\n",
              "        -4.52864587e-01, -2.59040266e-01, -1.49046049e-01,\n",
              "        -1.72926322e-01, -4.33769077e-01, -3.65561932e-01,\n",
              "        -5.64341918e-02, -2.22487897e-01,  1.70413837e-01,\n",
              "         2.89430112e-01,  1.66875827e+00, -1.13017209e-01,\n",
              "        -6.24762952e-01, -1.41538993e-01, -4.91565078e-01,\n",
              "         2.36806154e-01, -3.53518240e-02,  3.93898100e-01,\n",
              "        -1.28561154e-01,  5.31219304e-01,  6.64032161e-01,\n",
              "        -5.48943937e-01,  1.87268838e-01, -8.40409398e-02,\n",
              "        -1.46150932e-01, -3.10145676e-01,  1.06319003e-01,\n",
              "         2.53283948e-01, -3.38773757e-01,  5.15581489e-01,\n",
              "        -4.68731187e-02, -5.67074418e-01,  1.02412835e-01,\n",
              "        -3.57185185e-01, -4.72533852e-01,  6.85694158e-01,\n",
              "        -2.39195064e-01, -3.84080797e-01, -6.84004843e-01,\n",
              "        -1.67037457e-01, -2.16250077e-01, -2.68324852e-01,\n",
              "        -2.27452859e-01,  2.53889024e-01,  3.06283861e-01,\n",
              "        -2.71815717e-01, -5.21086037e-01,  9.67080891e-01,\n",
              "         4.90631849e-01, -2.75139511e-01,  2.10240707e-01,\n",
              "         3.64117950e-01, -4.68029231e-01,  2.68101811e-01,\n",
              "        -8.30784380e-01,  3.13297004e-01, -7.07345843e-01,\n",
              "        -8.77274722e-02, -2.53892571e-01, -1.63053825e-01,\n",
              "        -6.70284152e-01, -2.79895496e-02, -6.23732768e-02,\n",
              "        -3.79753523e-02,  1.64455026e-01,  3.11216682e-01,\n",
              "         3.52869295e-02, -4.84057605e-01, -1.39094889e-02,\n",
              "        -3.35857719e-01, -5.31617880e-01,  3.14033851e-02,\n",
              "         7.44145811e-01,  1.11539820e-02, -6.03035927e-01,\n",
              "         1.80093899e-01,  2.30462700e-01,  4.49748009e-01,\n",
              "        -5.49642920e-01, -1.39068708e-01, -5.13301678e-02,\n",
              "        -2.87928730e-01, -5.73564887e-01,  4.40138966e-01,\n",
              "         3.07776988e-01, -3.58402103e-01, -4.01324064e-01,\n",
              "         6.45559281e-02, -5.49741983e-01, -1.93942070e-01,\n",
              "         4.87886593e-02, -3.96979711e-04, -6.06077492e-01,\n",
              "        -6.28226027e-02, -1.92090973e-01, -7.39111781e-01,\n",
              "        -1.18528724e+00, -3.92110258e-01, -9.01613981e-02,\n",
              "         2.99813122e-01, -1.77121058e-01, -3.74116033e-01,\n",
              "        -5.95989287e-01, -1.45078510e-01, -3.05126347e-02,\n",
              "        -3.56575251e-01,  7.12757587e-01,  1.41827120e-02,\n",
              "         1.53560832e-01,  8.63438100e-02, -4.32450771e-01,\n",
              "        -1.69941679e-01,  7.68319611e-03, -5.37778176e-02,\n",
              "        -4.32388544e-01, -1.50188759e-01,  7.43528679e-02,\n",
              "        -4.44051355e-01,  5.93225434e-02, -2.69740075e-01,\n",
              "        -5.96075170e-02, -3.28918725e-01, -1.28838134e+00,\n",
              "        -7.40695655e-01, -1.89165339e-01, -3.11356604e-01,\n",
              "         2.07883716e-01,  2.17916757e-01, -6.59073353e-01,\n",
              "        -1.63831748e-02, -2.92721242e-01,  1.47686258e-03,\n",
              "        -1.84287190e-01,  2.04330340e-01,  2.23828703e-01,\n",
              "         1.06013203e-02, -4.36881691e-01, -6.79512918e-01,\n",
              "        -4.07256454e-01, -2.52362311e-01, -2.39262894e-01,\n",
              "         4.10191864e-01, -2.66650140e-01,  1.62215188e-01,\n",
              "         2.23200202e-01, -5.20345449e-01,  5.27855515e-01,\n",
              "         3.15838844e-01, -6.05869830e-01,  2.81342959e+00,\n",
              "         9.58502665e-02,  5.43582439e-01, -3.11287314e-01,\n",
              "        -5.47001548e-02, -7.22563788e-02,  9.13072765e-01,\n",
              "        -7.35525906e-01,  2.18752831e-01, -2.66907871e-01,\n",
              "         3.78508836e-01, -6.44334499e-03,  2.32494116e-01,\n",
              "         1.84988808e-02, -1.60738066e-01,  4.50386316e-01,\n",
              "         2.44440600e-01, -1.12863742e-01, -4.21187580e-01,\n",
              "        -3.25188160e-01, -2.37036705e-01, -1.59935988e-02,\n",
              "        -5.18651545e-01,  1.73334867e-01, -2.61238128e-01,\n",
              "        -6.88260674e-01, -8.81113589e-01, -5.96234977e-01,\n",
              "        -4.44254845e-01,  1.41298264e-01,  3.18845734e-02,\n",
              "        -6.31516993e-01,  3.51073027e-01, -1.81620032e-01,\n",
              "        -2.59003252e-01,  1.21793961e-02, -5.72829425e-01,\n",
              "        -7.83179998e-02, -1.22206247e+00,  5.77918470e-01,\n",
              "        -4.70225886e-02, -3.22080553e-01,  8.29569250e-02,\n",
              "        -7.18275070e-01, -6.11773312e-01, -5.10737821e-02,\n",
              "        -8.58841300e-01, -2.16724072e-02,  9.70920473e-02,\n",
              "         1.99365258e-01,  6.19397819e-01,  9.11006108e-02,\n",
              "         2.89112985e-01,  1.70085028e-01, -4.82996076e-01,\n",
              "        -1.23697147e-01,  2.92905897e-01,  7.45724589e-02,\n",
              "        -1.72505572e-01, -7.28695035e-01, -2.30842724e-01,\n",
              "         4.00790153e-03, -2.36257151e-01, -3.20667237e-01,\n",
              "        -1.88902602e-01, -2.97013104e-01, -1.31789356e-01,\n",
              "        -1.79865763e-01, -1.18004978e+00,  1.21002540e-01,\n",
              "        -4.36237156e-01,  2.44839832e-01, -1.77386627e-01,\n",
              "        -1.55227408e-01, -5.20591736e-01, -2.26892963e-01,\n",
              "        -4.45722789e-01, -4.04787481e-01, -4.31678563e-01,\n",
              "        -4.26991940e-01,  3.41517851e-02,  1.79755062e-01,\n",
              "        -3.17023993e-01,  2.65857279e-01,  6.42921925e-02,\n",
              "         2.23595038e-01, -1.00883953e-01, -5.36770344e-01,\n",
              "         9.05230522e-01, -9.72487107e-02,  9.94214881e-03,\n",
              "        -1.73555408e-02, -2.68834323e-01, -1.07869732e+00,\n",
              "         1.95099562e-01, -2.28597194e-01,  1.30923569e-01,\n",
              "         2.44233951e-01, -5.88973463e-01,  9.44192186e-02]], dtype=float32)>"
            ]
          },
          "metadata": {},
          "execution_count": 92
        }
      ]
    },
    {
      "cell_type": "code",
      "source": [
        "import seaborn as sns\n",
        "from sklearn.metrics.pairwise import cosine_similarity\n",
        "\n",
        "\n",
        "def plot_similarity(features, labels):\n",
        "  # Матрица схожести включений\n",
        "  cos_sim = cosine_similarity(features)\n",
        "  fig = plt.figure(figsize=(10,8))\n",
        "  sns.set(font_scale=1.2)\n",
        "  cbar_kws=dict(use_gridspec=False, location=\"left\")\n",
        "  g = sns.heatmap(\n",
        "      cos_sim, xticklabels=labels, yticklabels=labels,\n",
        "      vmin=0, vmax=1, annot=True, cmap=\"Blues\",\n",
        "      cbar_kws=cbar_kws)\n",
        "  g.tick_params(labelright=True, labelleft=False)\n",
        "  g.set_yticklabels(labels, rotation=0)\n",
        "  g.set_title(\"Семантическая схожесть\")"
      ],
      "metadata": {
        "id": "z2Ipo0PiL4et"
      },
      "execution_count": 93,
      "outputs": []
    },
    {
      "cell_type": "code",
      "source": [
        "reviews = [\"this is really good food\",\n",
        "           \"I hate this film\",\n",
        "           \"I dont care about this organization\"]\n",
        "\n",
        "plot_similarity(get_embeddings(reviews), reviews)"
      ],
      "metadata": {
        "colab": {
          "base_uri": "https://localhost:8080/",
          "height": 1000
        },
        "id": "RLP-RuB8MGmd",
        "outputId": "972a4c09-d2f1-45c9-8697-4dc38e5dde53"
      },
      "execution_count": 94,
      "outputs": [
        {
          "output_type": "display_data",
          "data": {
            "text/plain": [
              "<Figure size 1000x800 with 2 Axes>"
            ],
            "image/png": "[encoded data removed]"
          },
          "metadata": {}
        }
      ]
    },
    {
      "cell_type": "code",
      "source": [
        "from keras import backend as K\n",
        "\n",
        "'''def balanced_recall(y_true, y_pred):\n",
        "    \"\"\"This function calculates the balanced recall metric\n",
        "    recall = TP / (TP + FN)\n",
        "    \"\"\"\n",
        "    recall_by_class = 0\n",
        "    # iterate over each predicted class to get class-specific metric\n",
        "    for i in range(y_pred.shape[1]):\n",
        "        y_pred_class = y_pred[:, i]\n",
        "        y_true_class = y_true[:, i]\n",
        "        true_positives = K.sum(K.round(K.clip(y_true_class * y_pred_class, 0, 1)))\n",
        "        possible_positives = K.sum(K.round(K.clip(y_true_class, 0, 1)))\n",
        "        recall = true_positives / (possible_positives + K.epsilon())\n",
        "        recall_by_class = recall_by_class + recall\n",
        "    return recall_by_class / y_pred.shape[1]\n",
        "\n",
        "def balanced_precision(y_true, y_pred):\n",
        "    \"\"\"This function calculates the balanced precision metric\n",
        "    precision = TP / (TP + FP)\n",
        "    \"\"\"\n",
        "    precision_by_class = 0\n",
        "    # iterate over each predicted class to get class-specific metric\n",
        "    for i in range(y_pred.shape[1]):\n",
        "        y_pred_class = y_pred[:, i]\n",
        "        y_true_class = y_true[:, i]\n",
        "        true_positives = K.sum(K.round(K.clip(y_true_class * y_pred_class, 0, 1)))\n",
        "        predicted_positives = K.sum(K.round(K.clip(y_pred_class, 0, 1)))\n",
        "        precision = true_positives / (predicted_positives + K.epsilon())\n",
        "        precision_by_class = precision_by_class + precision\n",
        "    # return average balanced metric for each class\n",
        "    return precision_by_class / y_pred.shape[1]\n",
        "\n",
        "def balanced_f1_score(y_true, y_pred):\n",
        "    \"\"\"This function calculates the F1 score metric\"\"\"\n",
        "    precision = balanced_precision(y_true, y_pred)\n",
        "    recall = balanced_recall(y_true, y_pred)\n",
        "    return 2 * ((precision * recall) / (precision + recall + K.epsilon()))'''"
      ],
      "metadata": {
        "id": "yLXoDg28MgKc"
      },
      "execution_count": 95,
      "outputs": []
    },
    {
      "cell_type": "code",
      "source": [],
      "metadata": {
        "id": "XVTX79BdOmWF"
      },
      "execution_count": null,
      "outputs": []
    },
    {
      "cell_type": "code",
      "source": [
        "'''bert_layer = hub.KerasLayer('https://tfhub.dev/tensorflow/bert_en_uncased_L-12_H-768_A-12/2',\n",
        "                            trainable=True)\n",
        "vocab_file = bert_layer.resolved_object.vocab_file.asset_path.numpy()\n",
        "do_lower_case = bert_layer.resolved_object.do_lower_case.numpy()'''"
      ],
      "metadata": {
        "id": "0B5-Gf7YPq4p"
      },
      "execution_count": 100,
      "outputs": []
    },
    {
      "cell_type": "code",
      "source": [],
      "metadata": {
        "id": "8iX6t68fPqz-"
      },
      "execution_count": null,
      "outputs": []
    },
    {
      "cell_type": "code",
      "source": [],
      "metadata": {
        "id": "V1p-eeiOPpkO"
      },
      "execution_count": null,
      "outputs": []
    },
    {
      "cell_type": "code",
      "source": [],
      "metadata": {
        "id": "I1kXX4LGNERu"
      },
      "execution_count": null,
      "outputs": []
    },
    {
      "cell_type": "code",
      "source": [
        "!pip install keras-core\n",
        "import keras_core as keras"
      ],
      "metadata": {
        "id": "VPok0SZ8Jzua",
        "colab": {
          "base_uri": "https://localhost:8080/"
        },
        "outputId": "2bb16a60-512b-4209-ac0c-1cc8c10661ae"
      },
      "execution_count": 129,
      "outputs": [
        {
          "output_type": "stream",
          "name": "stdout",
          "text": [
            "\u001b[33mWARNING: Ignoring invalid distribution -ensorflow (/home/aliuska/anaconda3/envs/pdp/lib/python3.9/site-packages)\u001b[0m\u001b[33m\n",
            "\u001b[0mCollecting keras-core\n",
            "  Downloading keras_core-0.1.7-py3-none-any.whl.metadata (4.3 kB)\n",
            "Requirement already satisfied: absl-py in /home/aliuska/anaconda3/envs/pdp/lib/python3.9/site-packages (from keras-core) (1.4.0)\n",
            "Requirement already satisfied: numpy in /home/aliuska/anaconda3/envs/pdp/lib/python3.9/site-packages (from keras-core) (1.26.4)\n",
            "Requirement already satisfied: rich in /home/aliuska/anaconda3/envs/pdp/lib/python3.9/site-packages (from keras-core) (14.0.0)\n",
            "Requirement already satisfied: namex in /home/aliuska/anaconda3/envs/pdp/lib/python3.9/site-packages (from keras-core) (0.1.0)\n",
            "Requirement already satisfied: h5py in /home/aliuska/anaconda3/envs/pdp/lib/python3.9/site-packages (from keras-core) (3.14.0)\n",
            "Requirement already satisfied: dm-tree in /home/aliuska/anaconda3/envs/pdp/lib/python3.9/site-packages (from keras-core) (0.1.8)\n",
            "Requirement already satisfied: markdown-it-py>=2.2.0 in /home/aliuska/anaconda3/envs/pdp/lib/python3.9/site-packages (from rich->keras-core) (3.0.0)\n",
            "Requirement already satisfied: pygments<3.0.0,>=2.13.0 in /home/aliuska/anaconda3/envs/pdp/lib/python3.9/site-packages (from rich->keras-core) (2.19.1)\n",
            "Requirement already satisfied: typing-extensions<5.0,>=4.0.0 in /home/aliuska/anaconda3/envs/pdp/lib/python3.9/site-packages (from rich->keras-core) (4.12.2)\n",
            "Requirement already satisfied: mdurl~=0.1 in /home/aliuska/anaconda3/envs/pdp/lib/python3.9/site-packages (from markdown-it-py>=2.2.0->rich->keras-core) (0.1.2)\n",
            "Downloading keras_core-0.1.7-py3-none-any.whl (950 kB)\n",
            "\u001b[2K   \u001b[90m━━━━━━━━━━━━━━━━━━━━━━━━━━━━━━━━━━━━━━━━\u001b[0m \u001b[32m950.8/950.8 kB\u001b[0m \u001b[31m6.4 MB/s\u001b[0m eta \u001b[36m0:00:00\u001b[0m\n",
            "\u001b[?25h\u001b[33mWARNING: Ignoring invalid distribution -ensorflow (/home/aliuska/anaconda3/envs/pdp/lib/python3.9/site-packages)\u001b[0m\u001b[33m\n",
            "\u001b[0mInstalling collected packages: keras-core\n",
            "\u001b[33mWARNING: Ignoring invalid distribution -ensorflow (/home/aliuska/anaconda3/envs/pdp/lib/python3.9/site-packages)\u001b[0m\u001b[33m\n",
            "\u001b[0mSuccessfully installed keras-core-0.1.7\n",
            "Using PyTorch backend.\n"
          ]
        }
      ]
    },
    {
      "cell_type": "code",
      "source": [
        "os.environ['TF_USE_LEGACY_KERAS'] = '1'"
      ],
      "metadata": {
        "id": "mKMq5eV8EPSa"
      },
      "execution_count": null,
      "outputs": []
    },
    {
      "cell_type": "code",
      "source": [
        "#import transformers"
      ],
      "metadata": {
        "id": "KB48ONL9J8ea"
      },
      "execution_count": null,
      "outputs": []
    },
    {
      "cell_type": "code",
      "source": [
        "model = BertForSequenceClassification.from_pretrained('bert-base-multilingual-cased', num_labels=3)"
      ],
      "metadata": {
        "colab": {
          "base_uri": "https://localhost:8080/"
        },
        "id": "vVWYaGXFBlGk",
        "outputId": "695d8aac-fddd-4ecd-f4fd-1f2f559e9722"
      },
      "execution_count": 122,
      "outputs": [
        {
          "output_type": "stream",
          "name": "stderr",
          "text": [
            "Some weights of BertForSequenceClassification were not initialized from the model checkpoint at bert-base-multilingual-cased and are newly initialized: ['classifier.bias', 'classifier.weight']\n",
            "You should probably TRAIN this model on a down-stream task to be able to use it for predictions and inference.\n"
          ]
        }
      ]
    },
    {
      "cell_type": "code",
      "source": [
        "#!pip install tf-keras"
      ],
      "metadata": {
        "id": "tXT3v7kMHUGC"
      },
      "execution_count": null,
      "outputs": []
    },
    {
      "cell_type": "code",
      "source": [
        "os.environ[\"KERAS_BACKEND\"] = \"torch\""
      ],
      "metadata": {
        "id": "6JbJusAQXVhW"
      },
      "execution_count": 124,
      "outputs": []
    },
    {
      "cell_type": "code",
      "source": [
        "import tensorflow as tf\n",
        "\n",
        "\n",
        "model.compile(optimizer=\"adam\", loss='sparse_categorical_crossentropy', metrics=['accuracy', 'loss', 'recall', 'precision'])"
      ],
      "metadata": {
        "id": "GLaSw-4XC3Y7",
        "colab": {
          "base_uri": "https://localhost:8080/",
          "height": 332
        },
        "outputId": "e28e3508-04d1-4017-8acc-42c9f8aadd0f"
      },
      "execution_count": 130,
      "outputs": [
        {
          "output_type": "error",
          "ename": "TypeError",
          "evalue": "compile() got an unexpected keyword argument 'optimizer'",
          "traceback": [
            "\u001b[0;31m---------------------------------------------------------------------------\u001b[0m",
            "\u001b[0;31mTypeError\u001b[0m                                 Traceback (most recent call last)",
            "Cell \u001b[0;32mIn[130], line 4\u001b[0m\n\u001b[1;32m      1\u001b[0m \u001b[38;5;28;01mimport\u001b[39;00m\u001b[38;5;250m \u001b[39m\u001b[38;5;21;01mtensorflow\u001b[39;00m\u001b[38;5;250m \u001b[39m\u001b[38;5;28;01mas\u001b[39;00m\u001b[38;5;250m \u001b[39m\u001b[38;5;21;01mtf\u001b[39;00m\n\u001b[0;32m----> 4\u001b[0m \u001b[43mmodel\u001b[49m\u001b[38;5;241;43m.\u001b[39;49m\u001b[43mcompile\u001b[49m\u001b[43m(\u001b[49m\u001b[43moptimizer\u001b[49m\u001b[38;5;241;43m=\u001b[39;49m\u001b[38;5;124;43m\"\u001b[39;49m\u001b[38;5;124;43madam\u001b[39;49m\u001b[38;5;124;43m\"\u001b[39;49m\u001b[43m,\u001b[49m\u001b[43m \u001b[49m\u001b[43mloss\u001b[49m\u001b[38;5;241;43m=\u001b[39;49m\u001b[38;5;124;43m'\u001b[39;49m\u001b[38;5;124;43msparse_categorical_crossentropy\u001b[39;49m\u001b[38;5;124;43m'\u001b[39;49m\u001b[43m,\u001b[49m\u001b[43m \u001b[49m\u001b[43mmetrics\u001b[49m\u001b[38;5;241;43m=\u001b[39;49m\u001b[43m[\u001b[49m\u001b[38;5;124;43m'\u001b[39;49m\u001b[38;5;124;43maccuracy\u001b[39;49m\u001b[38;5;124;43m'\u001b[39;49m\u001b[43m,\u001b[49m\u001b[43m \u001b[49m\u001b[38;5;124;43m'\u001b[39;49m\u001b[38;5;124;43mloss\u001b[39;49m\u001b[38;5;124;43m'\u001b[39;49m\u001b[43m,\u001b[49m\u001b[43m \u001b[49m\u001b[38;5;124;43m'\u001b[39;49m\u001b[38;5;124;43mrecall\u001b[39;49m\u001b[38;5;124;43m'\u001b[39;49m\u001b[43m,\u001b[49m\u001b[43m \u001b[49m\u001b[38;5;124;43m'\u001b[39;49m\u001b[38;5;124;43mprecision\u001b[39;49m\u001b[38;5;124;43m'\u001b[39;49m\u001b[43m]\u001b[49m\u001b[43m)\u001b[49m\n",
            "File \u001b[0;32m~/anaconda3/envs/pdp/lib/python3.9/site-packages/torch/nn/modules/module.py:2994\u001b[0m, in \u001b[0;36mModule.compile\u001b[0;34m(self, *args, **kwargs)\u001b[0m\n\u001b[1;32m   2985\u001b[0m \u001b[38;5;28;01mdef\u001b[39;00m\u001b[38;5;250m \u001b[39m\u001b[38;5;21mcompile\u001b[39m(\u001b[38;5;28mself\u001b[39m, \u001b[38;5;241m*\u001b[39margs, \u001b[38;5;241m*\u001b[39m\u001b[38;5;241m*\u001b[39mkwargs):\n\u001b[1;32m   2986\u001b[0m \u001b[38;5;250m    \u001b[39m\u001b[38;5;124;03m\"\"\"\u001b[39;00m\n\u001b[1;32m   2987\u001b[0m \u001b[38;5;124;03m    Compile this Module's forward using :func:`torch.compile`.\u001b[39;00m\n\u001b[1;32m   2988\u001b[0m \n\u001b[0;32m   (...)\u001b[0m\n\u001b[1;32m   2992\u001b[0m \u001b[38;5;124;03m    See :func:`torch.compile` for details on the arguments for this function.\u001b[39;00m\n\u001b[1;32m   2993\u001b[0m \u001b[38;5;124;03m    \"\"\"\u001b[39;00m\n\u001b[0;32m-> 2994\u001b[0m     \u001b[38;5;28mself\u001b[39m\u001b[38;5;241m.\u001b[39m_compiled_call_impl \u001b[38;5;241m=\u001b[39m \u001b[43mtorch\u001b[49m\u001b[38;5;241;43m.\u001b[39;49m\u001b[43mcompile\u001b[49m\u001b[43m(\u001b[49m\u001b[38;5;28;43mself\u001b[39;49m\u001b[38;5;241;43m.\u001b[39;49m\u001b[43m_call_impl\u001b[49m\u001b[43m,\u001b[49m\u001b[43m \u001b[49m\u001b[38;5;241;43m*\u001b[39;49m\u001b[43margs\u001b[49m\u001b[43m,\u001b[49m\u001b[43m \u001b[49m\u001b[38;5;241;43m*\u001b[39;49m\u001b[38;5;241;43m*\u001b[39;49m\u001b[43mkwargs\u001b[49m\u001b[43m)\u001b[49m\n",
            "\u001b[0;31mTypeError\u001b[0m: compile() got an unexpected keyword argument 'optimizer'"
          ]
        }
      ]
    },
    {
      "cell_type": "code",
      "source": [
        "model.summary()"
      ],
      "metadata": {
        "colab": {
          "base_uri": "https://localhost:8080/"
        },
        "id": "bnhPFJCGsUUr",
        "outputId": "cc1dc3cd-5bca-48e4-9a0c-de67210cf77a"
      },
      "execution_count": null,
      "outputs": [
        {
          "output_type": "stream",
          "name": "stdout",
          "text": [
            "Model: \"tf_bert_for_sequence_classification\"\n",
            "_________________________________________________________________\n",
            " Layer (type)                Output Shape              Param #   \n",
            "=================================================================\n",
            " bert (TFBertMainLayer)      multiple                  109482240 \n",
            "                                                                 \n",
            " dropout_37 (Dropout)        multiple                  0 (unused)\n",
            "                                                                 \n",
            " classifier (Dense)          multiple                  1538      \n",
            "                                                                 \n",
            "=================================================================\n",
            "Total params: 109483778 (417.65 MB)\n",
            "Trainable params: 109483778 (417.65 MB)\n",
            "Non-trainable params: 0 (0.00 Byte)\n",
            "_________________________________________________________________\n"
          ]
        }
      ]
    },
    {
      "cell_type": "code",
      "source": [
        "# Обучение модели на тренировочных данных\n",
        "history = model.fit(\n",
        "    [X_train_encoded['input_ids'], X_train_encoded['token_type_ids'],\n",
        "     X_train_encoded['attention_mask']], y_train,  # тренировочные данные\n",
        "    validation_data=([X_val_encoded['input_ids'], X_val_encoded['token_type_ids'],\n",
        "                      X_val_encoded['attention_mask']],y_val),  # проверочные данные\n",
        "    batch_size=32,  # размер выборки\n",
        "    epochs=4)  # количество эпох обучения"
      ],
      "metadata": {
        "id": "lAabdonIirV6",
        "colab": {
          "base_uri": "https://localhost:8080/"
        },
        "outputId": "00bea9d1-b28e-45f9-d62e-4a41132f275d"
      },
      "execution_count": null,
      "outputs": [
        {
          "output_type": "stream",
          "name": "stdout",
          "text": [
            "Epoch 1/4\n",
            "   5/1094 [..............................] - ETA: 22:51:11 - loss: 4.6549 - accuracy: 0.4563"
          ]
        }
      ]
    },
    {
      "cell_type": "code",
      "source": [
        "# Тестирование модели на тестовых данных\n",
        "test_loss, test_accuracy = model.evaluate(\n",
        "    [X_test_encoded['input_ids'], X_test_encoded['token_type_ids'],\n",
        "     X_test_encoded['attention_mask']], y_test)\n",
        "print(f'Потери (loss) на тестовой выборке: {test_loss}, точность (accuracy) на тестовой выборке: {test_accuracy}')"
      ],
      "metadata": {
        "id": "QMVFV_nBirSR"
      },
      "execution_count": null,
      "outputs": []
    },
    {
      "cell_type": "code",
      "source": [
        "# Путь для сохранения модели на Google-Drive\n",
        "model.save_pretrained('/content/Model')"
      ],
      "metadata": {
        "id": "pHaVRMApirOJ"
      },
      "execution_count": null,
      "outputs": []
    },
    {
      "cell_type": "code",
      "source": [
        "# Загрузка токенизатора с Google-диска\n",
        "bert_tokenizer = BertTokenizer.from_pretrained('/content/Tokenizer')\n",
        "\n",
        "# Загрузка модели с Google-Drive\n",
        "bert_model = TFBertForSequenceClassification.from_pretrained('/content/Model')"
      ],
      "metadata": {
        "id": "yX2uhrNwirJ4"
      },
      "execution_count": null,
      "outputs": []
    },
    {
      "cell_type": "code",
      "source": [
        "pred = bert_model.predict(\n",
        "    [X_test_encoded['input_ids'], X_test_encoded['token_type_ids'], X_test_encoded['attention_mask']])\n",
        "\n",
        "# pred is of type TFSequenceClassifierOutput\n",
        "logits = pred.logits\n",
        "\n",
        "# Use argmax along the appropriate axis to get the predicted labels\n",
        "pred_labels = tf.argmax(logits, axis=1)\n",
        "\n",
        "# Convert the predicted labels to a NumPy array\n",
        "pred_labels = pred_labels.numpy()\n",
        "\n",
        "label = {1: 'Положительный', 0: 'Отрицательный'}\n",
        "\n",
        "# Map the predicted labels to their corresponding strings using the label dictionary\n",
        "pred_labels = [label[i] for i in pred_labels]\n",
        "real_labels = [label[i] for i in y_test]\n",
        "\n",
        "print('Предсказанный класс:', pred_labels[:10])\n",
        "print('Реальный класс     :', real_labels[:10])"
      ],
      "metadata": {
        "id": "Xg8468gcHMuq"
      },
      "execution_count": null,
      "outputs": []
    },
    {
      "cell_type": "code",
      "source": [
        "print(\"Classification Report: \\n\", classification_report(real_labels, pred_labels))"
      ],
      "metadata": {
        "id": "d7fdmuzaHMq7"
      },
      "execution_count": null,
      "outputs": []
    },
    {
      "cell_type": "code",
      "source": [
        "def plot_confusion_matrix(cm, classes):\n",
        "    cm = cm.astype('float') / cm.sum(axis=1)[:, np.newaxis]\n",
        "    plt.imshow(cm, interpolation='nearest', cmap='PiYG')\n",
        "    plt.title('Матрица ошибок', fontsize=20, fontweight='light', fontfamily='serif', color='white')\n",
        "    plt.colorbar()\n",
        "    tick_marks = np.arange(len(classes))\n",
        "    plt.xticks(tick_marks, classes, fontsize=15, fontweight='light', fontfamily='serif', color='white')\n",
        "    plt.yticks(tick_marks, classes, fontsize=15, fontweight='light', fontfamily='serif', color='white')\n",
        "    fmt = '.2f'\n",
        "    thresh = cm.max() / 2.\n",
        "    for i, j in itertools.product(range(cm.shape[0]), range(cm.shape[1])):\n",
        "        plt.text(j, i, format(cm[i, j], fmt),\n",
        "                 horizontalalignment=\"center\",\n",
        "                 color=\"white\")\n",
        "\n",
        "    plt.ylabel('Реальный класс', fontsize=18, fontweight='light', fontfamily='serif', color='white')\n",
        "    plt.xlabel('Предсказанный класс', fontsize=18, fontweight='light', fontfamily='serif', color='white')"
      ],
      "metadata": {
        "id": "vNb5lUN41gBu"
      },
      "execution_count": null,
      "outputs": []
    },
    {
      "cell_type": "code",
      "source": [
        "conf_matrix = confusion_matrix(real_labels, pred_labels)\n",
        "plt.figure(figsize=(10,10))\n",
        "plot_confusion_matrix(conf_matrix, classes=y_test.unique())\n",
        "plt.show()"
      ],
      "metadata": {
        "id": "KkJN2Zb21K-G"
      },
      "execution_count": null,
      "outputs": []
    },
    {
      "cell_type": "code",
      "source": [
        "def get_predict(review, Tokenizer=bert_tokenizer, Model=bert_model):\n",
        "    # Convert Review to a list if it's not already a list\n",
        "    if not isinstance(review, list):\n",
        "        review = [review]\n",
        "\n",
        "    Input_ids, Token_type_ids, Attention_mask = Tokenizer.batch_encode_plus(review,\n",
        "                                                                             padding=True,\n",
        "                                                                             truncation=True,\n",
        "                                                                             max_length=128,\n",
        "                                                                             return_tensors='tf').values()\n",
        "    prediction = Model.predict([Input_ids, Token_type_ids, Attention_mask])\n",
        "\n",
        "    # Use argmax along the appropriate axis to get the predicted labels\n",
        "    pred_labels = tf.argmax(prediction.logits, axis=1)\n",
        "\n",
        "    # Convert the TensorFlow tensor to a NumPy array and then to a list to get the predicted sentiment labels\n",
        "    pred_labels = [label[i] for i in pred_labels.numpy().tolist()]\n",
        "    return pred_labels"
      ],
      "metadata": {
        "id": "8p8KZ7SyHPjC"
      },
      "execution_count": null,
      "outputs": []
    },
    {
      "cell_type": "code",
      "source": [
        "review = \"\"\"French film 'Magnificent Trip', released in 2022. It is a very touching film, in which an old lady goes with\n",
        "            a taxi driver to a nursing home. During the trip, she tells the taxi driver about both difficult life situations\n",
        "            and the most memorable moments of the 92-year-old lady's life. The film is worthy of an award, it has only\n",
        "            a few actors, but the level of acting is high, and there are also beautiful views of Paris.\"\"\"\n",
        "get_predict(review)"
      ],
      "metadata": {
        "id": "9lJPCwUVHPgR"
      },
      "execution_count": null,
      "outputs": []
    }
  ]
}