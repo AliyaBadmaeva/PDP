{
  "nbformat": 4,
  "nbformat_minor": 0,
  "metadata": {
    "colab": {
      "provenance": [],
      "gpuType": "T4",
      "authorship_tag": "ABX9TyO2xOdDTsLn+aVWcXPQQcbo",
      "include_colab_link": true
    },
    "kernelspec": {
      "name": "python3",
      "display_name": "Python 3"
    },
    "language_info": {
      "name": "python"
    },
    "accelerator": "GPU"
  },
  "cells": [
    {
      "cell_type": "markdown",
      "metadata": {
        "id": "view-in-github",
        "colab_type": "text"
      },
      "source": [
        "<a href=\"https://colab.research.google.com/github/AliyaBadmaeva/PDP/blob/main/Badmaeva_A_A__PDP.ipynb\" target=\"_parent\"><img src=\"https://colab.research.google.com/assets/colab-badge.svg\" alt=\"Open In Colab\"/></a>"
      ]
    },
    {
      "cell_type": "markdown",
      "source": [],
      "metadata": {
        "id": "zD6rA4UVc7v9"
      }
    },
    {
      "cell_type": "code",
      "source": [
        "import os\n",
        "os.environ['TF_CPP_MIN_LOG_LEVEL'] = '1'"
      ],
      "metadata": {
        "id": "pM6Wr70jQKNk"
      },
      "execution_count": 1,
      "outputs": []
    },
    {
      "cell_type": "code",
      "source": [
        "#!pip install matplotlib"
      ],
      "metadata": {
        "colab": {
          "base_uri": "https://localhost:8080/"
        },
        "id": "kYQXghj0mnWF",
        "outputId": "35dc4f56-58dd-44ce-8ab7-3f28f8167b35"
      },
      "execution_count": null,
      "outputs": [
        {
          "output_type": "stream",
          "name": "stdout",
          "text": [
            "Requirement already satisfied: matplotlib in /home/aliuska/anaconda3/envs/my_pdp/lib/python3.13/site-packages (3.10.0)\r\n",
            "Requirement already satisfied: contourpy>=1.0.1 in /home/aliuska/anaconda3/envs/my_pdp/lib/python3.13/site-packages (from matplotlib) (1.3.1)\r\n",
            "Requirement already satisfied: cycler>=0.10 in /home/aliuska/anaconda3/envs/my_pdp/lib/python3.13/site-packages (from matplotlib) (0.11.0)\r\n",
            "Requirement already satisfied: fonttools>=4.22.0 in /home/aliuska/anaconda3/envs/my_pdp/lib/python3.13/site-packages (from matplotlib) (4.55.3)\r\n",
            "Requirement already satisfied: kiwisolver>=1.3.1 in /home/aliuska/anaconda3/envs/my_pdp/lib/python3.13/site-packages (from matplotlib) (1.4.8)\r\n",
            "Requirement already satisfied: numpy>=1.23 in /home/aliuska/anaconda3/envs/my_pdp/lib/python3.13/site-packages (from matplotlib) (2.2.5)\r\n",
            "Requirement already satisfied: packaging>=20.0 in /home/aliuska/anaconda3/envs/my_pdp/lib/python3.13/site-packages (from matplotlib) (24.2)\r\n",
            "Requirement already satisfied: pillow>=8 in /home/aliuska/anaconda3/envs/my_pdp/lib/python3.13/site-packages (from matplotlib) (11.1.0)\r\n",
            "Requirement already satisfied: pyparsing>=2.3.1 in /home/aliuska/anaconda3/envs/my_pdp/lib/python3.13/site-packages (from matplotlib) (3.2.0)\r\n",
            "Requirement already satisfied: python-dateutil>=2.7 in /home/aliuska/anaconda3/envs/my_pdp/lib/python3.13/site-packages (from matplotlib) (2.9.0.post0)\n",
            "Requirement already satisfied: six>=1.5 in /home/aliuska/anaconda3/envs/my_pdp/lib/python3.13/site-packages (from python-dateutil>=2.7->matplotlib) (1.17.0)\n"
          ]
        }
      ]
    },
    {
      "cell_type": "code",
      "source": [
        "#!pip install scikit-learn"
      ],
      "metadata": {
        "colab": {
          "base_uri": "https://localhost:8080/"
        },
        "id": "sh930bmImx6F",
        "outputId": "09eebbab-d591-445c-cf4c-4c572a1d90ea"
      },
      "execution_count": null,
      "outputs": [
        {
          "output_type": "stream",
          "name": "stdout",
          "text": [
            "Collecting scikit-learn\n",
            "  Downloading scikit_learn-1.7.0-cp313-cp313-manylinux_2_17_x86_64.manylinux2014_x86_64.whl.metadata (17 kB)\n",
            "Requirement already satisfied: numpy>=1.22.0 in /home/aliuska/anaconda3/envs/my_pdp/lib/python3.13/site-packages (from scikit-learn) (2.2.5)\n",
            "Collecting scipy>=1.8.0 (from scikit-learn)\n",
            "  Downloading scipy-1.15.3-cp313-cp313-manylinux_2_17_x86_64.manylinux2014_x86_64.whl.metadata (61 kB)\n",
            "Collecting joblib>=1.2.0 (from scikit-learn)\n",
            "  Using cached joblib-1.5.1-py3-none-any.whl.metadata (5.6 kB)\n",
            "Collecting threadpoolctl>=3.1.0 (from scikit-learn)\n",
            "  Using cached threadpoolctl-3.6.0-py3-none-any.whl.metadata (13 kB)\n",
            "Downloading scikit_learn-1.7.0-cp313-cp313-manylinux_2_17_x86_64.manylinux2014_x86_64.whl (12.5 MB)\n",
            "\u001b[2K   \u001b[90m━━━━━━━━━━━━━━━━━━━━━━━━━━━━━━━━━━━━━━━━\u001b[0m \u001b[32m12.5/12.5 MB\u001b[0m \u001b[31m9.7 MB/s\u001b[0m eta \u001b[36m0:00:00\u001b[0m\n",
            "\u001b[?25hUsing cached joblib-1.5.1-py3-none-any.whl (307 kB)\n",
            "Downloading scipy-1.15.3-cp313-cp313-manylinux_2_17_x86_64.manylinux2014_x86_64.whl (37.3 MB)\n",
            "\u001b[2K   \u001b[90m━━━━━━━━━━━━━━━━━━━━━━━━━━━━━━━━━━━━━━━━\u001b[0m \u001b[32m37.3/37.3 MB\u001b[0m \u001b[31m10.7 MB/s\u001b[0m eta \u001b[36m0:00:00\u001b[0m\n",
            "\u001b[?25hUsing cached threadpoolctl-3.6.0-py3-none-any.whl (18 kB)\n",
            "Installing collected packages: threadpoolctl, scipy, joblib, scikit-learn\n",
            "\u001b[2K   \u001b[90m━━━━━━━━━━━━━━━━━━━━━━━━━━━━━━━━━━━━━━━━\u001b[0m \u001b[32m4/4\u001b[0m [scikit-learn]\n",
            "\u001b[1A\u001b[2KSuccessfully installed joblib-1.5.1 scikit-learn-1.7.0 scipy-1.15.3 threadpoolctl-3.6.0\n"
          ]
        }
      ]
    },
    {
      "cell_type": "code",
      "source": [
        "import os\n",
        "import numpy as np\n",
        "import pandas as pd\n",
        "import matplotlib.pyplot as plt\n",
        "import seaborn as sns\n",
        "from sklearn.model_selection import train_test_split\n",
        "import itertools\n",
        "from sklearn.metrics import confusion_matrix, classification_report, accuracy_score\n",
        "import pandas as pd\n",
        "from sklearn.model_selection import train_test_split\n",
        "from sklearn.metrics import classification_report"
      ],
      "metadata": {
        "id": "wnmW7J50EbwS"
      },
      "execution_count": 2,
      "outputs": []
    },
    {
      "cell_type": "code",
      "source": [
        "!pip show transformers"
      ],
      "metadata": {
        "colab": {
          "base_uri": "https://localhost:8080/"
        },
        "id": "izM0FmeQKQhv",
        "outputId": "d35b0d3d-d836-4863-a8e3-ccc070c9d45f"
      },
      "execution_count": 3,
      "outputs": [
        {
          "output_type": "stream",
          "name": "stdout",
          "text": [
            "Name: transformers\r\n",
            "Version: 4.52.4\r\n",
            "Summary: State-of-the-art Machine Learning for JAX, PyTorch and TensorFlow\r\n",
            "Home-page: https://github.com/huggingface/transformers\r\n",
            "Author: The Hugging Face team (past and future) with the help of all our contributors (https://github.com/huggingface/transformers/graphs/contributors)\r\n",
            "Author-email: transformers@huggingface.co\r\n",
            "License: Apache 2.0 License\r\n",
            "Location: /home/aliuska/anaconda3/envs/my_pdp/lib/python3.13/site-packages\r\n",
            "Requires: filelock, huggingface-hub, numpy, packaging, pyyaml, regex, requests, safetensors, tokenizers, tqdm\r\n",
            "Required-by: \r\n"
          ]
        }
      ]
    },
    {
      "cell_type": "code",
      "source": [
        "from transformers import BertTokenizer\n",
        "from transformers.optimization import get_linear_schedule_with_warmup"
      ],
      "metadata": {
        "id": "wB-QwDzmHMYW"
      },
      "execution_count": 4,
      "outputs": []
    },
    {
      "cell_type": "code",
      "source": [
        "import warnings\n",
        "warnings.filterwarnings('ignore')"
      ],
      "metadata": {
        "id": "QZq0moi5crM8"
      },
      "execution_count": 5,
      "outputs": []
    },
    {
      "cell_type": "code",
      "source": [
        "# ссылка на датасет на Гитхабе\n",
        "#IMDB = 'https://raw.githubusercontent.com/AliyaBadmaeva/imdb/master/IMDB_Dataset.zip'"
      ],
      "metadata": {
        "id": "aJYn6kzFdQjF"
      },
      "execution_count": null,
      "outputs": []
    },
    {
      "cell_type": "code",
      "source": [
        "train = pd.read_csv('train_df.csv')  # чтение данных с помощью библиотеки Pandas\n",
        "test = pd.read_csv('test_df.csv')\n",
        "val = pd.read_csv('val_df.csv')\n",
        "\n",
        "train.head(10)  # Первые 10 строк датасета"
      ],
      "metadata": {
        "colab": {
          "base_uri": "https://localhost:8080/",
          "height": 363
        },
        "id": "UeafEJwNdvVE",
        "outputId": "a8583917-c3a7-472d-be5c-c3b70aea046f"
      },
      "execution_count": 6,
      "outputs": [
        {
          "output_type": "execute_result",
          "data": {
            "text/plain": [
              "      id                                               text  label sentiment\n",
              "0   9536                    Cooking microwave pizzas, yummy      2  positive\n",
              "1   6135  Any plans of allowing sub tasks to show up in ...      1   neutral\n",
              "2  17697   I love the humor, I just reworded it. Like sa...      2  positive\n",
              "3  14182                       naw idk what ur talkin about      1   neutral\n",
              "4  17840          That sucks to hear. I hate days like that      0  negative\n",
              "5   3655   Umm yeah. That`s probably a pretty good note ...      2  positive\n",
              "6    719                              whatever do you mean?      1   neutral\n",
              "7  22823   That would panic me a little!  Maybe you can ...      0  negative\n",
              "8   4869               Is sad when people`s phones are dead      0  negative\n",
              "9    793                                          sad face.      0  negative"
            ],
            "text/html": [
              "<div>\n",
              "<style scoped>\n",
              "    .dataframe tbody tr th:only-of-type {\n",
              "        vertical-align: middle;\n",
              "    }\n",
              "\n",
              "    .dataframe tbody tr th {\n",
              "        vertical-align: top;\n",
              "    }\n",
              "\n",
              "    .dataframe thead th {\n",
              "        text-align: right;\n",
              "    }\n",
              "</style>\n",
              "<table border=\"1\" class=\"dataframe\">\n",
              "  <thead>\n",
              "    <tr style=\"text-align: right;\">\n",
              "      <th></th>\n",
              "      <th>id</th>\n",
              "      <th>text</th>\n",
              "      <th>label</th>\n",
              "      <th>sentiment</th>\n",
              "    </tr>\n",
              "  </thead>\n",
              "  <tbody>\n",
              "    <tr>\n",
              "      <th>0</th>\n",
              "      <td>9536</td>\n",
              "      <td>Cooking microwave pizzas, yummy</td>\n",
              "      <td>2</td>\n",
              "      <td>positive</td>\n",
              "    </tr>\n",
              "    <tr>\n",
              "      <th>1</th>\n",
              "      <td>6135</td>\n",
              "      <td>Any plans of allowing sub tasks to show up in ...</td>\n",
              "      <td>1</td>\n",
              "      <td>neutral</td>\n",
              "    </tr>\n",
              "    <tr>\n",
              "      <th>2</th>\n",
              "      <td>17697</td>\n",
              "      <td>I love the humor, I just reworded it. Like sa...</td>\n",
              "      <td>2</td>\n",
              "      <td>positive</td>\n",
              "    </tr>\n",
              "    <tr>\n",
              "      <th>3</th>\n",
              "      <td>14182</td>\n",
              "      <td>naw idk what ur talkin about</td>\n",
              "      <td>1</td>\n",
              "      <td>neutral</td>\n",
              "    </tr>\n",
              "    <tr>\n",
              "      <th>4</th>\n",
              "      <td>17840</td>\n",
              "      <td>That sucks to hear. I hate days like that</td>\n",
              "      <td>0</td>\n",
              "      <td>negative</td>\n",
              "    </tr>\n",
              "    <tr>\n",
              "      <th>5</th>\n",
              "      <td>3655</td>\n",
              "      <td>Umm yeah. That`s probably a pretty good note ...</td>\n",
              "      <td>2</td>\n",
              "      <td>positive</td>\n",
              "    </tr>\n",
              "    <tr>\n",
              "      <th>6</th>\n",
              "      <td>719</td>\n",
              "      <td>whatever do you mean?</td>\n",
              "      <td>1</td>\n",
              "      <td>neutral</td>\n",
              "    </tr>\n",
              "    <tr>\n",
              "      <th>7</th>\n",
              "      <td>22823</td>\n",
              "      <td>That would panic me a little!  Maybe you can ...</td>\n",
              "      <td>0</td>\n",
              "      <td>negative</td>\n",
              "    </tr>\n",
              "    <tr>\n",
              "      <th>8</th>\n",
              "      <td>4869</td>\n",
              "      <td>Is sad when people`s phones are dead</td>\n",
              "      <td>0</td>\n",
              "      <td>negative</td>\n",
              "    </tr>\n",
              "    <tr>\n",
              "      <th>9</th>\n",
              "      <td>793</td>\n",
              "      <td>sad face.</td>\n",
              "      <td>0</td>\n",
              "      <td>negative</td>\n",
              "    </tr>\n",
              "  </tbody>\n",
              "</table>\n",
              "</div>"
            ]
          },
          "metadata": {},
          "execution_count": 6
        }
      ]
    },
    {
      "cell_type": "code",
      "source": [
        "test.head()"
      ],
      "metadata": {
        "id": "g_BNRKI1Jctp",
        "colab": {
          "base_uri": "https://localhost:8080/",
          "height": 206
        },
        "outputId": "7b4a1bd1-11e7-4df7-aca2-af8de729c202"
      },
      "execution_count": 7,
      "outputs": [
        {
          "output_type": "execute_result",
          "data": {
            "text/plain": [
              "      id                                               text  label sentiment\n",
              "0   9235                         getting cds ready for tour      1   neutral\n",
              "1  16790   MC, happy mother`s day to your mom ;).. love yah      2  positive\n",
              "2  24840  A year from now is graduation....i am pretty s...      0  negative\n",
              "3  20744              because you had chips and sale w/o me      1   neutral\n",
              "4   6414          Great for organising my work life balance      2  positive"
            ],
            "text/html": [
              "<div>\n",
              "<style scoped>\n",
              "    .dataframe tbody tr th:only-of-type {\n",
              "        vertical-align: middle;\n",
              "    }\n",
              "\n",
              "    .dataframe tbody tr th {\n",
              "        vertical-align: top;\n",
              "    }\n",
              "\n",
              "    .dataframe thead th {\n",
              "        text-align: right;\n",
              "    }\n",
              "</style>\n",
              "<table border=\"1\" class=\"dataframe\">\n",
              "  <thead>\n",
              "    <tr style=\"text-align: right;\">\n",
              "      <th></th>\n",
              "      <th>id</th>\n",
              "      <th>text</th>\n",
              "      <th>label</th>\n",
              "      <th>sentiment</th>\n",
              "    </tr>\n",
              "  </thead>\n",
              "  <tbody>\n",
              "    <tr>\n",
              "      <th>0</th>\n",
              "      <td>9235</td>\n",
              "      <td>getting cds ready for tour</td>\n",
              "      <td>1</td>\n",
              "      <td>neutral</td>\n",
              "    </tr>\n",
              "    <tr>\n",
              "      <th>1</th>\n",
              "      <td>16790</td>\n",
              "      <td>MC, happy mother`s day to your mom ;).. love yah</td>\n",
              "      <td>2</td>\n",
              "      <td>positive</td>\n",
              "    </tr>\n",
              "    <tr>\n",
              "      <th>2</th>\n",
              "      <td>24840</td>\n",
              "      <td>A year from now is graduation....i am pretty s...</td>\n",
              "      <td>0</td>\n",
              "      <td>negative</td>\n",
              "    </tr>\n",
              "    <tr>\n",
              "      <th>3</th>\n",
              "      <td>20744</td>\n",
              "      <td>because you had chips and sale w/o me</td>\n",
              "      <td>1</td>\n",
              "      <td>neutral</td>\n",
              "    </tr>\n",
              "    <tr>\n",
              "      <th>4</th>\n",
              "      <td>6414</td>\n",
              "      <td>Great for organising my work life balance</td>\n",
              "      <td>2</td>\n",
              "      <td>positive</td>\n",
              "    </tr>\n",
              "  </tbody>\n",
              "</table>\n",
              "</div>"
            ]
          },
          "metadata": {},
          "execution_count": 7
        }
      ]
    },
    {
      "cell_type": "code",
      "source": [
        "val.head()"
      ],
      "metadata": {
        "colab": {
          "base_uri": "https://localhost:8080/",
          "height": 206
        },
        "id": "hWYj-qWLsjJW",
        "outputId": "f4d90d04-33ae-4598-e0af-14947a6901e1"
      },
      "execution_count": 8,
      "outputs": [
        {
          "output_type": "execute_result",
          "data": {
            "text/plain": [
              "      id                                               text  label sentiment\n",
              "0    317  Laying in bed til workkk... Oh the life. Defin...      0  negative\n",
              "1  24292   ooohhh imma need you to get on that asap love...      2  positive\n",
              "2   3513   Thanks! I love it they have a video, so you d...      2  positive\n",
              "3   4322     I left my ipod in the car so now its all warm.      2  positive\n",
              "4   6203  Great app. Only complaint is that I'd like the...      2  positive"
            ],
            "text/html": [
              "<div>\n",
              "<style scoped>\n",
              "    .dataframe tbody tr th:only-of-type {\n",
              "        vertical-align: middle;\n",
              "    }\n",
              "\n",
              "    .dataframe tbody tr th {\n",
              "        vertical-align: top;\n",
              "    }\n",
              "\n",
              "    .dataframe thead th {\n",
              "        text-align: right;\n",
              "    }\n",
              "</style>\n",
              "<table border=\"1\" class=\"dataframe\">\n",
              "  <thead>\n",
              "    <tr style=\"text-align: right;\">\n",
              "      <th></th>\n",
              "      <th>id</th>\n",
              "      <th>text</th>\n",
              "      <th>label</th>\n",
              "      <th>sentiment</th>\n",
              "    </tr>\n",
              "  </thead>\n",
              "  <tbody>\n",
              "    <tr>\n",
              "      <th>0</th>\n",
              "      <td>317</td>\n",
              "      <td>Laying in bed til workkk... Oh the life. Defin...</td>\n",
              "      <td>0</td>\n",
              "      <td>negative</td>\n",
              "    </tr>\n",
              "    <tr>\n",
              "      <th>1</th>\n",
              "      <td>24292</td>\n",
              "      <td>ooohhh imma need you to get on that asap love...</td>\n",
              "      <td>2</td>\n",
              "      <td>positive</td>\n",
              "    </tr>\n",
              "    <tr>\n",
              "      <th>2</th>\n",
              "      <td>3513</td>\n",
              "      <td>Thanks! I love it they have a video, so you d...</td>\n",
              "      <td>2</td>\n",
              "      <td>positive</td>\n",
              "    </tr>\n",
              "    <tr>\n",
              "      <th>3</th>\n",
              "      <td>4322</td>\n",
              "      <td>I left my ipod in the car so now its all warm.</td>\n",
              "      <td>2</td>\n",
              "      <td>positive</td>\n",
              "    </tr>\n",
              "    <tr>\n",
              "      <th>4</th>\n",
              "      <td>6203</td>\n",
              "      <td>Great app. Only complaint is that I'd like the...</td>\n",
              "      <td>2</td>\n",
              "      <td>positive</td>\n",
              "    </tr>\n",
              "  </tbody>\n",
              "</table>\n",
              "</div>"
            ]
          },
          "metadata": {},
          "execution_count": 8
        }
      ]
    },
    {
      "cell_type": "code",
      "source": [
        "train.info()  # типы данных для каждого их признаков и количество строк"
      ],
      "metadata": {
        "colab": {
          "base_uri": "https://localhost:8080/"
        },
        "id": "rhmzdQWNd6-M",
        "outputId": "e13fa472-c68b-4725-d999-28cccbef2e19"
      },
      "execution_count": 9,
      "outputs": [
        {
          "output_type": "stream",
          "name": "stdout",
          "text": [
            "<class 'pandas.core.frame.DataFrame'>\n",
            "RangeIndex: 31232 entries, 0 to 31231\n",
            "Data columns (total 4 columns):\n",
            " #   Column     Non-Null Count  Dtype \n",
            "---  ------     --------------  ----- \n",
            " 0   id         31232 non-null  int64 \n",
            " 1   text       31232 non-null  object\n",
            " 2   label      31232 non-null  int64 \n",
            " 3   sentiment  31232 non-null  object\n",
            "dtypes: int64(2), object(2)\n",
            "memory usage: 976.1+ KB\n"
          ]
        }
      ]
    },
    {
      "cell_type": "code",
      "source": [
        "test.info()"
      ],
      "metadata": {
        "colab": {
          "base_uri": "https://localhost:8080/"
        },
        "id": "VxV4sWvust5e",
        "outputId": "cb5c35d1-bd44-474a-f8ff-2ad76e3560d7"
      },
      "execution_count": 10,
      "outputs": [
        {
          "output_type": "stream",
          "name": "stdout",
          "text": [
            "<class 'pandas.core.frame.DataFrame'>\n",
            "RangeIndex: 5206 entries, 0 to 5205\n",
            "Data columns (total 4 columns):\n",
            " #   Column     Non-Null Count  Dtype \n",
            "---  ------     --------------  ----- \n",
            " 0   id         5206 non-null   int64 \n",
            " 1   text       5205 non-null   object\n",
            " 2   label      5206 non-null   int64 \n",
            " 3   sentiment  5206 non-null   object\n",
            "dtypes: int64(2), object(2)\n",
            "memory usage: 162.8+ KB\n"
          ]
        }
      ]
    },
    {
      "cell_type": "code",
      "source": [
        "val.info()"
      ],
      "metadata": {
        "colab": {
          "base_uri": "https://localhost:8080/"
        },
        "id": "_O2MgFOEsxeu",
        "outputId": "cedcca12-0fd5-40cd-cb02-e37251bce1f2"
      },
      "execution_count": 11,
      "outputs": [
        {
          "output_type": "stream",
          "name": "stdout",
          "text": [
            "<class 'pandas.core.frame.DataFrame'>\n",
            "RangeIndex: 5205 entries, 0 to 5204\n",
            "Data columns (total 4 columns):\n",
            " #   Column     Non-Null Count  Dtype \n",
            "---  ------     --------------  ----- \n",
            " 0   id         5205 non-null   int64 \n",
            " 1   text       5205 non-null   object\n",
            " 2   label      5205 non-null   int64 \n",
            " 3   sentiment  5205 non-null   object\n",
            "dtypes: int64(2), object(2)\n",
            "memory usage: 162.8+ KB\n"
          ]
        }
      ]
    },
    {
      "cell_type": "code",
      "source": [
        "train.describe()  # статистические данные"
      ],
      "metadata": {
        "colab": {
          "base_uri": "https://localhost:8080/",
          "height": 300
        },
        "id": "bUpyUM0Se2ll",
        "outputId": "0e8d14a9-fd50-485c-f265-477ce40dcb23"
      },
      "execution_count": 12,
      "outputs": [
        {
          "output_type": "execute_result",
          "data": {
            "text/plain": [
              "                 id         label\n",
              "count  31232.000000  31232.000000\n",
              "mean   10576.775359      1.043961\n",
              "std     8010.753795      0.790636\n",
              "min        0.000000      0.000000\n",
              "25%     3476.000000      0.000000\n",
              "50%     8662.000000      1.000000\n",
              "75%    17071.500000      2.000000\n",
              "max    27480.000000      2.000000"
            ],
            "text/html": [
              "<div>\n",
              "<style scoped>\n",
              "    .dataframe tbody tr th:only-of-type {\n",
              "        vertical-align: middle;\n",
              "    }\n",
              "\n",
              "    .dataframe tbody tr th {\n",
              "        vertical-align: top;\n",
              "    }\n",
              "\n",
              "    .dataframe thead th {\n",
              "        text-align: right;\n",
              "    }\n",
              "</style>\n",
              "<table border=\"1\" class=\"dataframe\">\n",
              "  <thead>\n",
              "    <tr style=\"text-align: right;\">\n",
              "      <th></th>\n",
              "      <th>id</th>\n",
              "      <th>label</th>\n",
              "    </tr>\n",
              "  </thead>\n",
              "  <tbody>\n",
              "    <tr>\n",
              "      <th>count</th>\n",
              "      <td>31232.000000</td>\n",
              "      <td>31232.000000</td>\n",
              "    </tr>\n",
              "    <tr>\n",
              "      <th>mean</th>\n",
              "      <td>10576.775359</td>\n",
              "      <td>1.043961</td>\n",
              "    </tr>\n",
              "    <tr>\n",
              "      <th>std</th>\n",
              "      <td>8010.753795</td>\n",
              "      <td>0.790636</td>\n",
              "    </tr>\n",
              "    <tr>\n",
              "      <th>min</th>\n",
              "      <td>0.000000</td>\n",
              "      <td>0.000000</td>\n",
              "    </tr>\n",
              "    <tr>\n",
              "      <th>25%</th>\n",
              "      <td>3476.000000</td>\n",
              "      <td>0.000000</td>\n",
              "    </tr>\n",
              "    <tr>\n",
              "      <th>50%</th>\n",
              "      <td>8662.000000</td>\n",
              "      <td>1.000000</td>\n",
              "    </tr>\n",
              "    <tr>\n",
              "      <th>75%</th>\n",
              "      <td>17071.500000</td>\n",
              "      <td>2.000000</td>\n",
              "    </tr>\n",
              "    <tr>\n",
              "      <th>max</th>\n",
              "      <td>27480.000000</td>\n",
              "      <td>2.000000</td>\n",
              "    </tr>\n",
              "  </tbody>\n",
              "</table>\n",
              "</div>"
            ]
          },
          "metadata": {},
          "execution_count": 12
        }
      ]
    },
    {
      "cell_type": "code",
      "source": [
        "train['label'].value_counts()  # количество данных в целевом признаке"
      ],
      "metadata": {
        "colab": {
          "base_uri": "https://localhost:8080/"
        },
        "id": "P4RwAzAifDPO",
        "outputId": "f51955af-fa7a-487b-8d71-2c209dd9576a"
      },
      "execution_count": 13,
      "outputs": [
        {
          "output_type": "execute_result",
          "data": {
            "text/plain": [
              "label\n",
              "1    11649\n",
              "2    10478\n",
              "0     9105\n",
              "Name: count, dtype: int64"
            ]
          },
          "metadata": {},
          "execution_count": 13
        }
      ]
    },
    {
      "cell_type": "code",
      "source": [
        "test['label'].value_counts()"
      ],
      "metadata": {
        "colab": {
          "base_uri": "https://localhost:8080/"
        },
        "id": "jMoyTLAns9kF",
        "outputId": "4069ff7d-330e-401f-ceff-0cf5e2a3d261"
      },
      "execution_count": 14,
      "outputs": [
        {
          "output_type": "execute_result",
          "data": {
            "text/plain": [
              "label\n",
              "1    1930\n",
              "2    1730\n",
              "0    1546\n",
              "Name: count, dtype: int64"
            ]
          },
          "metadata": {},
          "execution_count": 14
        }
      ]
    },
    {
      "cell_type": "code",
      "source": [
        "val['label'].value_counts()"
      ],
      "metadata": {
        "colab": {
          "base_uri": "https://localhost:8080/"
        },
        "id": "AoiFMi0etCOX",
        "outputId": "a8051cc5-d20a-4360-e657-4e47f431b565"
      },
      "execution_count": 15,
      "outputs": [
        {
          "output_type": "execute_result",
          "data": {
            "text/plain": [
              "label\n",
              "1    1928\n",
              "2    1760\n",
              "0    1517\n",
              "Name: count, dtype: int64"
            ]
          },
          "metadata": {},
          "execution_count": 15
        }
      ]
    },
    {
      "cell_type": "code",
      "source": [
        "# удалим нулевые значения по наличию в одном из 2х столбцах, чтобы не было потом проблем с созданием тензоров из списка строк\n",
        "val.dropna(axis=0, how='any', subset=['text', 'label'], inplace=True)\n",
        "train.dropna(axis=0, how='any',subset=['text', 'label'], inplace=True)\n",
        "test.dropna(axis=0, how='any', subset=['text', 'label'], inplace=True)"
      ],
      "metadata": {
        "id": "qOSExQyw608Q"
      },
      "execution_count": 16,
      "outputs": []
    },
    {
      "cell_type": "code",
      "source": [
        "train.info()"
      ],
      "metadata": {
        "colab": {
          "base_uri": "https://localhost:8080/"
        },
        "id": "urxHjqSk7Qjm",
        "outputId": "cd4aca0d-405b-4bcf-fa83-1c2e01461e5d"
      },
      "execution_count": 17,
      "outputs": [
        {
          "output_type": "stream",
          "name": "stdout",
          "text": [
            "<class 'pandas.core.frame.DataFrame'>\n",
            "RangeIndex: 31232 entries, 0 to 31231\n",
            "Data columns (total 4 columns):\n",
            " #   Column     Non-Null Count  Dtype \n",
            "---  ------     --------------  ----- \n",
            " 0   id         31232 non-null  int64 \n",
            " 1   text       31232 non-null  object\n",
            " 2   label      31232 non-null  int64 \n",
            " 3   sentiment  31232 non-null  object\n",
            "dtypes: int64(2), object(2)\n",
            "memory usage: 976.1+ KB\n"
          ]
        }
      ]
    },
    {
      "cell_type": "code",
      "source": [
        "test.info()"
      ],
      "metadata": {
        "colab": {
          "base_uri": "https://localhost:8080/"
        },
        "id": "0mBPGvkQ7Vid",
        "outputId": "3fb39ed4-9c0a-49fa-fd6f-93a8b11ea9cf"
      },
      "execution_count": 18,
      "outputs": [
        {
          "output_type": "stream",
          "name": "stdout",
          "text": [
            "<class 'pandas.core.frame.DataFrame'>\n",
            "Index: 5205 entries, 0 to 5205\n",
            "Data columns (total 4 columns):\n",
            " #   Column     Non-Null Count  Dtype \n",
            "---  ------     --------------  ----- \n",
            " 0   id         5205 non-null   int64 \n",
            " 1   text       5205 non-null   object\n",
            " 2   label      5205 non-null   int64 \n",
            " 3   sentiment  5205 non-null   object\n",
            "dtypes: int64(2), object(2)\n",
            "memory usage: 203.3+ KB\n"
          ]
        }
      ]
    },
    {
      "cell_type": "code",
      "source": [
        "val.info()"
      ],
      "metadata": {
        "colab": {
          "base_uri": "https://localhost:8080/"
        },
        "id": "WTCshp1X7Z6e",
        "outputId": "16be40ca-f915-42b2-c84d-da60545a4dc8"
      },
      "execution_count": 19,
      "outputs": [
        {
          "output_type": "stream",
          "name": "stdout",
          "text": [
            "<class 'pandas.core.frame.DataFrame'>\n",
            "RangeIndex: 5205 entries, 0 to 5204\n",
            "Data columns (total 4 columns):\n",
            " #   Column     Non-Null Count  Dtype \n",
            "---  ------     --------------  ----- \n",
            " 0   id         5205 non-null   int64 \n",
            " 1   text       5205 non-null   object\n",
            " 2   label      5205 non-null   int64 \n",
            " 3   sentiment  5205 non-null   object\n",
            "dtypes: int64(2), object(2)\n",
            "memory usage: 162.8+ KB\n"
          ]
        }
      ]
    },
    {
      "cell_type": "code",
      "source": [
        "train.duplicated().sum()  # количество дублей"
      ],
      "metadata": {
        "colab": {
          "base_uri": "https://localhost:8080/"
        },
        "id": "vKr7a2JJfNLm",
        "outputId": "7c59a414-1a20-42f4-c9ba-67a43af2be23"
      },
      "execution_count": 20,
      "outputs": [
        {
          "output_type": "execute_result",
          "data": {
            "text/plain": [
              "np.int64(0)"
            ]
          },
          "metadata": {},
          "execution_count": 20
        }
      ]
    },
    {
      "cell_type": "code",
      "source": [
        "test.duplicated().sum()  # количество дублей"
      ],
      "metadata": {
        "colab": {
          "base_uri": "https://localhost:8080/"
        },
        "id": "veswEd3PtEEN",
        "outputId": "8356f6bb-3cf8-4bab-83bb-f27ec75a3175"
      },
      "execution_count": 21,
      "outputs": [
        {
          "output_type": "execute_result",
          "data": {
            "text/plain": [
              "np.int64(0)"
            ]
          },
          "metadata": {},
          "execution_count": 21
        }
      ]
    },
    {
      "cell_type": "code",
      "source": [
        "val.duplicated().sum()  # количество дублей"
      ],
      "metadata": {
        "colab": {
          "base_uri": "https://localhost:8080/"
        },
        "id": "5Dy2xeDUtHTO",
        "outputId": "894963a7-277b-4cc6-ab2e-c00341ee8d96"
      },
      "execution_count": 22,
      "outputs": [
        {
          "output_type": "execute_result",
          "data": {
            "text/plain": [
              "np.int64(0)"
            ]
          },
          "metadata": {},
          "execution_count": 22
        }
      ]
    },
    {
      "cell_type": "code",
      "source": [
        "'''!pip install --upgrade nbformat\n",
        "!pip install --upgrade nbconvert'''"
      ],
      "metadata": {
        "colab": {
          "base_uri": "https://localhost:8080/"
        },
        "id": "juRfJ8AnnQ_g",
        "outputId": "8f016134-4e8f-4143-80d2-b158b9e99b68"
      },
      "execution_count": null,
      "outputs": [
        {
          "output_type": "execute_result",
          "data": {
            "text/plain": [
              "'!pip install --upgrade nbformat\\n!pip install --upgrade nbconvert'"
            ]
          },
          "metadata": {},
          "execution_count": 36
        }
      ]
    },
    {
      "cell_type": "code",
      "source": [
        "train.drop(['id','sentiment'],axis=1,inplace=True)\n",
        "test.drop(['id','sentiment'],axis=1,inplace=True)\n",
        "val.drop(['id','sentiment'],axis=1,inplace=True)"
      ],
      "metadata": {
        "id": "wqzN8hQtx2gR"
      },
      "execution_count": 23,
      "outputs": []
    },
    {
      "cell_type": "code",
      "source": [
        "train_rev = [len(t.split()) for t in train['text']]\n",
        "plt.hist(train_rev, bins=20)"
      ],
      "metadata": {
        "id": "K-DBTuSsZPmr",
        "colab": {
          "base_uri": "https://localhost:8080/",
          "height": 569
        },
        "outputId": "4cb793fb-0166-4851-e4a4-11645c36bc97"
      },
      "execution_count": 24,
      "outputs": [
        {
          "output_type": "execute_result",
          "data": {
            "text/plain": [
              "(array([2.2604e+04, 6.0550e+03, 1.1560e+03, 6.4400e+02, 6.5400e+02,\n",
              "        6.8000e+01, 2.4000e+01, 8.0000e+00, 8.0000e+00, 7.0000e+00,\n",
              "        2.0000e+00, 0.0000e+00, 0.0000e+00, 0.0000e+00, 0.0000e+00,\n",
              "        0.0000e+00, 0.0000e+00, 1.0000e+00, 0.0000e+00, 1.0000e+00]),\n",
              " array([  1. ,  20.5,  40. ,  59.5,  79. ,  98.5, 118. , 137.5, 157. ,\n",
              "        176.5, 196. , 215.5, 235. , 254.5, 274. , 293.5, 313. , 332.5,\n",
              "        352. , 371.5, 391. ]),\n",
              " <BarContainer object of 20 artists>)"
            ]
          },
          "metadata": {},
          "execution_count": 24
        },
        {
          "output_type": "display_data",
          "data": {
            "text/plain": [
              "<Figure size 640x480 with 1 Axes>"
            ],
            "image/png": "[encoded data removed]"
          },
          "metadata": {}
        }
      ]
    },
    {
      "cell_type": "code",
      "source": [
        "from transformers import BertForSequenceClassification"
      ],
      "metadata": {
        "id": "RcaWUbxpvIb9"
      },
      "execution_count": 25,
      "outputs": []
    },
    {
      "cell_type": "code",
      "source": [
        "# Reload it with the huggingface tokenizers library\n",
        "tokenizer = BertTokenizer.from_pretrained('bert-base-multilingual-cased', lowercase=False)\n",
        "tokenizer.save_pretrained('.')"
      ],
      "metadata": {
        "colab": {
          "base_uri": "https://localhost:8080/"
        },
        "id": "Bfzkdd_ax2cn",
        "outputId": "22bff12a-8627-48d1-fcf9-49b056605950"
      },
      "execution_count": 26,
      "outputs": [
        {
          "output_type": "execute_result",
          "data": {
            "text/plain": [
              "('./tokenizer_config.json',\n",
              " './special_tokens_map.json',\n",
              " './vocab.txt',\n",
              " './added_tokens.json')"
            ]
          },
          "metadata": {},
          "execution_count": 26
        }
      ]
    },
    {
      "cell_type": "code",
      "source": [
        "X_train = train.text\n",
        "X_test = test.text\n",
        "X_val = val.text\n",
        "\n",
        "y_train = train.label\n",
        "y_test = test.label\n",
        "y_val = val.label"
      ],
      "metadata": {
        "id": "sq2Dm-Hx25Ie"
      },
      "execution_count": 27,
      "outputs": []
    },
    {
      "cell_type": "code",
      "source": [
        "MAX_LEN = 128"
      ],
      "metadata": {
        "id": "0C5Q6OJA1WgN"
      },
      "execution_count": 28,
      "outputs": []
    },
    {
      "cell_type": "code",
      "source": [
        "import torch\n",
        "encodings_train = tokenizer(X_train.tolist(), truncation=True, padding=True, max_length=MAX_LEN, return_tensors='pt')\n",
        "encodings_val = tokenizer(X_val.tolist(), truncation=True, padding=True, max_length=MAX_LEN, return_tensors='pt')\n",
        "encodings_test = tokenizer(X_test.tolist(), truncation=True, padding=True, max_length=MAX_LEN, return_tensors='pt')\n",
        "\n",
        "'''labels_tensor_train = torch.tensor(y_train.tolist())\n",
        "labels_tensor_val = torch.tensor(y_val.tolist())\n",
        "labels_tensor_test = torch.tensor(y_test.tolist())'''\n",
        "\n",
        "class NewsDataset(torch.utils.data.Dataset):\n",
        "    def __init__(self, encodings, labels):\n",
        "        self.encodings = encodings\n",
        "        self.labels = labels\n",
        "\n",
        "    def __getitem__(self, idx):\n",
        "        item = {k: torch.tensor(v[idx]) for k, v in self.encodings.items()}\n",
        "        item[\"labels\"] = torch.tensor([self.labels[idx]])\n",
        "        return item\n",
        "\n",
        "    def __len__(self):\n",
        "        return len(self.labels)\n",
        "\n",
        "# convert our tokenized data into a torch Dataset\n",
        "train_ds = NewsDataset(encodings_train, y_train)\n",
        "valid_ds = NewsDataset(encodings_val, y_val)\n",
        "test_ds = NewsDataset(encodings_test, y_test)\n"
      ],
      "metadata": {
        "id": "fTjVjtCf1Nt1"
      },
      "execution_count": 29,
      "outputs": []
    },
    {
      "cell_type": "code",
      "source": [
        "train_ds"
      ],
      "metadata": {
        "colab": {
          "base_uri": "https://localhost:8080/"
        },
        "id": "Lq7-EoaA5NGG",
        "outputId": "364f59ad-7825-4410-84f4-e44b6c5218e9"
      },
      "execution_count": 30,
      "outputs": [
        {
          "output_type": "execute_result",
          "data": {
            "text/plain": [
              "<__main__.NewsDataset at 0x75c40fcbbcb0>"
            ]
          },
          "metadata": {},
          "execution_count": 30
        }
      ]
    },
    {
      "cell_type": "code",
      "source": [
        "from transformers import Trainer, TrainingArguments"
      ],
      "metadata": {
        "id": "qLAuj59k5XpX"
      },
      "execution_count": 31,
      "outputs": []
    },
    {
      "cell_type": "code",
      "source": [
        "model = BertForSequenceClassification.from_pretrained('bert-base-multilingual-cased', num_labels=3)"
      ],
      "metadata": {
        "colab": {
          "base_uri": "https://localhost:8080/"
        },
        "id": "vVWYaGXFBlGk",
        "outputId": "d0ecaf47-baaa-4d09-92e5-002e36d35f76"
      },
      "execution_count": 40,
      "outputs": [
        {
          "output_type": "stream",
          "name": "stderr",
          "text": [
            "Some weights of BertForSequenceClassification were not initialized from the model checkpoint at bert-base-multilingual-cased and are newly initialized: ['classifier.bias', 'classifier.weight']\n",
            "You should probably TRAIN this model on a down-stream task to be able to use it for predictions and inference.\n"
          ]
        }
      ]
    },
    {
      "cell_type": "code",
      "source": [
        " # !pip install 'accelerate>=0.26.0'"
      ],
      "metadata": {
        "id": "3FLbMIthJUag",
        "colab": {
          "base_uri": "https://localhost:8080/"
        },
        "outputId": "1d314f63-0d66-44ff-d31f-3cf6f18e40a7"
      },
      "execution_count": null,
      "outputs": [
        {
          "output_type": "stream",
          "name": "stdout",
          "text": [
            "Requirement already satisfied: accelerate>=0.26.0 in /home/aliuska/anaconda3/envs/my_pdp/lib/python3.13/site-packages (1.7.0)\r\n",
            "Requirement already satisfied: numpy<3.0.0,>=1.17 in /home/aliuska/anaconda3/envs/my_pdp/lib/python3.13/site-packages (from accelerate>=0.26.0) (2.2.5)\r\n",
            "Requirement already satisfied: packaging>=20.0 in /home/aliuska/anaconda3/envs/my_pdp/lib/python3.13/site-packages (from accelerate>=0.26.0) (24.2)\r\n",
            "Requirement already satisfied: psutil in /home/aliuska/anaconda3/envs/my_pdp/lib/python3.13/site-packages (from accelerate>=0.26.0) (5.9.0)\r\n",
            "Requirement already satisfied: pyyaml in /home/aliuska/anaconda3/envs/my_pdp/lib/python3.13/site-packages (from accelerate>=0.26.0) (6.0.2)\r\n",
            "Requirement already satisfied: torch>=2.0.0 in /home/aliuska/anaconda3/envs/my_pdp/lib/python3.13/site-packages (from accelerate>=0.26.0) (2.7.1)\r\n",
            "Requirement already satisfied: huggingface-hub>=0.21.0 in /home/aliuska/anaconda3/envs/my_pdp/lib/python3.13/site-packages (from accelerate>=0.26.0) (0.33.0)\r\n",
            "Requirement already satisfied: safetensors>=0.4.3 in /home/aliuska/anaconda3/envs/my_pdp/lib/python3.13/site-packages (from accelerate>=0.26.0) (0.5.3)\r\n",
            "Requirement already satisfied: filelock in /home/aliuska/anaconda3/envs/my_pdp/lib/python3.13/site-packages (from huggingface-hub>=0.21.0->accelerate>=0.26.0) (3.18.0)\r\n",
            "Requirement already satisfied: fsspec>=2023.5.0 in /home/aliuska/anaconda3/envs/my_pdp/lib/python3.13/site-packages (from huggingface-hub>=0.21.0->accelerate>=0.26.0) (2025.5.1)\r\n",
            "Requirement already satisfied: requests in /home/aliuska/anaconda3/envs/my_pdp/lib/python3.13/site-packages (from huggingface-hub>=0.21.0->accelerate>=0.26.0) (2.32.4)\r\n",
            "Requirement already satisfied: tqdm>=4.42.1 in /home/aliuska/anaconda3/envs/my_pdp/lib/python3.13/site-packages (from huggingface-hub>=0.21.0->accelerate>=0.26.0) (4.67.1)\r\n",
            "Requirement already satisfied: typing-extensions>=3.7.4.3 in /home/aliuska/anaconda3/envs/my_pdp/lib/python3.13/site-packages (from huggingface-hub>=0.21.0->accelerate>=0.26.0) (4.14.0)\r\n",
            "Requirement already satisfied: hf-xet<2.0.0,>=1.1.2 in /home/aliuska/anaconda3/envs/my_pdp/lib/python3.13/site-packages (from huggingface-hub>=0.21.0->accelerate>=0.26.0) (1.1.3)\r\n",
            "Requirement already satisfied: setuptools in /home/aliuska/anaconda3/envs/my_pdp/lib/python3.13/site-packages (from torch>=2.0.0->accelerate>=0.26.0) (72.1.0)\r\n",
            "Requirement already satisfied: sympy>=1.13.3 in /home/aliuska/anaconda3/envs/my_pdp/lib/python3.13/site-packages (from torch>=2.0.0->accelerate>=0.26.0) (1.14.0)\r\n",
            "Requirement already satisfied: networkx in /home/aliuska/anaconda3/envs/my_pdp/lib/python3.13/site-packages (from torch>=2.0.0->accelerate>=0.26.0) (3.5)\r\n",
            "Requirement already satisfied: jinja2 in /home/aliuska/anaconda3/envs/my_pdp/lib/python3.13/site-packages (from torch>=2.0.0->accelerate>=0.26.0) (3.1.6)\r\n",
            "Requirement already satisfied: nvidia-cuda-nvrtc-cu12==12.6.77 in /home/aliuska/anaconda3/envs/my_pdp/lib/python3.13/site-packages (from torch>=2.0.0->accelerate>=0.26.0) (12.6.77)\r\n",
            "Requirement already satisfied: nvidia-cuda-runtime-cu12==12.6.77 in /home/aliuska/anaconda3/envs/my_pdp/lib/python3.13/site-packages (from torch>=2.0.0->accelerate>=0.26.0) (12.6.77)\n",
            "Requirement already satisfied: nvidia-cuda-cupti-cu12==12.6.80 in /home/aliuska/anaconda3/envs/my_pdp/lib/python3.13/site-packages (from torch>=2.0.0->accelerate>=0.26.0) (12.6.80)\n",
            "Requirement already satisfied: nvidia-cudnn-cu12==9.5.1.17 in /home/aliuska/anaconda3/envs/my_pdp/lib/python3.13/site-packages (from torch>=2.0.0->accelerate>=0.26.0) (9.5.1.17)\n",
            "Requirement already satisfied: nvidia-cublas-cu12==12.6.4.1 in /home/aliuska/anaconda3/envs/my_pdp/lib/python3.13/site-packages (from torch>=2.0.0->accelerate>=0.26.0) (12.6.4.1)\n",
            "Requirement already satisfied: nvidia-cufft-cu12==11.3.0.4 in /home/aliuska/anaconda3/envs/my_pdp/lib/python3.13/site-packages (from torch>=2.0.0->accelerate>=0.26.0) (11.3.0.4)\n",
            "Requirement already satisfied: nvidia-curand-cu12==10.3.7.77 in /home/aliuska/anaconda3/envs/my_pdp/lib/python3.13/site-packages (from torch>=2.0.0->accelerate>=0.26.0) (10.3.7.77)\n",
            "Requirement already satisfied: nvidia-cusolver-cu12==11.7.1.2 in /home/aliuska/anaconda3/envs/my_pdp/lib/python3.13/site-packages (from torch>=2.0.0->accelerate>=0.26.0) (11.7.1.2)\n",
            "Requirement already satisfied: nvidia-cusparse-cu12==12.5.4.2 in /home/aliuska/anaconda3/envs/my_pdp/lib/python3.13/site-packages (from torch>=2.0.0->accelerate>=0.26.0) (12.5.4.2)\n",
            "Requirement already satisfied: nvidia-cusparselt-cu12==0.6.3 in /home/aliuska/anaconda3/envs/my_pdp/lib/python3.13/site-packages (from torch>=2.0.0->accelerate>=0.26.0) (0.6.3)\n",
            "Requirement already satisfied: nvidia-nccl-cu12==2.26.2 in /home/aliuska/anaconda3/envs/my_pdp/lib/python3.13/site-packages (from torch>=2.0.0->accelerate>=0.26.0) (2.26.2)\n",
            "Requirement already satisfied: nvidia-nvtx-cu12==12.6.77 in /home/aliuska/anaconda3/envs/my_pdp/lib/python3.13/site-packages (from torch>=2.0.0->accelerate>=0.26.0) (12.6.77)\n",
            "Requirement already satisfied: nvidia-nvjitlink-cu12==12.6.85 in /home/aliuska/anaconda3/envs/my_pdp/lib/python3.13/site-packages (from torch>=2.0.0->accelerate>=0.26.0) (12.6.85)\n",
            "Requirement already satisfied: nvidia-cufile-cu12==1.11.1.6 in /home/aliuska/anaconda3/envs/my_pdp/lib/python3.13/site-packages (from torch>=2.0.0->accelerate>=0.26.0) (1.11.1.6)\n",
            "Requirement already satisfied: triton==3.3.1 in /home/aliuska/anaconda3/envs/my_pdp/lib/python3.13/site-packages (from torch>=2.0.0->accelerate>=0.26.0) (3.3.1)\n",
            "Requirement already satisfied: mpmath<1.4,>=1.1.0 in /home/aliuska/anaconda3/envs/my_pdp/lib/python3.13/site-packages (from sympy>=1.13.3->torch>=2.0.0->accelerate>=0.26.0) (1.3.0)\n",
            "Requirement already satisfied: MarkupSafe>=2.0 in /home/aliuska/anaconda3/envs/my_pdp/lib/python3.13/site-packages (from jinja2->torch>=2.0.0->accelerate>=0.26.0) (3.0.2)\n",
            "Requirement already satisfied: charset_normalizer<4,>=2 in /home/aliuska/anaconda3/envs/my_pdp/lib/python3.13/site-packages (from requests->huggingface-hub>=0.21.0->accelerate>=0.26.0) (3.4.2)\n",
            "Requirement already satisfied: idna<4,>=2.5 in /home/aliuska/anaconda3/envs/my_pdp/lib/python3.13/site-packages (from requests->huggingface-hub>=0.21.0->accelerate>=0.26.0) (3.10)\n",
            "Requirement already satisfied: urllib3<3,>=1.21.1 in /home/aliuska/anaconda3/envs/my_pdp/lib/python3.13/site-packages (from requests->huggingface-hub>=0.21.0->accelerate>=0.26.0) (2.4.0)\n",
            "Requirement already satisfied: certifi>=2017.4.17 in /home/aliuska/anaconda3/envs/my_pdp/lib/python3.13/site-packages (from requests->huggingface-hub>=0.21.0->accelerate>=0.26.0) (2025.4.26)\n"
          ]
        }
      ]
    },
    {
      "cell_type": "code",
      "source": [
        "# ! pip install transformers[torch]"
      ],
      "metadata": {
        "id": "5wSyjPN0JdTn"
      },
      "execution_count": null,
      "outputs": []
    },
    {
      "cell_type": "code",
      "source": [
        "from sklearn.metrics import accuracy_score, precision_score\n",
        "\n",
        "def compute_metrics(pred):\n",
        "  labels = pred.label_ids\n",
        "  preds = pred.predictions.argmax(-1)\n",
        "  # calculate accuracy using sklearn's function\n",
        "  acc = accuracy_score(labels, preds)\n",
        "  prec = precision_score(labels, preds)\n",
        "  return {\n",
        "      'accuracy': acc,\n",
        "      'precision': prec\n",
        "  }"
      ],
      "metadata": {
        "id": "Z0xtbPKyO3Mm"
      },
      "execution_count": 41,
      "outputs": []
    },
    {
      "cell_type": "code",
      "source": [
        "training_args = TrainingArguments(\n",
        "    output_dir='./models',          # выходная директория\n",
        "    num_train_epochs=3,              # количество эпох\n",
        "    save_strategy='epoch',             # стратегия сохранения моделей\n",
        "    per_device_train_batch_size=8,  # batch size per device during training\n",
        "    per_device_eval_batch_size=8,   # batch size for evaluation\n",
        "    evaluate_during_training=True,\n",
        "    do_train=True,\n",
        "    do_eval=True,\n",
        "    gradient_accumulation_steps=16,\n",
        "    logging_steps=650,\n",
        "    seed=42,\n",
        "    eval_steps=650,\n",
        "    save_steps=1000,               # сохранять каждые 1,000 шагов\n",
        "    logging_dir='./logs',            # directory for storing logs\n",
        "    load_best_model_at_end=True,     # load the best model when finished training (default metric is loss)\n",
        "    # but you can specify `metric_for_best_model` argument to change to accuracy or other metric\n",
        "    evaluation_strategy=\"steps\",     # evaluate each `logging_steps`\n",
        ")\n",
        "\n",
        "trainer = Trainer(\n",
        "    model=model,\n",
        "    args=training_args,\n",
        "    train_dataset=train_ds,\n",
        "    eval_dataset=valid_ds,\n",
        "    compute_metrics=compute_metrics     # the callback that computes metrics of interest\n",
        ") # https://huggingface.co/docs/transformers/main_classes/trainer"
      ],
      "metadata": {
        "id": "A6s8x4fC5mc_",
        "colab": {
          "base_uri": "https://localhost:8080/",
          "height": 540
        },
        "outputId": "355af4f0-d9ea-45b1-9675-40ddfae4be6a"
      },
      "execution_count": 42,
      "outputs": [
        {
          "output_type": "error",
          "ename": "TypeError",
          "evalue": "TrainingArguments.__init__() got an unexpected keyword argument 'train_batch_size'. Did you mean 'auto_find_batch_size'?",
          "traceback": [
            "\u001b[31m---------------------------------------------------------------------------\u001b[39m",
            "\u001b[31mTypeError\u001b[39m                                 Traceback (most recent call last)",
            "\u001b[36mCell\u001b[39m\u001b[36m \u001b[39m\u001b[32mIn[42]\u001b[39m\u001b[32m, line 1\u001b[39m\n\u001b[32m----> \u001b[39m\u001b[32m1\u001b[39m training_args = TrainingArguments(\n\u001b[32m      2\u001b[39m     output_dir=\u001b[33m'\u001b[39m\u001b[33m./models\u001b[39m\u001b[33m'\u001b[39m,          \u001b[38;5;66;03m# выходная директория\u001b[39;00m\n\u001b[32m      3\u001b[39m     num_train_epochs=\u001b[32m3\u001b[39m,              \u001b[38;5;66;03m# количество эпох\u001b[39;00m\n\u001b[32m      4\u001b[39m     save_strategy=\u001b[33m'\u001b[39m\u001b[33mepoch\u001b[39m\u001b[33m'\u001b[39m,             \u001b[38;5;66;03m# стратегия сохранения моделей\u001b[39;00m\n\u001b[32m      5\u001b[39m     train_batch_size=\u001b[32m8\u001b[39m,  \u001b[38;5;66;03m# batch size per device during training\u001b[39;00m\n\u001b[32m      6\u001b[39m     eval_batch_size=\u001b[32m8\u001b[39m,   \u001b[38;5;66;03m# batch size for evaluation\u001b[39;00m\n\u001b[32m      7\u001b[39m     evaluate_during_training=\u001b[38;5;28;01mTrue\u001b[39;00m,\n\u001b[32m      8\u001b[39m     do_train=\u001b[38;5;28;01mTrue\u001b[39;00m,\n\u001b[32m      9\u001b[39m     do_eval=\u001b[38;5;28;01mTrue\u001b[39;00m,\n\u001b[32m     10\u001b[39m     gradient_accumulation_steps=\u001b[32m16\u001b[39m,\n\u001b[32m     11\u001b[39m     logging_steps=\u001b[32m650\u001b[39m,\n\u001b[32m     12\u001b[39m     seed=\u001b[32m42\u001b[39m,\n\u001b[32m     13\u001b[39m     eval_steps=\u001b[32m650\u001b[39m,\n\u001b[32m     14\u001b[39m     save_steps=\u001b[32m1000\u001b[39m,               \u001b[38;5;66;03m# сохранять каждые 1,000 шагов\u001b[39;00m\n\u001b[32m     15\u001b[39m     logging_dir=\u001b[33m'\u001b[39m\u001b[33m./logs\u001b[39m\u001b[33m'\u001b[39m,            \u001b[38;5;66;03m# directory for storing logs\u001b[39;00m\n\u001b[32m     16\u001b[39m     load_best_model_at_end=\u001b[38;5;28;01mTrue\u001b[39;00m,     \u001b[38;5;66;03m# load the best model when finished training (default metric is loss)\u001b[39;00m\n\u001b[32m     17\u001b[39m     \u001b[38;5;66;03m# but you can specify `metric_for_best_model` argument to change to accuracy or other metric\u001b[39;00m\n\u001b[32m     18\u001b[39m     evaluation_strategy=\u001b[33m\"\u001b[39m\u001b[33msteps\u001b[39m\u001b[33m\"\u001b[39m,     \u001b[38;5;66;03m# evaluate each `logging_steps`\u001b[39;00m\n\u001b[32m     19\u001b[39m )\n\u001b[32m     21\u001b[39m trainer = Trainer(\n\u001b[32m     22\u001b[39m     model=model,\n\u001b[32m     23\u001b[39m     args=training_args,\n\u001b[32m   (...)\u001b[39m\u001b[32m     26\u001b[39m     compute_metrics=compute_metrics     \u001b[38;5;66;03m# the callback that computes metrics of interest\u001b[39;00m\n\u001b[32m     27\u001b[39m )\n",
            "\u001b[31mTypeError\u001b[39m: TrainingArguments.__init__() got an unexpected keyword argument 'train_batch_size'. Did you mean 'auto_find_batch_size'?"
          ]
        }
      ]
    },
    {
      "cell_type": "code",
      "source": [
        "# train the model\n",
        "trainer.train()"
      ],
      "metadata": {
        "colab": {
          "base_uri": "https://localhost:8080/",
          "height": 190
        },
        "id": "B-rHfrLQO3Ji",
        "outputId": "c23e2325-36ed-4d4e-a2c7-3bb4898cb18a"
      },
      "execution_count": 39,
      "outputs": [
        {
          "output_type": "display_data",
          "data": {
            "text/plain": [
              "<IPython.core.display.HTML object>"
            ],
            "text/html": [
              "\n",
              "    <div>\n",
              "      \n",
              "      <progress value='1049' max='11712' style='width:300px; height:20px; vertical-align: middle;'></progress>\n",
              "      [ 1049/11712 02:43 < 27:41, 6.42 it/s, Epoch 0.27/3]\n",
              "    </div>\n",
              "    <table border=\"1\" class=\"dataframe\">\n",
              "  <thead>\n",
              " <tr style=\"text-align: left;\">\n",
              "      <th>Step</th>\n",
              "      <th>Training Loss</th>\n",
              "    </tr>\n",
              "  </thead>\n",
              "  <tbody>\n",
              "    <tr>\n",
              "      <td>500</td>\n",
              "      <td>0.881800</td>\n",
              "    </tr>\n",
              "    <tr>\n",
              "      <td>1000</td>\n",
              "      <td>0.917800</td>\n",
              "    </tr>\n",
              "  </tbody>\n",
              "</table><p>"
            ]
          },
          "metadata": {}
        },
        {
          "output_type": "stream",
          "name": "stderr",
          "text": [
            "\n",
            "KeyboardInterrupt\n",
            "\n"
          ]
        }
      ]
    },
    {
      "cell_type": "code",
      "source": [],
      "metadata": {
        "id": "IeLdy6hwO3FX"
      },
      "execution_count": null,
      "outputs": []
    },
    {
      "cell_type": "code",
      "source": [],
      "metadata": {
        "id": "lh-edgAX5mYe"
      },
      "execution_count": null,
      "outputs": []
    },
    {
      "cell_type": "code",
      "source": [],
      "metadata": {
        "id": "dm25_jElyFTs"
      },
      "execution_count": null,
      "outputs": []
    },
    {
      "cell_type": "code",
      "source": [
        "model.summary()"
      ],
      "metadata": {
        "colab": {
          "base_uri": "https://localhost:8080/"
        },
        "id": "bnhPFJCGsUUr",
        "outputId": "cc1dc3cd-5bca-48e4-9a0c-de67210cf77a"
      },
      "execution_count": null,
      "outputs": [
        {
          "output_type": "stream",
          "name": "stdout",
          "text": [
            "Model: \"tf_bert_for_sequence_classification\"\n",
            "_________________________________________________________________\n",
            " Layer (type)                Output Shape              Param #   \n",
            "=================================================================\n",
            " bert (TFBertMainLayer)      multiple                  109482240 \n",
            "                                                                 \n",
            " dropout_37 (Dropout)        multiple                  0 (unused)\n",
            "                                                                 \n",
            " classifier (Dense)          multiple                  1538      \n",
            "                                                                 \n",
            "=================================================================\n",
            "Total params: 109483778 (417.65 MB)\n",
            "Trainable params: 109483778 (417.65 MB)\n",
            "Non-trainable params: 0 (0.00 Byte)\n",
            "_________________________________________________________________\n"
          ]
        }
      ]
    },
    {
      "cell_type": "code",
      "source": [
        "# Обучение модели на тренировочных данных\n",
        "history = model.fit(\n",
        "    [X_train_encoded['input_ids'], X_train_encoded['token_type_ids'],\n",
        "     X_train_encoded['attention_mask']], y_train,  # тренировочные данные\n",
        "    validation_data=([X_val_encoded['input_ids'], X_val_encoded['token_type_ids'],\n",
        "                      X_val_encoded['attention_mask']],y_val),  # проверочные данные\n",
        "    batch_size=32,  # размер выборки\n",
        "    epochs=4)  # количество эпох обучения"
      ],
      "metadata": {
        "id": "lAabdonIirV6",
        "colab": {
          "base_uri": "https://localhost:8080/"
        },
        "outputId": "00bea9d1-b28e-45f9-d62e-4a41132f275d"
      },
      "execution_count": null,
      "outputs": [
        {
          "output_type": "stream",
          "name": "stdout",
          "text": [
            "Epoch 1/4\n",
            "   5/1094 [..............................] - ETA: 22:51:11 - loss: 4.6549 - accuracy: 0.4563"
          ]
        }
      ]
    },
    {
      "cell_type": "code",
      "source": [
        "# Тестирование модели на тестовых данных\n",
        "test_loss, test_accuracy = model.evaluate(\n",
        "    [X_test_encoded['input_ids'], X_test_encoded['token_type_ids'],\n",
        "     X_test_encoded['attention_mask']], y_test)\n",
        "print(f'Потери (loss) на тестовой выборке: {test_loss}, точность (accuracy) на тестовой выборке: {test_accuracy}')"
      ],
      "metadata": {
        "id": "QMVFV_nBirSR"
      },
      "execution_count": null,
      "outputs": []
    },
    {
      "cell_type": "code",
      "source": [
        "# Путь для сохранения модели на Google-Drive\n",
        "model.save_pretrained('/content/Model')"
      ],
      "metadata": {
        "id": "pHaVRMApirOJ"
      },
      "execution_count": null,
      "outputs": []
    },
    {
      "cell_type": "code",
      "source": [
        "# Загрузка токенизатора с Google-диска\n",
        "bert_tokenizer = BertTokenizer.from_pretrained('/content/Tokenizer')\n",
        "\n",
        "# Загрузка модели с Google-Drive\n",
        "bert_model = TFBertForSequenceClassification.from_pretrained('/content/Model')"
      ],
      "metadata": {
        "id": "yX2uhrNwirJ4"
      },
      "execution_count": null,
      "outputs": []
    },
    {
      "cell_type": "code",
      "source": [
        "pred = bert_model.predict(\n",
        "    [X_test_encoded['input_ids'], X_test_encoded['token_type_ids'], X_test_encoded['attention_mask']])\n",
        "\n",
        "# pred is of type TFSequenceClassifierOutput\n",
        "logits = pred.logits\n",
        "\n",
        "# Use argmax along the appropriate axis to get the predicted labels\n",
        "pred_labels = tf.argmax(logits, axis=1)\n",
        "\n",
        "# Convert the predicted labels to a NumPy array\n",
        "pred_labels = pred_labels.numpy()\n",
        "\n",
        "label = {1: 'Положительный', 0: 'Отрицательный'}\n",
        "\n",
        "# Map the predicted labels to their corresponding strings using the label dictionary\n",
        "pred_labels = [label[i] for i in pred_labels]\n",
        "real_labels = [label[i] for i in y_test]\n",
        "\n",
        "print('Предсказанный класс:', pred_labels[:10])\n",
        "print('Реальный класс     :', real_labels[:10])"
      ],
      "metadata": {
        "id": "Xg8468gcHMuq"
      },
      "execution_count": null,
      "outputs": []
    },
    {
      "cell_type": "code",
      "source": [
        "print(\"Classification Report: \\n\", classification_report(real_labels, pred_labels))"
      ],
      "metadata": {
        "id": "d7fdmuzaHMq7"
      },
      "execution_count": null,
      "outputs": []
    },
    {
      "cell_type": "code",
      "source": [
        "def plot_confusion_matrix(cm, classes):\n",
        "    cm = cm.astype('float') / cm.sum(axis=1)[:, np.newaxis]\n",
        "    plt.imshow(cm, interpolation='nearest', cmap='PiYG')\n",
        "    plt.title('Матрица ошибок', fontsize=20, fontweight='light', fontfamily='serif', color='white')\n",
        "    plt.colorbar()\n",
        "    tick_marks = np.arange(len(classes))\n",
        "    plt.xticks(tick_marks, classes, fontsize=15, fontweight='light', fontfamily='serif', color='white')\n",
        "    plt.yticks(tick_marks, classes, fontsize=15, fontweight='light', fontfamily='serif', color='white')\n",
        "    fmt = '.2f'\n",
        "    thresh = cm.max() / 2.\n",
        "    for i, j in itertools.product(range(cm.shape[0]), range(cm.shape[1])):\n",
        "        plt.text(j, i, format(cm[i, j], fmt),\n",
        "                 horizontalalignment=\"center\",\n",
        "                 color=\"white\")\n",
        "\n",
        "    plt.ylabel('Реальный класс', fontsize=18, fontweight='light', fontfamily='serif', color='white')\n",
        "    plt.xlabel('Предсказанный класс', fontsize=18, fontweight='light', fontfamily='serif', color='white')"
      ],
      "metadata": {
        "id": "vNb5lUN41gBu"
      },
      "execution_count": null,
      "outputs": []
    },
    {
      "cell_type": "code",
      "source": [
        "conf_matrix = confusion_matrix(real_labels, pred_labels)\n",
        "plt.figure(figsize=(10,10))\n",
        "plot_confusion_matrix(conf_matrix, classes=y_test.unique())\n",
        "plt.show()"
      ],
      "metadata": {
        "id": "KkJN2Zb21K-G"
      },
      "execution_count": null,
      "outputs": []
    },
    {
      "cell_type": "code",
      "source": [
        "def get_predict(review, Tokenizer=bert_tokenizer, Model=bert_model):\n",
        "    # Convert Review to a list if it's not already a list\n",
        "    if not isinstance(review, list):\n",
        "        review = [review]\n",
        "\n",
        "    Input_ids, Token_type_ids, Attention_mask = Tokenizer.batch_encode_plus(review,\n",
        "                                                                             padding=True,\n",
        "                                                                             truncation=True,\n",
        "                                                                             max_length=128,\n",
        "                                                                             return_tensors='tf').values()\n",
        "    prediction = Model.predict([Input_ids, Token_type_ids, Attention_mask])\n",
        "\n",
        "    # Use argmax along the appropriate axis to get the predicted labels\n",
        "    pred_labels = tf.argmax(prediction.logits, axis=1)\n",
        "\n",
        "    # Convert the TensorFlow tensor to a NumPy array and then to a list to get the predicted sentiment labels\n",
        "    pred_labels = [label[i] for i in pred_labels.numpy().tolist()]\n",
        "    return pred_labels"
      ],
      "metadata": {
        "id": "8p8KZ7SyHPjC"
      },
      "execution_count": null,
      "outputs": []
    },
    {
      "cell_type": "code",
      "source": [
        "review = \"\"\"French film 'Magnificent Trip', released in 2022. It is a very touching film, in which an old lady goes with\n",
        "            a taxi driver to a nursing home. During the trip, she tells the taxi driver about both difficult life situations\n",
        "            and the most memorable moments of the 92-year-old lady's life. The film is worthy of an award, it has only\n",
        "            a few actors, but the level of acting is high, and there are also beautiful views of Paris.\"\"\"\n",
        "get_predict(review)"
      ],
      "metadata": {
        "id": "9lJPCwUVHPgR"
      },
      "execution_count": null,
      "outputs": []
    }
  ]
}